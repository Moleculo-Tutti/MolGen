{
 "cells": [
  {
   "cell_type": "code",
   "execution_count": 11,
   "metadata": {},
   "outputs": [],
   "source": [
    "import numpy as np\n",
    "import torch.nn.functional as F\n",
    "from torch.optim import Adam\n",
    "import torch\n",
    "import time\n",
    "import random\n",
    "import copy\n",
    "import os\n",
    "\n",
    "import sys\n"
   ]
  },
  {
   "cell_type": "code",
   "execution_count": 17,
   "metadata": {},
   "outputs": [],
   "source": [
    "cwd = os.getcwd()\n",
    "parent_dir = os.path.dirname(cwd)\n",
    "sys.path.append(parent_dir)\n",
    "from DataPipeline.preprocessing import node_encoder\n",
    "from models import Model_GNNs\n",
    "from torch_geometric.data import Data, Batch\n",
    "import torch_geometric"
   ]
  },
  {
   "cell_type": "code",
   "execution_count": 18,
   "metadata": {},
   "outputs": [],
   "source": [
    "def create_torch_graph_from_one_atom(atom, edge_size, encoding_option='charged'):\n",
    "    num_atom = int(atom)\n",
    "\n",
    "    atom_attribute = node_encoder(num_atom, encoding_option=encoding_option)\n",
    "    # Create graph\n",
    "    graph = torch_geometric.data.Data(x=atom_attribute.view(1, -1), edge_index=torch.empty((2, 0), dtype=torch.long), edge_attr=torch.empty((0, edge_size)))\n",
    "\n",
    "    return graph\n",
    "\n",
    "def sample_first_atom(encoding = 'charged'):\n",
    "    if encoding == 'reduced' or encoding == 'charged':\n",
    "        prob_dict = {'60': 0.7385023585929047, \n",
    "                    '80': 0.1000143018658728, \n",
    "                    '70': 0.12239949901813525, \n",
    "                    '90': 0.013786373862576426, \n",
    "                    '160': 0.017856330814654413,\n",
    "                    '170': 0.007441135845856433}\n",
    "    if encoding == 'polymer':\n",
    "        prob_dict = {'60': 0.7489344573582472,\n",
    "                    '70': 0.0561389266682314,\n",
    "                    '80': 0.0678638375933265,\n",
    "                    '160': 0.08724385192820308,\n",
    "                    '90': 0.032130486119902095,\n",
    "                    '140': 0.007666591133009364,\n",
    "                    '150': 2.184919908044154e-05}\n",
    "\n",
    "    \n",
    "    return random.choices(list(prob_dict.keys()), weights=list(prob_dict.values()))[0]"
   ]
  },
  {
   "cell_type": "code",
   "execution_count": 21,
   "metadata": {},
   "outputs": [],
   "source": [
    "batch_size = 5\n",
    "edge_size = 3\n",
    "true_graphs = [create_torch_graph_from_one_atom(sample_first_atom(), edge_size=edge_size, encoding_option='charged')\n",
    "                            for i in range(batch_size)]"
   ]
  },
  {
   "cell_type": "code",
   "execution_count": 22,
   "metadata": {},
   "outputs": [
    {
     "data": {
      "text/plain": [
       "[Data(x=[1, 13], edge_index=[2, 0], edge_attr=[0, 3]),\n",
       " Data(x=[1, 13], edge_index=[2, 0], edge_attr=[0, 3]),\n",
       " Data(x=[1, 13], edge_index=[2, 0], edge_attr=[0, 3]),\n",
       " Data(x=[1, 13], edge_index=[2, 0], edge_attr=[0, 3]),\n",
       " Data(x=[1, 13], edge_index=[2, 0], edge_attr=[0, 3])]"
      ]
     },
     "execution_count": 22,
     "metadata": {},
     "output_type": "execute_result"
    }
   ],
   "source": [
    "true_graphs"
   ]
  }
 ],
 "metadata": {
  "kernelspec": {
   "display_name": "my_env",
   "language": "python",
   "name": "python3"
  },
  "language_info": {
   "codemirror_mode": {
    "name": "ipython",
    "version": 3
   },
   "file_extension": ".py",
   "mimetype": "text/x-python",
   "name": "python",
   "nbconvert_exporter": "python",
   "pygments_lexer": "ipython3",
   "version": "3.10.10"
  },
  "orig_nbformat": 4
 },
 "nbformat": 4,
 "nbformat_minor": 2
}
