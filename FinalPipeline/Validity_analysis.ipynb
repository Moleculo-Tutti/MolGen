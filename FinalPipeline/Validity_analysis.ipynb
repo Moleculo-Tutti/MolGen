{
 "cells": [
  {
   "cell_type": "code",
   "execution_count": 1,
   "metadata": {},
   "outputs": [],
   "source": [
    "import pandas as pd\n",
    "from pathlib import Path\n",
    "import random\n",
    "import torch_geometric\n",
    "import json"
   ]
  },
  {
   "cell_type": "code",
   "execution_count": 2,
   "metadata": {},
   "outputs": [],
   "source": [
    "import sys\n",
    "import os\n",
    "cwd = os.getcwd()\n",
    "parent_dir = os.path.dirname(cwd)\n",
    "parent_parent_dir = os.path.dirname(parent_dir)\n",
    "\n",
    "sys.path.append(parent_dir)\n",
    "sys.path.append(parent_parent_dir)\n",
    "\n",
    "from utils import GenerationModule, MolGen, tensor_to_smiles"
   ]
  },
  {
   "cell_type": "code",
   "execution_count": 3,
   "metadata": {},
   "outputs": [],
   "source": [
    "# read the configs\n",
    "name1 = 'GNN1_charged_kekulized'\n",
    "epoch1 = 0\n",
    "name2 = 'GNN2_charged_kekulized'\n",
    "epoch2 = 0\n",
    "name3 = 'GNN3_charged_kekulized'\n",
    "epoch3 = 0\n",
    "config1_path = Path('..') / 'Train' / 'GNN1' / 'config_GNN1.json'\n",
    "config2_path = Path('..') / 'Train' / 'GNN2' / 'config_GNN2.json'\n",
    "config3_path = Path('..') / 'Train' / 'GNN3' / 'config_GNN3.json'\n",
    "\n",
    "# Read the config as a json\n",
    "\n",
    "with open(config1_path, 'r') as f:\n",
    "    config1 = json.load(f)\n",
    "with open(config2_path, 'r') as f:\n",
    "    config2 = json.load(f)\n",
    "with open(config3_path, 'r') as f:\n",
    "    config3 = json.load(f)\n"
   ]
  },
  {
   "cell_type": "code",
   "execution_count": 4,
   "metadata": {},
   "outputs": [],
   "source": [
    "GNN1_path = Path('.') / 'models/trained_models/GNN1_checkpoint_5.pt'\n",
    "GNN2_path = Path('.') / 'models/trained_models/GNN2_checkpoint_2.pt'\n",
    "GNN3_path = Path('.') / 'models/trained_models/GNN3_checkpoint_5.pt'\n",
    "\n",
    "module = GenerationModule(config1=config1, config2=config2, config3=config3, encoding_size = 13, edge_size = 3, pathGNN1=GNN1_path, pathGNN2=GNN2_path, pathGNN3=GNN3_path, checking_mode=True)"
   ]
  },
  {
   "cell_type": "code",
   "execution_count": 5,
   "metadata": {},
   "outputs": [
    {
     "name": "stderr",
     "output_type": "stream",
     "text": [
      " 40%|███▉      | 119/300 [01:08<01:30,  1.99it/s][10:45:06] Explicit valence for atom # 1 N, 4, is greater than permitted\n",
      "100%|██████████| 300/300 [02:51<00:00,  1.75it/s]\n"
     ]
    },
    {
     "data": {
      "text/plain": [
       "[DataBatch(x=[13, 13], edge_index=[2, 26], edge_attr=[26, 3], batch=[13], ptr=[2]),\n",
       " DataBatch(x=[22, 13], edge_index=[2, 46], edge_attr=[46, 3], batch=[22], ptr=[2]),\n",
       " DataBatch(x=[25, 13], edge_index=[2, 56], edge_attr=[56, 3], batch=[25], ptr=[2]),\n",
       " DataBatch(x=[24, 13], edge_index=[2, 50], edge_attr=[50, 3], batch=[24], ptr=[2]),\n",
       " DataBatch(x=[15, 13], edge_index=[2, 30], edge_attr=[30, 3], batch=[15], ptr=[2]),\n",
       " DataBatch(x=[25, 13], edge_index=[2, 54], edge_attr=[54, 3], batch=[25], ptr=[2]),\n",
       " DataBatch(x=[14, 13], edge_index=[2, 30], edge_attr=[30, 3], batch=[14], ptr=[2]),\n",
       " DataBatch(x=[23, 13], edge_index=[2, 50], edge_attr=[50, 3], batch=[23], ptr=[2]),\n",
       " DataBatch(x=[19, 13], edge_index=[2, 40], edge_attr=[40, 3], batch=[19], ptr=[2]),\n",
       " DataBatch(x=[21, 13], edge_index=[2, 48], edge_attr=[48, 3], batch=[21], ptr=[2]),\n",
       " DataBatch(x=[19, 13], edge_index=[2, 38], edge_attr=[38, 3], batch=[19], ptr=[2]),\n",
       " DataBatch(x=[22, 13], edge_index=[2, 46], edge_attr=[46, 3], batch=[22], ptr=[2]),\n",
       " DataBatch(x=[22, 13], edge_index=[2, 46], edge_attr=[46, 3], batch=[22], ptr=[2]),\n",
       " DataBatch(x=[26, 13], edge_index=[2, 54], edge_attr=[54, 3], batch=[26], ptr=[2]),\n",
       " DataBatch(x=[22, 13], edge_index=[2, 46], edge_attr=[46, 3], batch=[22], ptr=[2]),\n",
       " DataBatch(x=[27, 13], edge_index=[2, 58], edge_attr=[58, 3], batch=[27], ptr=[2]),\n",
       " DataBatch(x=[23, 13], edge_index=[2, 48], edge_attr=[48, 3], batch=[23], ptr=[2]),\n",
       " DataBatch(x=[18, 13], edge_index=[2, 38], edge_attr=[38, 3], batch=[18], ptr=[2]),\n",
       " DataBatch(x=[29, 13], edge_index=[2, 64], edge_attr=[64, 3], batch=[29], ptr=[2]),\n",
       " DataBatch(x=[14, 13], edge_index=[2, 32], edge_attr=[32, 3], batch=[14], ptr=[2]),\n",
       " DataBatch(x=[23, 13], edge_index=[2, 50], edge_attr=[50, 3], batch=[23], ptr=[2]),\n",
       " DataBatch(x=[24, 13], edge_index=[2, 52], edge_attr=[52, 3], batch=[24], ptr=[2]),\n",
       " DataBatch(x=[25, 13], edge_index=[2, 52], edge_attr=[52, 3], batch=[25], ptr=[2]),\n",
       " DataBatch(x=[23, 13], edge_index=[2, 50], edge_attr=[50, 3], batch=[23], ptr=[2]),\n",
       " DataBatch(x=[24, 13], edge_index=[2, 52], edge_attr=[52, 3], batch=[24], ptr=[2]),\n",
       " DataBatch(x=[22, 13], edge_index=[2, 46], edge_attr=[46, 3], batch=[22], ptr=[2]),\n",
       " DataBatch(x=[16, 13], edge_index=[2, 32], edge_attr=[32, 3], batch=[16], ptr=[2]),\n",
       " DataBatch(x=[22, 13], edge_index=[2, 48], edge_attr=[48, 3], batch=[22], ptr=[2]),\n",
       " DataBatch(x=[22, 13], edge_index=[2, 48], edge_attr=[48, 3], batch=[22], ptr=[2]),\n",
       " DataBatch(x=[18, 13], edge_index=[2, 38], edge_attr=[38, 3], batch=[18], ptr=[2]),\n",
       " DataBatch(x=[9, 13], edge_index=[2, 18], edge_attr=[18, 3], batch=[9], ptr=[2]),\n",
       " DataBatch(x=[28, 13], edge_index=[2, 60], edge_attr=[60, 3], batch=[28], ptr=[2]),\n",
       " DataBatch(x=[25, 13], edge_index=[2, 56], edge_attr=[56, 3], batch=[25], ptr=[2]),\n",
       " DataBatch(x=[25, 13], edge_index=[2, 56], edge_attr=[56, 3], batch=[25], ptr=[2]),\n",
       " DataBatch(x=[21, 13], edge_index=[2, 42], edge_attr=[42, 3], batch=[21], ptr=[2]),\n",
       " DataBatch(x=[27, 13], edge_index=[2, 58], edge_attr=[58, 3], batch=[27], ptr=[2]),\n",
       " DataBatch(x=[32, 13], edge_index=[2, 72], edge_attr=[72, 3], batch=[32], ptr=[2]),\n",
       " DataBatch(x=[25, 13], edge_index=[2, 54], edge_attr=[54, 3], batch=[25], ptr=[2]),\n",
       " DataBatch(x=[24, 13], edge_index=[2, 52], edge_attr=[52, 3], batch=[24], ptr=[2]),\n",
       " DataBatch(x=[15, 13], edge_index=[2, 30], edge_attr=[30, 3], batch=[15], ptr=[2]),\n",
       " DataBatch(x=[16, 13], edge_index=[2, 32], edge_attr=[32, 3], batch=[16], ptr=[2]),\n",
       " DataBatch(x=[19, 13], edge_index=[2, 40], edge_attr=[40, 3], batch=[19], ptr=[2]),\n",
       " DataBatch(x=[23, 13], edge_index=[2, 48], edge_attr=[48, 3], batch=[23], ptr=[2]),\n",
       " DataBatch(x=[19, 13], edge_index=[2, 40], edge_attr=[40, 3], batch=[19], ptr=[2]),\n",
       " DataBatch(x=[23, 13], edge_index=[2, 50], edge_attr=[50, 3], batch=[23], ptr=[2]),\n",
       " DataBatch(x=[21, 13], edge_index=[2, 44], edge_attr=[44, 3], batch=[21], ptr=[2]),\n",
       " DataBatch(x=[17, 13], edge_index=[2, 36], edge_attr=[36, 3], batch=[17], ptr=[2]),\n",
       " DataBatch(x=[27, 13], edge_index=[2, 60], edge_attr=[60, 3], batch=[27], ptr=[2]),\n",
       " DataBatch(x=[30, 13], edge_index=[2, 66], edge_attr=[66, 3], batch=[30], ptr=[2]),\n",
       " DataBatch(x=[23, 13], edge_index=[2, 48], edge_attr=[48, 3], batch=[23], ptr=[2]),\n",
       " DataBatch(x=[34, 13], edge_index=[2, 72], edge_attr=[72, 3], batch=[34], ptr=[2]),\n",
       " DataBatch(x=[26, 13], edge_index=[2, 56], edge_attr=[56, 3], batch=[26], ptr=[2]),\n",
       " DataBatch(x=[18, 13], edge_index=[2, 38], edge_attr=[38, 3], batch=[18], ptr=[2]),\n",
       " DataBatch(x=[27, 13], edge_index=[2, 58], edge_attr=[58, 3], batch=[27], ptr=[2]),\n",
       " DataBatch(x=[23, 13], edge_index=[2, 50], edge_attr=[50, 3], batch=[23], ptr=[2]),\n",
       " DataBatch(x=[22, 13], edge_index=[2, 48], edge_attr=[48, 3], batch=[22], ptr=[2]),\n",
       " DataBatch(x=[18, 13], edge_index=[2, 38], edge_attr=[38, 3], batch=[18], ptr=[2]),\n",
       " DataBatch(x=[20, 13], edge_index=[2, 42], edge_attr=[42, 3], batch=[20], ptr=[2]),\n",
       " DataBatch(x=[25, 13], edge_index=[2, 54], edge_attr=[54, 3], batch=[25], ptr=[2]),\n",
       " DataBatch(x=[30, 13], edge_index=[2, 66], edge_attr=[66, 3], batch=[30], ptr=[2]),\n",
       " DataBatch(x=[15, 13], edge_index=[2, 30], edge_attr=[30, 3], batch=[15], ptr=[2]),\n",
       " DataBatch(x=[21, 13], edge_index=[2, 42], edge_attr=[42, 3], batch=[21], ptr=[2]),\n",
       " DataBatch(x=[16, 13], edge_index=[2, 34], edge_attr=[34, 3], batch=[16], ptr=[2]),\n",
       " DataBatch(x=[19, 13], edge_index=[2, 42], edge_attr=[42, 3], batch=[19], ptr=[2]),\n",
       " DataBatch(x=[25, 13], edge_index=[2, 52], edge_attr=[52, 3], batch=[25], ptr=[2]),\n",
       " DataBatch(x=[24, 13], edge_index=[2, 52], edge_attr=[52, 3], batch=[24], ptr=[2]),\n",
       " DataBatch(x=[18, 13], edge_index=[2, 38], edge_attr=[38, 3], batch=[18], ptr=[2]),\n",
       " DataBatch(x=[16, 13], edge_index=[2, 32], edge_attr=[32, 3], batch=[16], ptr=[2]),\n",
       " DataBatch(x=[22, 13], edge_index=[2, 46], edge_attr=[46, 3], batch=[22], ptr=[2]),\n",
       " DataBatch(x=[20, 13], edge_index=[2, 42], edge_attr=[42, 3], batch=[20], ptr=[2]),\n",
       " DataBatch(x=[22, 13], edge_index=[2, 46], edge_attr=[46, 3], batch=[22], ptr=[2]),\n",
       " DataBatch(x=[18, 13], edge_index=[2, 36], edge_attr=[36, 3], batch=[18], ptr=[2]),\n",
       " DataBatch(x=[26, 13], edge_index=[2, 56], edge_attr=[56, 3], batch=[26], ptr=[2]),\n",
       " DataBatch(x=[17, 13], edge_index=[2, 36], edge_attr=[36, 3], batch=[17], ptr=[2]),\n",
       " DataBatch(x=[20, 13], edge_index=[2, 46], edge_attr=[46, 3], batch=[20], ptr=[2]),\n",
       " DataBatch(x=[27, 13], edge_index=[2, 58], edge_attr=[58, 3], batch=[27], ptr=[2]),\n",
       " DataBatch(x=[37, 13], edge_index=[2, 82], edge_attr=[82, 3], batch=[37], ptr=[2]),\n",
       " DataBatch(x=[24, 13], edge_index=[2, 54], edge_attr=[54, 3], batch=[24], ptr=[2]),\n",
       " DataBatch(x=[21, 13], edge_index=[2, 44], edge_attr=[44, 3], batch=[21], ptr=[2]),\n",
       " DataBatch(x=[24, 13], edge_index=[2, 50], edge_attr=[50, 3], batch=[24], ptr=[2]),\n",
       " DataBatch(x=[13, 13], edge_index=[2, 24], edge_attr=[24, 3], batch=[13], ptr=[2]),\n",
       " DataBatch(x=[27, 13], edge_index=[2, 60], edge_attr=[60, 3], batch=[27], ptr=[2]),\n",
       " DataBatch(x=[21, 13], edge_index=[2, 44], edge_attr=[44, 3], batch=[21], ptr=[2]),\n",
       " DataBatch(x=[9, 13], edge_index=[2, 18], edge_attr=[18, 3], batch=[9], ptr=[2]),\n",
       " DataBatch(x=[18, 13], edge_index=[2, 38], edge_attr=[38, 3], batch=[18], ptr=[2]),\n",
       " DataBatch(x=[21, 13], edge_index=[2, 44], edge_attr=[44, 3], batch=[21], ptr=[2]),\n",
       " DataBatch(x=[35, 13], edge_index=[2, 78], edge_attr=[78, 3], batch=[35], ptr=[2]),\n",
       " DataBatch(x=[25, 13], edge_index=[2, 52], edge_attr=[52, 3], batch=[25], ptr=[2]),\n",
       " DataBatch(x=[19, 13], edge_index=[2, 40], edge_attr=[40, 3], batch=[19], ptr=[2]),\n",
       " DataBatch(x=[22, 13], edge_index=[2, 48], edge_attr=[48, 3], batch=[22], ptr=[2]),\n",
       " DataBatch(x=[33, 13], edge_index=[2, 72], edge_attr=[72, 3], batch=[33], ptr=[2]),\n",
       " DataBatch(x=[17, 13], edge_index=[2, 36], edge_attr=[36, 3], batch=[17], ptr=[2]),\n",
       " DataBatch(x=[28, 13], edge_index=[2, 60], edge_attr=[60, 3], batch=[28], ptr=[2]),\n",
       " DataBatch(x=[28, 13], edge_index=[2, 60], edge_attr=[60, 3], batch=[28], ptr=[2]),\n",
       " DataBatch(x=[33, 13], edge_index=[2, 72], edge_attr=[72, 3], batch=[33], ptr=[2]),\n",
       " DataBatch(x=[22, 13], edge_index=[2, 46], edge_attr=[46, 3], batch=[22], ptr=[2]),\n",
       " DataBatch(x=[20, 13], edge_index=[2, 44], edge_attr=[44, 3], batch=[20], ptr=[2]),\n",
       " DataBatch(x=[18, 13], edge_index=[2, 36], edge_attr=[36, 3], batch=[18], ptr=[2]),\n",
       " DataBatch(x=[21, 13], edge_index=[2, 44], edge_attr=[44, 3], batch=[21], ptr=[2]),\n",
       " DataBatch(x=[18, 13], edge_index=[2, 38], edge_attr=[38, 3], batch=[18], ptr=[2]),\n",
       " DataBatch(x=[18, 13], edge_index=[2, 38], edge_attr=[38, 3], batch=[18], ptr=[2]),\n",
       " DataBatch(x=[20, 13], edge_index=[2, 40], edge_attr=[40, 3], batch=[20], ptr=[2]),\n",
       " DataBatch(x=[22, 13], edge_index=[2, 46], edge_attr=[46, 3], batch=[22], ptr=[2]),\n",
       " DataBatch(x=[24, 13], edge_index=[2, 52], edge_attr=[52, 3], batch=[24], ptr=[2]),\n",
       " DataBatch(x=[19, 13], edge_index=[2, 42], edge_attr=[42, 3], batch=[19], ptr=[2]),\n",
       " DataBatch(x=[22, 13], edge_index=[2, 48], edge_attr=[48, 3], batch=[22], ptr=[2]),\n",
       " DataBatch(x=[24, 13], edge_index=[2, 52], edge_attr=[52, 3], batch=[24], ptr=[2]),\n",
       " DataBatch(x=[26, 13], edge_index=[2, 56], edge_attr=[56, 3], batch=[26], ptr=[2]),\n",
       " DataBatch(x=[21, 13], edge_index=[2, 46], edge_attr=[46, 3], batch=[21], ptr=[2]),\n",
       " DataBatch(x=[12, 13], edge_index=[2, 24], edge_attr=[24, 3], batch=[12], ptr=[2]),\n",
       " DataBatch(x=[22, 13], edge_index=[2, 46], edge_attr=[46, 3], batch=[22], ptr=[2]),\n",
       " DataBatch(x=[20, 13], edge_index=[2, 42], edge_attr=[42, 3], batch=[20], ptr=[2]),\n",
       " DataBatch(x=[11, 13], edge_index=[2, 22], edge_attr=[22, 3], batch=[11], ptr=[2]),\n",
       " DataBatch(x=[19, 13], edge_index=[2, 38], edge_attr=[38, 3], batch=[19], ptr=[2]),\n",
       " DataBatch(x=[19, 13], edge_index=[2, 40], edge_attr=[40, 3], batch=[19], ptr=[2]),\n",
       " DataBatch(x=[23, 13], edge_index=[2, 48], edge_attr=[48, 3], batch=[23], ptr=[2]),\n",
       " DataBatch(x=[25, 13], edge_index=[2, 54], edge_attr=[54, 3], batch=[25], ptr=[2]),\n",
       " DataBatch(x=[19, 13], edge_index=[2, 42], edge_attr=[42, 3], batch=[19], ptr=[2]),\n",
       " DataBatch(x=[18, 13], edge_index=[2, 38], edge_attr=[38, 3], batch=[18], ptr=[2]),\n",
       " DataBatch(x=[4, 13], edge_index=[2, 6], edge_attr=[6, 3], batch=[4], ptr=[2]),\n",
       " DataBatch(x=[33, 13], edge_index=[2, 72], edge_attr=[72, 3], batch=[33], ptr=[2]),\n",
       " DataBatch(x=[21, 13], edge_index=[2, 46], edge_attr=[46, 3], batch=[21], ptr=[2]),\n",
       " DataBatch(x=[18, 13], edge_index=[2, 38], edge_attr=[38, 3], batch=[18], ptr=[2]),\n",
       " DataBatch(x=[14, 13], edge_index=[2, 30], edge_attr=[30, 3], batch=[14], ptr=[2]),\n",
       " DataBatch(x=[27, 13], edge_index=[2, 58], edge_attr=[58, 3], batch=[27], ptr=[2]),\n",
       " DataBatch(x=[24, 13], edge_index=[2, 52], edge_attr=[52, 3], batch=[24], ptr=[2]),\n",
       " DataBatch(x=[23, 13], edge_index=[2, 48], edge_attr=[48, 3], batch=[23], ptr=[2]),\n",
       " DataBatch(x=[31, 13], edge_index=[2, 68], edge_attr=[68, 3], batch=[31], ptr=[2]),\n",
       " DataBatch(x=[22, 13], edge_index=[2, 48], edge_attr=[48, 3], batch=[22], ptr=[2]),\n",
       " DataBatch(x=[22, 13], edge_index=[2, 48], edge_attr=[48, 3], batch=[22], ptr=[2]),\n",
       " DataBatch(x=[17, 13], edge_index=[2, 36], edge_attr=[36, 3], batch=[17], ptr=[2]),\n",
       " DataBatch(x=[15, 13], edge_index=[2, 30], edge_attr=[30, 3], batch=[15], ptr=[2]),\n",
       " DataBatch(x=[17, 13], edge_index=[2, 34], edge_attr=[34, 3], batch=[17], ptr=[2]),\n",
       " DataBatch(x=[26, 13], edge_index=[2, 56], edge_attr=[56, 3], batch=[26], ptr=[2]),\n",
       " DataBatch(x=[19, 13], edge_index=[2, 40], edge_attr=[40, 3], batch=[19], ptr=[2]),\n",
       " DataBatch(x=[29, 13], edge_index=[2, 66], edge_attr=[66, 3], batch=[29], ptr=[2]),\n",
       " DataBatch(x=[21, 13], edge_index=[2, 46], edge_attr=[46, 3], batch=[21], ptr=[2]),\n",
       " DataBatch(x=[20, 13], edge_index=[2, 42], edge_attr=[42, 3], batch=[20], ptr=[2]),\n",
       " DataBatch(x=[30, 13], edge_index=[2, 64], edge_attr=[64, 3], batch=[30], ptr=[2]),\n",
       " DataBatch(x=[20, 13], edge_index=[2, 44], edge_attr=[44, 3], batch=[20], ptr=[2]),\n",
       " DataBatch(x=[12, 13], edge_index=[2, 26], edge_attr=[26, 3], batch=[12], ptr=[2]),\n",
       " DataBatch(x=[17, 13], edge_index=[2, 36], edge_attr=[36, 3], batch=[17], ptr=[2]),\n",
       " DataBatch(x=[22, 13], edge_index=[2, 46], edge_attr=[46, 3], batch=[22], ptr=[2]),\n",
       " DataBatch(x=[22, 13], edge_index=[2, 46], edge_attr=[46, 3], batch=[22], ptr=[2]),\n",
       " DataBatch(x=[28, 13], edge_index=[2, 60], edge_attr=[60, 3], batch=[28], ptr=[2]),\n",
       " DataBatch(x=[27, 13], edge_index=[2, 56], edge_attr=[56, 3], batch=[27], ptr=[2]),\n",
       " DataBatch(x=[24, 13], edge_index=[2, 52], edge_attr=[52, 3], batch=[24], ptr=[2]),\n",
       " DataBatch(x=[17, 13], edge_index=[2, 34], edge_attr=[34, 3], batch=[17], ptr=[2]),\n",
       " DataBatch(x=[22, 13], edge_index=[2, 48], edge_attr=[48, 3], batch=[22], ptr=[2]),\n",
       " DataBatch(x=[17, 13], edge_index=[2, 36], edge_attr=[36, 3], batch=[17], ptr=[2]),\n",
       " DataBatch(x=[21, 13], edge_index=[2, 44], edge_attr=[44, 3], batch=[21], ptr=[2]),\n",
       " DataBatch(x=[29, 13], edge_index=[2, 64], edge_attr=[64, 3], batch=[29], ptr=[2]),\n",
       " DataBatch(x=[24, 13], edge_index=[2, 54], edge_attr=[54, 3], batch=[24], ptr=[2]),\n",
       " DataBatch(x=[19, 13], edge_index=[2, 42], edge_attr=[42, 3], batch=[19], ptr=[2]),\n",
       " DataBatch(x=[20, 13], edge_index=[2, 42], edge_attr=[42, 3], batch=[20], ptr=[2]),\n",
       " DataBatch(x=[19, 13], edge_index=[2, 42], edge_attr=[42, 3], batch=[19], ptr=[2]),\n",
       " DataBatch(x=[19, 13], edge_index=[2, 40], edge_attr=[40, 3], batch=[19], ptr=[2]),\n",
       " DataBatch(x=[20, 13], edge_index=[2, 44], edge_attr=[44, 3], batch=[20], ptr=[2]),\n",
       " DataBatch(x=[21, 13], edge_index=[2, 46], edge_attr=[46, 3], batch=[21], ptr=[2]),\n",
       " DataBatch(x=[21, 13], edge_index=[2, 44], edge_attr=[44, 3], batch=[21], ptr=[2]),\n",
       " DataBatch(x=[15, 13], edge_index=[2, 32], edge_attr=[32, 3], batch=[15], ptr=[2]),\n",
       " DataBatch(x=[23, 13], edge_index=[2, 48], edge_attr=[48, 3], batch=[23], ptr=[2]),\n",
       " DataBatch(x=[26, 13], edge_index=[2, 56], edge_attr=[56, 3], batch=[26], ptr=[2]),\n",
       " DataBatch(x=[29, 13], edge_index=[2, 62], edge_attr=[62, 3], batch=[29], ptr=[2]),\n",
       " DataBatch(x=[16, 13], edge_index=[2, 32], edge_attr=[32, 3], batch=[16], ptr=[2]),\n",
       " DataBatch(x=[22, 13], edge_index=[2, 46], edge_attr=[46, 3], batch=[22], ptr=[2]),\n",
       " DataBatch(x=[17, 13], edge_index=[2, 34], edge_attr=[34, 3], batch=[17], ptr=[2]),\n",
       " DataBatch(x=[25, 13], edge_index=[2, 50], edge_attr=[50, 3], batch=[25], ptr=[2]),\n",
       " DataBatch(x=[21, 13], edge_index=[2, 44], edge_attr=[44, 3], batch=[21], ptr=[2]),\n",
       " DataBatch(x=[16, 13], edge_index=[2, 34], edge_attr=[34, 3], batch=[16], ptr=[2]),\n",
       " DataBatch(x=[24, 13], edge_index=[2, 52], edge_attr=[52, 3], batch=[24], ptr=[2]),\n",
       " DataBatch(x=[32, 13], edge_index=[2, 72], edge_attr=[72, 3], batch=[32], ptr=[2]),\n",
       " DataBatch(x=[15, 13], edge_index=[2, 32], edge_attr=[32, 3], batch=[15], ptr=[2]),\n",
       " DataBatch(x=[25, 13], edge_index=[2, 52], edge_attr=[52, 3], batch=[25], ptr=[2]),\n",
       " DataBatch(x=[26, 13], edge_index=[2, 56], edge_attr=[56, 3], batch=[26], ptr=[2]),\n",
       " DataBatch(x=[20, 13], edge_index=[2, 42], edge_attr=[42, 3], batch=[20], ptr=[2]),\n",
       " DataBatch(x=[22, 13], edge_index=[2, 46], edge_attr=[46, 3], batch=[22], ptr=[2]),\n",
       " DataBatch(x=[14, 13], edge_index=[2, 28], edge_attr=[28, 3], batch=[14], ptr=[2]),\n",
       " DataBatch(x=[22, 13], edge_index=[2, 46], edge_attr=[46, 3], batch=[22], ptr=[2]),\n",
       " DataBatch(x=[30, 13], edge_index=[2, 66], edge_attr=[66, 3], batch=[30], ptr=[2]),\n",
       " DataBatch(x=[17, 13], edge_index=[2, 36], edge_attr=[36, 3], batch=[17], ptr=[2]),\n",
       " DataBatch(x=[28, 13], edge_index=[2, 62], edge_attr=[62, 3], batch=[28], ptr=[2]),\n",
       " DataBatch(x=[27, 13], edge_index=[2, 58], edge_attr=[58, 3], batch=[27], ptr=[2]),\n",
       " DataBatch(x=[14, 13], edge_index=[2, 28], edge_attr=[28, 3], batch=[14], ptr=[2]),\n",
       " DataBatch(x=[24, 13], edge_index=[2, 50], edge_attr=[50, 3], batch=[24], ptr=[2]),\n",
       " DataBatch(x=[23, 13], edge_index=[2, 50], edge_attr=[50, 3], batch=[23], ptr=[2]),\n",
       " DataBatch(x=[26, 13], edge_index=[2, 56], edge_attr=[56, 3], batch=[26], ptr=[2]),\n",
       " DataBatch(x=[25, 13], edge_index=[2, 52], edge_attr=[52, 3], batch=[25], ptr=[2]),\n",
       " DataBatch(x=[19, 13], edge_index=[2, 42], edge_attr=[42, 3], batch=[19], ptr=[2]),\n",
       " DataBatch(x=[21, 13], edge_index=[2, 44], edge_attr=[44, 3], batch=[21], ptr=[2]),\n",
       " DataBatch(x=[17, 13], edge_index=[2, 34], edge_attr=[34, 3], batch=[17], ptr=[2]),\n",
       " DataBatch(x=[30, 13], edge_index=[2, 64], edge_attr=[64, 3], batch=[30], ptr=[2]),\n",
       " DataBatch(x=[19, 13], edge_index=[2, 40], edge_attr=[40, 3], batch=[19], ptr=[2]),\n",
       " DataBatch(x=[15, 13], edge_index=[2, 30], edge_attr=[30, 3], batch=[15], ptr=[2]),\n",
       " DataBatch(x=[20, 13], edge_index=[2, 44], edge_attr=[44, 3], batch=[20], ptr=[2]),\n",
       " DataBatch(x=[11, 13], edge_index=[2, 22], edge_attr=[22, 3], batch=[11], ptr=[2]),\n",
       " DataBatch(x=[30, 13], edge_index=[2, 66], edge_attr=[66, 3], batch=[30], ptr=[2]),\n",
       " DataBatch(x=[23, 13], edge_index=[2, 50], edge_attr=[50, 3], batch=[23], ptr=[2]),\n",
       " DataBatch(x=[24, 13], edge_index=[2, 52], edge_attr=[52, 3], batch=[24], ptr=[2]),\n",
       " DataBatch(x=[21, 13], edge_index=[2, 44], edge_attr=[44, 3], batch=[21], ptr=[2]),\n",
       " DataBatch(x=[24, 13], edge_index=[2, 52], edge_attr=[52, 3], batch=[24], ptr=[2]),\n",
       " DataBatch(x=[13, 13], edge_index=[2, 26], edge_attr=[26, 3], batch=[13], ptr=[2]),\n",
       " DataBatch(x=[26, 13], edge_index=[2, 56], edge_attr=[56, 3], batch=[26], ptr=[2]),\n",
       " DataBatch(x=[18, 13], edge_index=[2, 38], edge_attr=[38, 3], batch=[18], ptr=[2]),\n",
       " DataBatch(x=[22, 13], edge_index=[2, 46], edge_attr=[46, 3], batch=[22], ptr=[2]),\n",
       " DataBatch(x=[21, 13], edge_index=[2, 44], edge_attr=[44, 3], batch=[21], ptr=[2]),\n",
       " DataBatch(x=[24, 13], edge_index=[2, 50], edge_attr=[50, 3], batch=[24], ptr=[2]),\n",
       " DataBatch(x=[19, 13], edge_index=[2, 40], edge_attr=[40, 3], batch=[19], ptr=[2]),\n",
       " DataBatch(x=[25, 13], edge_index=[2, 52], edge_attr=[52, 3], batch=[25], ptr=[2]),\n",
       " DataBatch(x=[16, 13], edge_index=[2, 32], edge_attr=[32, 3], batch=[16], ptr=[2]),\n",
       " DataBatch(x=[21, 13], edge_index=[2, 44], edge_attr=[44, 3], batch=[21], ptr=[2]),\n",
       " DataBatch(x=[25, 13], edge_index=[2, 52], edge_attr=[52, 3], batch=[25], ptr=[2]),\n",
       " DataBatch(x=[21, 13], edge_index=[2, 44], edge_attr=[44, 3], batch=[21], ptr=[2]),\n",
       " DataBatch(x=[10, 13], edge_index=[2, 18], edge_attr=[18, 3], batch=[10], ptr=[2]),\n",
       " DataBatch(x=[20, 13], edge_index=[2, 40], edge_attr=[40, 3], batch=[20], ptr=[2]),\n",
       " DataBatch(x=[22, 13], edge_index=[2, 46], edge_attr=[46, 3], batch=[22], ptr=[2]),\n",
       " DataBatch(x=[19, 13], edge_index=[2, 40], edge_attr=[40, 3], batch=[19], ptr=[2]),\n",
       " DataBatch(x=[15, 13], edge_index=[2, 34], edge_attr=[34, 3], batch=[15], ptr=[2]),\n",
       " DataBatch(x=[28, 13], edge_index=[2, 62], edge_attr=[62, 3], batch=[28], ptr=[2]),\n",
       " DataBatch(x=[21, 13], edge_index=[2, 46], edge_attr=[46, 3], batch=[21], ptr=[2]),\n",
       " DataBatch(x=[28, 13], edge_index=[2, 60], edge_attr=[60, 3], batch=[28], ptr=[2]),\n",
       " DataBatch(x=[32, 13], edge_index=[2, 70], edge_attr=[70, 3], batch=[32], ptr=[2]),\n",
       " DataBatch(x=[13, 13], edge_index=[2, 26], edge_attr=[26, 3], batch=[13], ptr=[2]),\n",
       " DataBatch(x=[19, 13], edge_index=[2, 40], edge_attr=[40, 3], batch=[19], ptr=[2]),\n",
       " DataBatch(x=[19, 13], edge_index=[2, 42], edge_attr=[42, 3], batch=[19], ptr=[2]),\n",
       " DataBatch(x=[17, 13], edge_index=[2, 36], edge_attr=[36, 3], batch=[17], ptr=[2]),\n",
       " DataBatch(x=[22, 13], edge_index=[2, 44], edge_attr=[44, 3], batch=[22], ptr=[2]),\n",
       " DataBatch(x=[26, 13], edge_index=[2, 54], edge_attr=[54, 3], batch=[26], ptr=[2]),\n",
       " DataBatch(x=[28, 13], edge_index=[2, 60], edge_attr=[60, 3], batch=[28], ptr=[2]),\n",
       " DataBatch(x=[23, 13], edge_index=[2, 50], edge_attr=[50, 3], batch=[23], ptr=[2]),\n",
       " DataBatch(x=[22, 13], edge_index=[2, 46], edge_attr=[46, 3], batch=[22], ptr=[2]),\n",
       " DataBatch(x=[18, 13], edge_index=[2, 36], edge_attr=[36, 3], batch=[18], ptr=[2]),\n",
       " DataBatch(x=[30, 13], edge_index=[2, 68], edge_attr=[68, 3], batch=[30], ptr=[2]),\n",
       " DataBatch(x=[18, 13], edge_index=[2, 36], edge_attr=[36, 3], batch=[18], ptr=[2]),\n",
       " DataBatch(x=[19, 13], edge_index=[2, 40], edge_attr=[40, 3], batch=[19], ptr=[2]),\n",
       " DataBatch(x=[11, 13], edge_index=[2, 22], edge_attr=[22, 3], batch=[11], ptr=[2]),\n",
       " DataBatch(x=[14, 13], edge_index=[2, 30], edge_attr=[30, 3], batch=[14], ptr=[2]),\n",
       " DataBatch(x=[23, 13], edge_index=[2, 50], edge_attr=[50, 3], batch=[23], ptr=[2]),\n",
       " DataBatch(x=[20, 13], edge_index=[2, 40], edge_attr=[40, 3], batch=[20], ptr=[2]),\n",
       " DataBatch(x=[25, 13], edge_index=[2, 54], edge_attr=[54, 3], batch=[25], ptr=[2]),\n",
       " DataBatch(x=[23, 13], edge_index=[2, 48], edge_attr=[48, 3], batch=[23], ptr=[2]),\n",
       " DataBatch(x=[20, 13], edge_index=[2, 40], edge_attr=[40, 3], batch=[20], ptr=[2]),\n",
       " DataBatch(x=[27, 13], edge_index=[2, 58], edge_attr=[58, 3], batch=[27], ptr=[2]),\n",
       " DataBatch(x=[17, 13], edge_index=[2, 34], edge_attr=[34, 3], batch=[17], ptr=[2]),\n",
       " DataBatch(x=[17, 13], edge_index=[2, 36], edge_attr=[36, 3], batch=[17], ptr=[2]),\n",
       " DataBatch(x=[24, 13], edge_index=[2, 52], edge_attr=[52, 3], batch=[24], ptr=[2]),\n",
       " DataBatch(x=[15, 13], edge_index=[2, 30], edge_attr=[30, 3], batch=[15], ptr=[2]),\n",
       " DataBatch(x=[24, 13], edge_index=[2, 52], edge_attr=[52, 3], batch=[24], ptr=[2]),\n",
       " DataBatch(x=[20, 13], edge_index=[2, 40], edge_attr=[40, 3], batch=[20], ptr=[2]),\n",
       " DataBatch(x=[22, 13], edge_index=[2, 46], edge_attr=[46, 3], batch=[22], ptr=[2]),\n",
       " DataBatch(x=[30, 13], edge_index=[2, 66], edge_attr=[66, 3], batch=[30], ptr=[2]),\n",
       " DataBatch(x=[14, 13], edge_index=[2, 28], edge_attr=[28, 3], batch=[14], ptr=[2]),\n",
       " DataBatch(x=[30, 13], edge_index=[2, 64], edge_attr=[64, 3], batch=[30], ptr=[2]),\n",
       " DataBatch(x=[21, 13], edge_index=[2, 44], edge_attr=[44, 3], batch=[21], ptr=[2]),\n",
       " DataBatch(x=[12, 13], edge_index=[2, 24], edge_attr=[24, 3], batch=[12], ptr=[2]),\n",
       " DataBatch(x=[18, 13], edge_index=[2, 42], edge_attr=[42, 3], batch=[18], ptr=[2]),\n",
       " DataBatch(x=[21, 13], edge_index=[2, 46], edge_attr=[46, 3], batch=[21], ptr=[2]),\n",
       " DataBatch(x=[21, 13], edge_index=[2, 46], edge_attr=[46, 3], batch=[21], ptr=[2]),\n",
       " DataBatch(x=[35, 13], edge_index=[2, 78], edge_attr=[78, 3], batch=[35], ptr=[2]),\n",
       " DataBatch(x=[25, 13], edge_index=[2, 54], edge_attr=[54, 3], batch=[25], ptr=[2]),\n",
       " DataBatch(x=[21, 13], edge_index=[2, 44], edge_attr=[44, 3], batch=[21], ptr=[2]),\n",
       " DataBatch(x=[34, 13], edge_index=[2, 74], edge_attr=[74, 3], batch=[34], ptr=[2]),\n",
       " DataBatch(x=[17, 13], edge_index=[2, 34], edge_attr=[34, 3], batch=[17], ptr=[2]),\n",
       " DataBatch(x=[19, 13], edge_index=[2, 38], edge_attr=[38, 3], batch=[19], ptr=[2]),\n",
       " DataBatch(x=[24, 13], edge_index=[2, 52], edge_attr=[52, 3], batch=[24], ptr=[2]),\n",
       " DataBatch(x=[22, 13], edge_index=[2, 48], edge_attr=[48, 3], batch=[22], ptr=[2]),\n",
       " DataBatch(x=[20, 13], edge_index=[2, 42], edge_attr=[42, 3], batch=[20], ptr=[2]),\n",
       " DataBatch(x=[18, 13], edge_index=[2, 36], edge_attr=[36, 3], batch=[18], ptr=[2]),\n",
       " DataBatch(x=[23, 13], edge_index=[2, 48], edge_attr=[48, 3], batch=[23], ptr=[2]),\n",
       " DataBatch(x=[21, 13], edge_index=[2, 44], edge_attr=[44, 3], batch=[21], ptr=[2]),\n",
       " DataBatch(x=[24, 13], edge_index=[2, 54], edge_attr=[54, 3], batch=[24], ptr=[2]),\n",
       " DataBatch(x=[25, 13], edge_index=[2, 54], edge_attr=[54, 3], batch=[25], ptr=[2]),\n",
       " DataBatch(x=[24, 13], edge_index=[2, 50], edge_attr=[50, 3], batch=[24], ptr=[2]),\n",
       " DataBatch(x=[21, 13], edge_index=[2, 46], edge_attr=[46, 3], batch=[21], ptr=[2]),\n",
       " DataBatch(x=[30, 13], edge_index=[2, 64], edge_attr=[64, 3], batch=[30], ptr=[2]),\n",
       " DataBatch(x=[20, 13], edge_index=[2, 42], edge_attr=[42, 3], batch=[20], ptr=[2]),\n",
       " DataBatch(x=[20, 13], edge_index=[2, 44], edge_attr=[44, 3], batch=[20], ptr=[2]),\n",
       " DataBatch(x=[9, 13], edge_index=[2, 18], edge_attr=[18, 3], batch=[9], ptr=[2]),\n",
       " DataBatch(x=[17, 13], edge_index=[2, 34], edge_attr=[34, 3], batch=[17], ptr=[2]),\n",
       " DataBatch(x=[16, 13], edge_index=[2, 34], edge_attr=[34, 3], batch=[16], ptr=[2]),\n",
       " DataBatch(x=[29, 13], edge_index=[2, 64], edge_attr=[64, 3], batch=[29], ptr=[2]),\n",
       " DataBatch(x=[30, 13], edge_index=[2, 66], edge_attr=[66, 3], batch=[30], ptr=[2]),\n",
       " DataBatch(x=[23, 13], edge_index=[2, 48], edge_attr=[48, 3], batch=[23], ptr=[2]),\n",
       " DataBatch(x=[19, 13], edge_index=[2, 40], edge_attr=[40, 3], batch=[19], ptr=[2]),\n",
       " DataBatch(x=[21, 13], edge_index=[2, 44], edge_attr=[44, 3], batch=[21], ptr=[2]),\n",
       " DataBatch(x=[22, 13], edge_index=[2, 48], edge_attr=[48, 3], batch=[22], ptr=[2]),\n",
       " DataBatch(x=[22, 13], edge_index=[2, 50], edge_attr=[50, 3], batch=[22], ptr=[2]),\n",
       " DataBatch(x=[25, 13], edge_index=[2, 54], edge_attr=[54, 3], batch=[25], ptr=[2]),\n",
       " DataBatch(x=[23, 13], edge_index=[2, 50], edge_attr=[50, 3], batch=[23], ptr=[2]),\n",
       " DataBatch(x=[17, 13], edge_index=[2, 36], edge_attr=[36, 3], batch=[17], ptr=[2]),\n",
       " DataBatch(x=[23, 13], edge_index=[2, 50], edge_attr=[50, 3], batch=[23], ptr=[2]),\n",
       " DataBatch(x=[25, 13], edge_index=[2, 54], edge_attr=[54, 3], batch=[25], ptr=[2]),\n",
       " DataBatch(x=[29, 13], edge_index=[2, 62], edge_attr=[62, 3], batch=[29], ptr=[2]),\n",
       " DataBatch(x=[15, 13], edge_index=[2, 32], edge_attr=[32, 3], batch=[15], ptr=[2]),\n",
       " DataBatch(x=[20, 13], edge_index=[2, 42], edge_attr=[42, 3], batch=[20], ptr=[2]),\n",
       " DataBatch(x=[23, 13], edge_index=[2, 50], edge_attr=[50, 3], batch=[23], ptr=[2]),\n",
       " DataBatch(x=[24, 13], edge_index=[2, 52], edge_attr=[52, 3], batch=[24], ptr=[2]),\n",
       " DataBatch(x=[20, 13], edge_index=[2, 44], edge_attr=[44, 3], batch=[20], ptr=[2]),\n",
       " DataBatch(x=[21, 13], edge_index=[2, 44], edge_attr=[44, 3], batch=[21], ptr=[2]),\n",
       " DataBatch(x=[23, 13], edge_index=[2, 46], edge_attr=[46, 3], batch=[23], ptr=[2])]"
      ]
     },
     "execution_count": 5,
     "metadata": {},
     "output_type": "execute_result"
    }
   ],
   "source": [
    "module.generate_mol_list(300)\n"
   ]
  },
  {
   "cell_type": "code",
   "execution_count": 6,
   "metadata": {},
   "outputs": [],
   "source": [
    "list_non_valid = module.non_valid_molecules"
   ]
  },
  {
   "cell_type": "code",
   "execution_count": 7,
   "metadata": {},
   "outputs": [
    {
     "data": {
      "text/plain": [
       "1"
      ]
     },
     "execution_count": 7,
     "metadata": {},
     "output_type": "execute_result"
    }
   ],
   "source": [
    "len(list_non_valid)"
   ]
  },
  {
   "cell_type": "code",
   "execution_count": 8,
   "metadata": {},
   "outputs": [],
   "source": [
    "import torch\n",
    "from rdkit import Chem\n",
    "from rdkit.Chem import Draw\n",
    "\n",
    "def tensor_to_mol(tensors, tensor_to_smiles):\n",
    "    mol_list = []\n",
    "    for tensor in tensors:\n",
    "        smiles = tensor_to_smiles(tensor.x, tensor.edge_index, tensor.edge_attr)\n",
    "        mol = Chem.MolFromSmiles(smiles, sanitize=False)\n",
    "        mol_list.append(mol)\n",
    "    return mol_list"
   ]
  },
  {
   "cell_type": "code",
   "execution_count": 9,
   "metadata": {},
   "outputs": [],
   "source": [
    "import matplotlib.pyplot as plt\n",
    "import math\n",
    "\n",
    "def draw_mols(mol_list):\n",
    "    # determine the number of rows needed\n",
    "    rows = math.ceil(len(mol_list) / 6)\n",
    "    fig, axs = plt.subplots(rows, 6, figsize=(20, rows * 3.5))  # Adjust the figure size accordingly\n",
    "    axs = axs.flatten()  # To handle the 2D nature of axs when we have more than one row\n",
    "    for i, mol in enumerate(mol_list):\n",
    "        img = Draw.MolToImage(mol)\n",
    "        axs[i].imshow(img)\n",
    "        axs[i].axis('off')\n",
    "\n",
    "    # If there are less molecules than subplots, we can hide the extra ones\n",
    "    if len(mol_list) < len(axs):\n",
    "        for ax in axs[len(mol_list):]:\n",
    "            ax.axis('off')\n",
    "\n",
    "    plt.tight_layout()  # optional, makes the plot look a bit nicer\n",
    "    plt.show()"
   ]
  },
  {
   "cell_type": "code",
   "execution_count": 10,
   "metadata": {},
   "outputs": [],
   "source": [
    "# convert a list of torch in a list of smiles \n",
    "def to_smiles_list(graph_list):\n",
    "    smiles_list = []\n",
    "    for mol in graph_list:\n",
    "        smiles = tensor_to_smiles(mol.x, mol.edge_index, mol.edge_attr)\n",
    "        smiles_list.append(smiles)\n",
    "    return smiles_list"
   ]
  },
  {
   "cell_type": "code",
   "execution_count": 16,
   "metadata": {},
   "outputs": [
    {
     "data": {
      "text/plain": [
       "tensor([[0., 1., 0.],\n",
       "        [0., 1., 0.],\n",
       "        [0., 1., 0.],\n",
       "        [0., 1., 0.],\n",
       "        [1., 0., 0.],\n",
       "        [1., 0., 0.]])"
      ]
     },
     "execution_count": 16,
     "metadata": {},
     "output_type": "execute_result"
    }
   ],
   "source": [
    "list_non_valid[0][-1].edge_attr"
   ]
  },
  {
   "cell_type": "code",
   "execution_count": 11,
   "metadata": {},
   "outputs": [
    {
     "data": {
      "text/plain": [
       "'[o-][n+](O)O'"
      ]
     },
     "execution_count": 11,
     "metadata": {},
     "output_type": "execute_result"
    }
   ],
   "source": [
    "to_smiles_list(list_non_valid[0])[-1]"
   ]
  },
  {
   "cell_type": "code",
   "execution_count": 12,
   "metadata": {},
   "outputs": [
    {
     "data": {
      "image/png": "[encoded data removed]",
      "text/plain": [
       "<rdkit.Chem.rdchem.Mol at 0x22c99c5aa40>"
      ]
     },
     "execution_count": 12,
     "metadata": {},
     "output_type": "execute_result"
    }
   ],
   "source": [
    "Chem.MolFromSmiles(to_smiles_list(list_non_valid[0])[-1], sanitize=False)"
   ]
  },
  {
   "cell_type": "code",
   "execution_count": 43,
   "metadata": {},
   "outputs": [],
   "source": [
    "# Export SMILES in smi format \n",
    "\n",
    "smiles_list = [\n",
    "    'Cc1nc(-c2nccn2)sc1C1CCCCC[NH+]1C',\n",
    "]\n",
    "with open(\"output.smi\", \"w\") as file:\n",
    "    for smiles in smiles_list:\n",
    "        file.write(smiles + \"\\n\")"
   ]
  },
  {
   "cell_type": "code",
   "execution_count": 13,
   "metadata": {},
   "outputs": [
    {
     "data": {
      "image/png": "[encoded data removed]",
      "text/plain": [
       "<Figure size 2000x700 with 12 Axes>"
      ]
     },
     "metadata": {},
     "output_type": "display_data"
    }
   ],
   "source": [
    "mol_list = tensor_to_mol(list_non_valid[0], tensor_to_smiles)\n",
    "draw_mols(mol_list)"
   ]
  },
  {
   "cell_type": "code",
   "execution_count": 48,
   "metadata": {},
   "outputs": [
    {
     "name": "stderr",
     "output_type": "stream",
     "text": [
      "[16:27:43] Can't kekulize mol.  Unkekulized atoms: 12 13 14 15 16 17 18 19 20\n"
     ]
    }
   ],
   "source": [
    "Chem.MolFromSmiles('Clc1ccc(C2CC3SC4=NC(c5ccc6ncnc6c5)=NC4=C3C3CC=CC32)cc1')"
   ]
  },
  {
   "cell_type": "code",
   "execution_count": null,
   "metadata": {},
   "outputs": [],
   "source": []
  },
  {
   "cell_type": "code",
   "execution_count": 35,
   "metadata": {},
   "outputs": [
    {
     "name": "stderr",
     "output_type": "stream",
     "text": [
      "[15:25:38] Can't kekulize mol.  Unkekulized atoms: 13 14 15 16 17 18 19 20 22\n"
     ]
    },
    {
     "ename": "ArgumentError",
     "evalue": "Python argument types in\n    rdkit.Chem.rdmolops.SanitizeMol(NoneType)\ndid not match C++ signature:\n    SanitizeMol(class RDKit::ROMol {lvalue} mol, unsigned __int64 sanitizeOps=rdkit.Chem.rdmolops.SanitizeFlags.SANITIZE_ALL, bool catchErrors=False)",
     "output_type": "error",
     "traceback": [
      "\u001b[1;31m---------------------------------------------------------------------------\u001b[0m",
      "\u001b[1;31mArgumentError\u001b[0m                             Traceback (most recent call last)",
      "Cell \u001b[1;32mIn[35], line 1\u001b[0m\n\u001b[1;32m----> 1\u001b[0m Chem\u001b[39m.\u001b[39;49mSanitizeMol(Chem\u001b[39m.\u001b[39;49mMolFromSmiles(\u001b[39m'\u001b[39;49m\u001b[39mCc1cc(N(C)C)ccc1NC(=O)c1cnc2nccc(Cl)c12\u001b[39;49m\u001b[39m'\u001b[39;49m))\n",
      "\u001b[1;31mArgumentError\u001b[0m: Python argument types in\n    rdkit.Chem.rdmolops.SanitizeMol(NoneType)\ndid not match C++ signature:\n    SanitizeMol(class RDKit::ROMol {lvalue} mol, unsigned __int64 sanitizeOps=rdkit.Chem.rdmolops.SanitizeFlags.SANITIZE_ALL, bool catchErrors=False)"
     ]
    }
   ],
   "source": [
    "Chem.SanitizeMol(Chem.MolFromSmiles('Cc1cc(N(C)C)ccc1NC(=O)c1cnc2nccc(Cl)c12'))"
   ]
  },
  {
   "cell_type": "code",
   "execution_count": null,
   "metadata": {},
   "outputs": [],
   "source": []
  }
 ],
 "metadata": {
  "kernelspec": {
   "display_name": "torch_geometric",
   "language": "python",
   "name": "python3"
  },
  "language_info": {
   "codemirror_mode": {
    "name": "ipython",
    "version": 3
   },
   "file_extension": ".py",
   "mimetype": "text/x-python",
   "name": "python",
   "nbconvert_exporter": "python",
   "pygments_lexer": "ipython3",
   "version": "3.10.9"
  },
  "orig_nbformat": 4
 },
 "nbformat": 4,
 "nbformat_minor": 2
}
