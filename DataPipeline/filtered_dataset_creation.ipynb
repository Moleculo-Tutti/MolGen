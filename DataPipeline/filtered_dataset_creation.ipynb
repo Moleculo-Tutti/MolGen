{
 "cells": [
  {
   "cell_type": "code",
   "execution_count": 132,
   "metadata": {},
   "outputs": [],
   "source": [
    "import torch\n",
    "import random\n",
    "\n",
    "import pandas as pd\n",
    "\n",
    "from rdkit import Chem\n",
    "from rdkit.Chem import AllChem\n",
    "\n",
    "from pathlib import Path\n",
    "\n",
    "from torch.utils.data import Dataset\n",
    "\n",
    "from torch_geometric.data import Data, Batch\n",
    "\n",
    "from tqdm.notebook import tqdm_notebook\n",
    "from tqdm import tqdm\n",
    "\n",
    "from torch_geometric.utils import to_networkx\n",
    "\n",
    "import pickle\n",
    "\n",
    "import zstandard as zstd\n",
    "from io import BytesIO"
   ]
  },
  {
   "cell_type": "code",
   "execution_count": 133,
   "metadata": {},
   "outputs": [],
   "source": [
    "import sys\n",
    "import os\n",
    "cwd = os.getcwd()\n",
    "parent_dir = os.path.dirname(cwd)\n",
    "sys.path.append(parent_dir)\n",
    "from DataPipeline.preprocessing import edge_encoder, node_encoder, get_subgraph_with_terminal_nodes, smiles_to_torch_geometric, process_encode_graph\n",
    "from DataPipeline.preprocessing import plot_graph\n",
    "from DataPipeline.dataset import ZincSubgraphDataset, custom_collate"
   ]
  },
  {
   "cell_type": "code",
   "execution_count": 134,
   "metadata": {},
   "outputs": [],
   "source": [
    "csv_path = Path(\".\\data\") / \"rndm_zinc_drugs_clean_3.csv\"\n",
    "\n",
    "zinc_df = pd.read_csv(csv_path)"
   ]
  },
  {
   "cell_type": "code",
   "execution_count": 135,
   "metadata": {},
   "outputs": [],
   "source": [
    "def select_only_S(df):\n",
    "    return df[df['smiles'].str.contains('S')]\n",
    "\n",
    "def select_only_Cl(df):\n",
    "    return df[df['smiles'].str.contains('Cl')]\n",
    "\n",
    "def select_only_F(df):\n",
    "    return df[df['smiles'].str.contains('F')]\n"
   ]
  },
  {
   "cell_type": "code",
   "execution_count": 136,
   "metadata": {},
   "outputs": [],
   "source": [
    "#plot molecules of the dataset \n",
    "def plot_molecules(df, n_molecules):\n",
    "    for i in range(n_molecules):\n",
    "        mol = Chem.MolFromSmiles(df.iloc[i].smiles)\n",
    "        AllChem.Compute2DCoords(mol)\n",
    "        display(mol)"
   ]
  },
  {
   "cell_type": "code",
   "execution_count": null,
   "metadata": {},
   "outputs": [],
   "source": [
    "df = select_only_F(zinc_df)\n",
    "plot_molecules(df, 100)"
   ]
  },
  {
   "cell_type": "code",
   "execution_count": 28,
   "metadata": {},
   "outputs": [],
   "source": [
    "def remove_iodine_bromine_phosphorus(df):\n",
    "\n",
    "    df = df[df['smiles'].str.contains('Br') == False]\n",
    "    df = df[df['smiles'].str.contains('I') == False]\n",
    "    df = df[df['smiles'].str.contains('P') == False]\n",
    "    \n",
    "    return df"
   ]
  },
  {
   "cell_type": "code",
   "execution_count": 29,
   "metadata": {},
   "outputs": [],
   "source": [
    "df_S_reduced = remove_iodine_bromine_phosphorus(select_only_S(zinc_df))\n",
    "df_Cl_reduced = remove_iodine_bromine_phosphorus(select_only_Cl(zinc_df))\n",
    "df_F_reduced = remove_iodine_bromine_phosphorus(select_only_F(zinc_df))"
   ]
  },
  {
   "cell_type": "code",
   "execution_count": 30,
   "metadata": {},
   "outputs": [
    {
     "name": "stderr",
     "output_type": "stream",
     "text": [
      "35206it [01:23, 419.75it/s]\n"
     ]
    }
   ],
   "source": [
    "preprocessed_graph = []\n",
    "filtered_df = df_Cl_reduced\n",
    "for row in tqdm(filtered_df.itertuples()):\n",
    "    smiles = row.smiles\n",
    "    data =  process_encode_graph(smiles, 'reduced')\n",
    "    preprocessed_graph.append(data)\n",
    "\n",
    "    \n",
    "torch.save(preprocessed_graph, 'preprocessed_graph_Cl_reduced.pt')"
   ]
  },
  {
   "cell_type": "code",
   "execution_count": 31,
   "metadata": {},
   "outputs": [
    {
     "name": "stderr",
     "output_type": "stream",
     "text": [
      "44590it [01:47, 415.76it/s]\n"
     ]
    }
   ],
   "source": [
    "preprocessed_graph = []\n",
    "filtered_df = df_F_reduced\n",
    "for row in tqdm(filtered_df.itertuples()):\n",
    "    smiles = row.smiles\n",
    "    data =  process_encode_graph(smiles, 'reduced')\n",
    "    preprocessed_graph.append(data)\n",
    "\n",
    "    \n",
    "torch.save(preprocessed_graph, 'preprocessed_graph_F_reduced.pt')"
   ]
  },
  {
   "cell_type": "code",
   "execution_count": 60,
   "metadata": {},
   "outputs": [],
   "source": [
    "def load_compressed_batch(file_path):\n",
    "    with open(file_path, 'rb') as f:\n",
    "        dctx = zstd.ZstdDecompressor()\n",
    "        decompressor = dctx.decompressobj()\n",
    "        decompressed_data = decompressor.decompress(f.read())\n",
    "        decompressed_buffer = BytesIO(decompressed_data)\n",
    "        graph_batch = torch.load(decompressed_buffer)\n",
    "\n",
    "    return graph_batch"
   ]
  },
  {
   "cell_type": "code",
   "execution_count": 125,
   "metadata": {},
   "outputs": [],
   "source": [
    "file_path1 = Path('..') / 'DataPipeline/data/prepared_dataset' / 'S' / 'S10000_0.zst'\n",
    "file_path2 = Path('..') / 'DataPipeline/data/prepared_dataset' / 'S' / 'S10000_1.zst'\n",
    "file_path3 = Path('..') / 'DataPipeline/data/prepared_dataset' / 'S' / 'S10000_2.zst'\n",
    "file_path4 = Path('..') / 'DataPipeline/data/prepared_dataset' / 'S' / 'S10000_3.zst'\n",
    "file_path5 = Path('..') / 'DataPipeline/data/prepared_dataset' / 'S' / 'S10000_11.zst'\n",
    "\n"
   ]
  },
  {
   "cell_type": "code",
   "execution_count": 126,
   "metadata": {},
   "outputs": [],
   "source": [
    "#compute the average of the y label (torch tensor) of a list of graphs\n",
    "\n",
    "def compute_average_y(graph_list):\n",
    "    y_list = []\n",
    "    for graph in graph_list:\n",
    "        y_list.append(graph.y)\n",
    "    y_list = torch.stack(y_list)\n",
    "    print(y_list)\n",
    "    return torch.sum(y_list, dim=0)\n",
    "\n",
    "def open_and_compute_average_y(file_path):\n",
    "    graph_batch = load_compressed_batch(file_path)\n",
    "    graph_list = graph_batch.to_data_list()\n",
    "    return compute_average_y(graph_list)"
   ]
  },
  {
   "cell_type": "code",
   "execution_count": 127,
   "metadata": {},
   "outputs": [
    {
     "name": "stdout",
     "output_type": "stream",
     "text": [
      "tensor([[0., 0., 0.,  ..., 1., 0., 0.],\n",
      "        [0., 0., 0.,  ..., 1., 0., 0.],\n",
      "        [0., 0., 0.,  ..., 1., 0., 0.],\n",
      "        ...,\n",
      "        [0., 0., 0.,  ..., 1., 0., 0.],\n",
      "        [0., 0., 0.,  ..., 1., 0., 0.],\n",
      "        [0., 0., 0.,  ..., 1., 0., 0.]])\n",
      "tensor([    0.,     0.,     0.,     0., 10000.,     0.,     0.])\n",
      "tensor([[0., 0., 0.,  ..., 1., 0., 0.],\n",
      "        [0., 0., 0.,  ..., 1., 0., 0.],\n",
      "        [0., 0., 0.,  ..., 1., 0., 0.],\n",
      "        ...,\n",
      "        [0., 0., 0.,  ..., 1., 0., 0.],\n",
      "        [0., 0., 0.,  ..., 1., 0., 0.],\n",
      "        [0., 0., 0.,  ..., 1., 0., 0.]])\n",
      "tensor([1.1200e+02, 6.0000e+00, 3.0000e+00, 3.5000e+00, 9.8755e+03, 0.0000e+00,\n",
      "        0.0000e+00])\n",
      "tensor([[0., 0., 0.,  ..., 1., 0., 0.],\n",
      "        [0., 0., 0.,  ..., 1., 0., 0.],\n",
      "        [0., 0., 0.,  ..., 1., 0., 0.],\n",
      "        ...,\n",
      "        [0., 0., 0.,  ..., 1., 0., 0.],\n",
      "        [0., 0., 0.,  ..., 1., 0., 0.],\n",
      "        [0., 0., 0.,  ..., 1., 0., 0.]])\n",
      "tensor([1.2950e+02, 7.5000e+00, 1.0000e+00, 4.0000e+00, 9.8580e+03, 0.0000e+00,\n",
      "        0.0000e+00])\n",
      "tensor([[0.0000, 0.0000, 0.0000,  ..., 1.0000, 0.0000, 0.0000],\n",
      "        [0.0000, 0.0000, 0.0000,  ..., 1.0000, 0.0000, 0.0000],\n",
      "        [0.5000, 0.0000, 0.0000,  ..., 0.5000, 0.0000, 0.0000],\n",
      "        ...,\n",
      "        [0.0000, 0.0000, 0.0000,  ..., 1.0000, 0.0000, 0.0000],\n",
      "        [0.0000, 0.0000, 0.0000,  ..., 1.0000, 0.0000, 0.0000],\n",
      "        [0.0000, 0.0000, 0.0000,  ..., 1.0000, 0.0000, 0.0000]])\n",
      "tensor([1.2850e+02, 7.0000e+00, 5.0000e-01, 2.5000e+00, 9.8605e+03, 1.0000e+00,\n",
      "        0.0000e+00])\n",
      "tensor([[0., 0., 0.,  ..., 1., 0., 0.],\n",
      "        [0., 0., 0.,  ..., 1., 0., 0.],\n",
      "        [0., 0., 0.,  ..., 1., 0., 0.],\n",
      "        ...,\n",
      "        [0., 0., 0.,  ..., 1., 0., 0.],\n",
      "        [0., 0., 0.,  ..., 1., 0., 0.],\n",
      "        [0., 0., 0.,  ..., 1., 0., 0.]])\n",
      "tensor([4.5000e+01, 1.0000e+00, 0.0000e+00, 5.0000e-01, 9.9535e+03, 0.0000e+00,\n",
      "        0.0000e+00])\n"
     ]
    }
   ],
   "source": [
    "print(open_and_compute_average_y(file_path1))\n",
    "print(open_and_compute_average_y(file_path2))\n",
    "print(open_and_compute_average_y(file_path3))\n",
    "print(open_and_compute_average_y(file_path4))\n",
    "print(open_and_compute_average_y(file_path5))\n",
    "\n"
   ]
  },
  {
   "cell_type": "code",
   "execution_count": 111,
   "metadata": {},
   "outputs": [],
   "source": [
    "\n",
    "import objsize\n",
    "import sys\n",
    "import torch\n",
    "\n",
    "\n",
    "def get_size_of_torch(o):\n",
    "    # `objsize.safe_is_instance` catches `ReferenceError` caused by `weakref` objects\n",
    "    if objsize.safe_is_instance(o, torch.Tensor):\n",
    "        return sys.getsizeof(o.storage())\n",
    "    else:\n",
    "        return sys.getsizeof(o)\n"
   ]
  },
  {
   "cell_type": "code",
   "execution_count": 59,
   "metadata": {},
   "outputs": [
    {
     "name": "stdout",
     "output_type": "stream",
     "text": [
      "38284840\n",
      "44532848\n",
      "44532848\n",
      "2800048\n"
     ]
    }
   ],
   "source": [
    "print(get_size_of_torch(graph_batch.x))\n",
    "print(get_size_of_torch(graph_batch.edge_index))\n",
    "print(get_size_of_torch(graph_batch.edge_attr))\n",
    "print(get_size_of_torch(graph_batch.y))"
   ]
  },
  {
   "cell_type": "code",
   "execution_count": 48,
   "metadata": {},
   "outputs": [
    {
     "data": {
      "text/plain": [
       "DataBatch(x=[1367314, 7], edge_index=[2, 2783300], edge_attr=[2783300, 4], y=[700000], batch=[1367314], ptr=[100001])"
      ]
     },
     "execution_count": 48,
     "metadata": {},
     "output_type": "execute_result"
    }
   ],
   "source": [
    "graph_batch"
   ]
  },
  {
   "cell_type": "code",
   "execution_count": 43,
   "metadata": {},
   "outputs": [
    {
     "data": {
      "text/plain": [
       "100000"
      ]
     },
     "execution_count": 43,
     "metadata": {},
     "output_type": "execute_result"
    }
   ],
   "source": [
    "len(graph_batch)"
   ]
  },
  {
   "cell_type": "code",
   "execution_count": null,
   "metadata": {},
   "outputs": [],
   "source": []
  }
 ],
 "metadata": {
  "kernelspec": {
   "display_name": "torch_geometric",
   "language": "python",
   "name": "python3"
  },
  "language_info": {
   "codemirror_mode": {
    "name": "ipython",
    "version": 3
   },
   "file_extension": ".py",
   "mimetype": "text/x-python",
   "name": "python",
   "nbconvert_exporter": "python",
   "pygments_lexer": "ipython3",
   "version": "3.10.9"
  },
  "orig_nbformat": 4
 },
 "nbformat": 4,
 "nbformat_minor": 2
}
