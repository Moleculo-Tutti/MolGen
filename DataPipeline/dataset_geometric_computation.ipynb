{
 "cells": [
  {
   "cell_type": "code",
   "execution_count": 26,
   "metadata": {},
   "outputs": [],
   "source": [
    "import torch\n",
    "import random\n",
    "\n",
    "import pandas as pd\n",
    "\n",
    "from rdkit import Chem\n",
    "from rdkit.Chem import AllChem\n",
    "\n",
    "from pathlib import Path\n",
    "\n",
    "from torch_geometric.data import Data\n",
    "\n",
    "from tqdm import tqdm"
   ]
  },
  {
   "cell_type": "code",
   "execution_count": 27,
   "metadata": {},
   "outputs": [],
   "source": [
    "import sys\n",
    "import os\n",
    "cwd = os.getcwd()\n",
    "parent_dir = os.path.dirname(cwd)\n",
    "sys.path.append(parent_dir)\n",
    "from Dataset_Creation.script_pairs_creation_with_torch import smiles_to_torch_geometric, node_encoder, edge_encoder"
   ]
  },
  {
   "cell_type": "code",
   "execution_count": 28,
   "metadata": {},
   "outputs": [],
   "source": [
    "csv_path = Path('..') / 'rndm_zinc_drugs_clean_3.csv'\n",
    "\n",
    "zinc_df = pd.read_csv(csv_path)"
   ]
  },
  {
   "cell_type": "code",
   "execution_count": 29,
   "metadata": {},
   "outputs": [],
   "source": [
    "def process_graph(smiles):\n",
    "\n",
    "    data = smiles_to_torch_geometric(smiles)\n",
    "\n",
    "    node_features = data.x\n",
    "    edge_attr = data.edge_attr\n",
    "\n",
    "    #encode the node features with the function node encoder one atom at a time\n",
    "    node_features = torch.stack([node_encoder(atom) for atom in node_features])\n",
    "    \n",
    "    #encore the edge features with the function edge encoder one bond at a time\n",
    "    edge_attr = torch.stack([edge_encoder(bond) for bond in edge_attr])\n",
    "\n",
    "    #create new data object with the encoded node and edge features\n",
    "\n",
    "    encoded_data = Data(x=node_features, edge_attr=edge_attr, edge_index=data.edge_index)\n",
    "\n",
    "    return encoded_data\n",
    "\n",
    "    "
   ]
  },
  {
   "cell_type": "code",
   "execution_count": 30,
   "metadata": {},
   "outputs": [
    {
     "name": "stderr",
     "output_type": "stream",
     "text": [
      "249455it [08:42, 477.78it/s]\n"
     ]
    }
   ],
   "source": [
    "preprocessed_graph = []\n",
    "for row in tqdm(zinc_df.itertuples()):\n",
    "    smiles = row.smiles\n",
    "    data = process_graph(smiles)\n",
    "    preprocessed_graph.append(data)\n",
    "\n",
    "torch.save(preprocessed_graph, 'preprocessed_graph.pt')"
   ]
  },
  {
   "cell_type": "code",
   "execution_count": 32,
   "metadata": {},
   "outputs": [],
   "source": [
    "data = preprocessed_graph[0]"
   ]
  },
  {
   "cell_type": "code",
   "execution_count": 33,
   "metadata": {},
   "outputs": [],
   "source": [
    "def get_subgraph(data, indices, id_map):\n",
    "    \"\"\"\n",
    "    Get a subgraph of a torch_geometric graph molecule based on given indices.\n",
    "\n",
    "    Args:\n",
    "    data (torch_geometric.data.Data): A PyTorch Geometric Data object representing the molecule.\n",
    "    indices (list or torch.Tensor): List of node indices to extract as subgraph.\n",
    "\n",
    "    Returns:\n",
    "    subgraph_data (torch_geometric.data.Data): Subgraph of the torch_geometric graph molecule.\n",
    "    \"\"\"\n",
    "    if not isinstance(indices, torch.Tensor):\n",
    "        indices = torch.tensor(indices, dtype=torch.long)\n",
    "\n",
    "    # Create a dictionary to map the old indices to new indices\n",
    "    index_map = {old_index: id_map[old_index] for old_index in indices.tolist()}\n",
    "\n",
    "    # Extract node features\n",
    "    subgraph_x = torch.zeros(len(index_map), data.x.size(1))\n",
    "    for i in range(len(indices)):\n",
    "        subgraph_x[index_map[indices[i].item()]] = data.x[indices[i]]\n",
    "        \n",
    "    \n",
    "    # Extract edges that are connected to the selected nodes\n",
    "    mask = torch.tensor([src in index_map and tgt in index_map for src, tgt in data.edge_index.t().tolist()]).bool()\n",
    "    subgraph_edge_index = data.edge_index[:, mask]\n",
    "\n",
    "    # Relabel the edge indices according to the new node indices\n",
    "    subgraph_edge_index = torch.tensor([[index_map[src], index_map[tgt]] for src, tgt in subgraph_edge_index.t().tolist()]).t()\n",
    "\n",
    "    # Extract corresponding edge attributes\n",
    "    subgraph_edge_attr = data.edge_attr[mask]\n",
    "\n",
    "    # Create a new torch_geometric data object\n",
    "    subgraph_data = Data(x=subgraph_x, edge_index=subgraph_edge_index, edge_attr=subgraph_edge_attr)\n",
    "\n",
    "    return subgraph_data\n"
   ]
  },
  {
   "cell_type": "code",
   "execution_count": 34,
   "metadata": {},
   "outputs": [],
   "source": [
    "def get_subgraph_with_terminal_nodes(data, num_atoms):\n",
    "    \"\"\"\n",
    "    Get a subgraph of a torch_geometric graph molecule based on specific rules.\n",
    "\n",
    "    Args:\n",
    "    data (torch_geometric.data.Data): A PyTorch Geometric Data object representing the molecule.\n",
    "    num_atoms (int): Desired number of atoms in the subgraph.\n",
    "\n",
    "    Returns:\n",
    "    subgraph_data (torch_geometric.data.Data): Subgraph of the torch_geometric graph molecule.\n",
    "    \"\"\"\n",
    "\n",
    "    num_nodes = len(data.x)\n",
    "    if num_atoms < 1 or num_atoms > num_nodes:\n",
    "        raise ValueError(\"num_atoms must be between 1 and the number of nodes in the graph.\")\n",
    "\n",
    "    # Randomly select an atom\n",
    "    start_atom = random.choice(range(num_nodes))\n",
    "\n",
    "    # Initialize the queue and visited set\n",
    "    queue = [start_atom]\n",
    "    visited = set()\n",
    "\n",
    "    id_map = {}\n",
    "    new_id = 0\n",
    "\n",
    "    # Breadth-first search\n",
    "    while queue:\n",
    "        current = queue.pop(0)\n",
    "        visited.add(current)\n",
    "\n",
    "        id_map[current] = new_id\n",
    "        new_id += 1\n",
    "\n",
    "        # Add neighbors to the queue\n",
    "        neighbors = data.edge_index[:, data.edge_index[0] == current][1].tolist()\n",
    "        random.shuffle(neighbors)\n",
    "        for neighbor in neighbors:\n",
    "            if neighbor not in visited and neighbor not in queue:\n",
    "                queue.append(neighbor)\n",
    "\n",
    "        # Stop if we've reached the desired number of atoms\n",
    "        if len(visited) == num_atoms:\n",
    "            break\n",
    "\n",
    "    # Get the subgraph with the selected atoms\n",
    "    subgraph_indices = torch.tensor(list(visited), dtype=torch.long)\n",
    "    subgraph_data = get_subgraph(data, subgraph_indices, id_map)\n",
    "    \n",
    "    external_neighbors = []\n",
    "    oldest_non_completed = min([i for i in neighbors if i in visited], key = lambda x:id_map[x])\n",
    "    neighbors_oldest_non_completed = data.edge_index[:, data.edge_index[0] == oldest_non_completed][1].tolist()\n",
    "    for neighbor in neighbors_oldest_non_completed:\n",
    "        if neighbor not in visited:\n",
    "            edge_attr_idx = (data.edge_index[0] == oldest_non_completed) & (data.edge_index[1] == neighbor)\n",
    "            edge_data = data.edge_attr[edge_attr_idx][0]\n",
    "\n",
    "            external_neighbors_edges = []\n",
    "            for neighbor2 in data.edge_index[:, data.edge_index[0] == neighbor][1].tolist():\n",
    "                if neighbor2 in visited and neighbor2 != oldest_non_completed:\n",
    "                    # Get the index of the edge attribute\n",
    "                    edge_attr_idx = (data.edge_index[0] == neighbor) & (data.edge_index[1] == neighbor2)\n",
    "                    # Get the edge attribute\n",
    "                    edge_attr = data.edge_attr[edge_attr_idx][0]\n",
    "                    external_neighbors_edges.append((neighbor2, edge_attr))\n",
    "            external_neighbors.append((neighbor, data.x[neighbor], edge_data, external_neighbors_edges))\n",
    "\n",
    "    terminal_node_info = (oldest_non_completed, external_neighbors)\n",
    "\n",
    "    return subgraph_data, terminal_node_info, id_map"
   ]
  }
 ],
 "metadata": {
  "kernelspec": {
   "display_name": "torch_geometric",
   "language": "python",
   "name": "python3"
  },
  "language_info": {
   "codemirror_mode": {
    "name": "ipython",
    "version": 3
   },
   "file_extension": ".py",
   "mimetype": "text/x-python",
   "name": "python",
   "nbconvert_exporter": "python",
   "pygments_lexer": "ipython3",
   "version": "3.10.9"
  },
  "orig_nbformat": 4
 },
 "nbformat": 4,
 "nbformat_minor": 2
}
