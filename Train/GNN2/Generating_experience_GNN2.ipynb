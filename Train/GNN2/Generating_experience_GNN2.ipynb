{
 "cells": [
  {
   "cell_type": "code",
   "execution_count": 2,
   "metadata": {},
   "outputs": [],
   "source": [
    "from training_pipe_GNN2_utils import train_GNN2\n",
    "from pathlib import Path\n",
    "import torch\n",
    "from  visualize import plot_history_GNN1\n"
   ]
  },
  {
   "cell_type": "code",
   "execution_count": 5,
   "metadata": {},
   "outputs": [
    {
     "name": "stdout",
     "output_type": "stream",
     "text": [
      "Dataset encoded with size 7\n",
      "Dataset encoded with size 7\n",
      "The 'experience_1' directory already exists in the 'experiments' directory.\n"
     ]
    },
    {
     "data": {
      "application/vnd.jupyter.widget-view+json": {
       "model_id": "d5a271753b9740f0b594c1cf6e21d019",
       "version_major": 2,
       "version_minor": 0
      },
      "text/plain": [
       "Training:   0%|          | 0/1476 [00:00<?, ?batch/s]"
      ]
     },
     "metadata": {},
     "output_type": "display_data"
    },
    {
     "ename": "RuntimeError",
     "evalue": "The size of tensor a (7) must match the size of tensor b (4) at non-singleton dimension 0",
     "output_type": "error",
     "traceback": [
      "\u001b[1;31m---------------------------------------------------------------------------\u001b[0m",
      "\u001b[1;31mRuntimeError\u001b[0m                              Traceback (most recent call last)",
      "Cell \u001b[1;32mIn[5], line 10\u001b[0m\n\u001b[0;32m      8\u001b[0m device \u001b[39m=\u001b[39m torch\u001b[39m.\u001b[39mdevice(\u001b[39m\"\u001b[39m\u001b[39mcuda\u001b[39m\u001b[39m\"\u001b[39m \u001b[39mif\u001b[39;00m torch\u001b[39m.\u001b[39mcuda\u001b[39m.\u001b[39mis_available() \u001b[39melse\u001b[39;00m \u001b[39m\"\u001b[39m\u001b[39mcpu\u001b[39m\u001b[39m\"\u001b[39m)\n\u001b[0;32m      9\u001b[0m n_epochs \u001b[39m=\u001b[39m \u001b[39m500\u001b[39m\n\u001b[1;32m---> 10\u001b[0m results \u001b[39m=\u001b[39m train_GNN2(name , datapath_train, datapath_val, n_epochs,  encoding_size, GCN_size, mlp_size, edge_size, \n\u001b[0;32m     11\u001b[0m                      feature_position \u001b[39m=\u001b[39;49m \u001b[39mFalse\u001b[39;49;00m, use_dropout \u001b[39m=\u001b[39;49m \u001b[39mFalse\u001b[39;49;00m, lr \u001b[39m=\u001b[39;49m \u001b[39m0.0001\u001b[39;49m , print_bar \u001b[39m=\u001b[39;49m \u001b[39mTrue\u001b[39;49;00m)\n",
      "File \u001b[1;32mc:\\Users\\Anto\\Documents\\stage\\MolGen\\Train\\GNN2\\training_pipe_GNN2_utils.py:240\u001b[0m, in \u001b[0;36mtrain_GNN2\u001b[1;34m(name, datapath_train, datapath_val, n_epochs, encoding_size, GCN_size, mlp_size, edge_size, feature_position, use_dropout, lr, print_bar)\u001b[0m\n\u001b[0;32m    238\u001b[0m \u001b[39m#beginning the epoch\u001b[39;00m\n\u001b[0;32m    239\u001b[0m \u001b[39mfor\u001b[39;00m epoch \u001b[39min\u001b[39;00m \u001b[39mrange\u001b[39m(\u001b[39m0\u001b[39m, n_epochs\u001b[39m+\u001b[39m\u001b[39m1\u001b[39m):\n\u001b[1;32m--> 240\u001b[0m     loss, avg_label_vector, avg_output_vector, avg_correct, avg_correct_precision, avg_correct_recall \u001b[39m=\u001b[39m train_one_epoch(\n\u001b[0;32m    241\u001b[0m         loader_train, model, encoding_size, device, optimizer, criterion, print_bar \u001b[39m=\u001b[39;49m print_bar)\n\u001b[0;32m    242\u001b[0m     training_history\u001b[39m.\u001b[39mloc[epoch] \u001b[39m=\u001b[39m [epoch, loss, avg_output_vector, avg_label_vector, avg_correct, avg_correct_precision, avg_correct_recall]\n\u001b[0;32m    243\u001b[0m     loss, avg_label_vector, avg_output_vector, avg_correct, avg_correct_precision, avg_correct_recall \u001b[39m=\u001b[39m eval_one_epoch(\n\u001b[0;32m    244\u001b[0m         loader_val, model, encoding_size, device, optimizer, criterion)\n",
      "File \u001b[1;32mc:\\Users\\Anto\\Documents\\stage\\MolGen\\Train\\GNN2\\training_pipe_GNN2_utils.py:78\u001b[0m, in \u001b[0;36mtrain_one_epoch\u001b[1;34m(loader, model, size_edge, device, optimizer, criterion, print_bar)\u001b[0m\n\u001b[0;32m     76\u001b[0m recall_output \u001b[39m=\u001b[39m pseudo_recall_for_each_class(out\u001b[39m.\u001b[39mdetach()\u001b[39m.\u001b[39mcpu(), edge_infos\u001b[39m.\u001b[39mdetach()\u001b[39m.\u001b[39mcpu(), random\u001b[39m=\u001b[39m\u001b[39mTrue\u001b[39;00m)\n\u001b[0;32m     77\u001b[0m precision_output \u001b[39m=\u001b[39m pseudo_precision_for_each_class(out\u001b[39m.\u001b[39mdetach()\u001b[39m.\u001b[39mcpu(), edge_infos\u001b[39m.\u001b[39mdetach()\u001b[39m.\u001b[39mcpu(), random\u001b[39m=\u001b[39m\u001b[39mTrue\u001b[39;00m)\n\u001b[1;32m---> 78\u001b[0m num_correct_recall \u001b[39m+\u001b[39;49m\u001b[39m=\u001b[39;49m recall_output[\u001b[39m0\u001b[39;49m]\n\u001b[0;32m     79\u001b[0m num_correct_precision \u001b[39m+\u001b[39m\u001b[39m=\u001b[39m precision_output[\u001b[39m0\u001b[39m]\n\u001b[0;32m     80\u001b[0m count_per_class_recall \u001b[39m+\u001b[39m\u001b[39m=\u001b[39m recall_output[\u001b[39m1\u001b[39m]\n",
      "\u001b[1;31mRuntimeError\u001b[0m: The size of tensor a (7) must match the size of tensor b (4) at non-singleton dimension 0"
     ]
    }
   ],
   "source": [
    "name = \"experience_1\"\n",
    "datapath_train = Path('..') / '../DataPipeline/data/preprocessed_graph_train_no_I_Br_P.pt'\n",
    "datapath_val = Path('..') / '../DataPipeline/data/preprocessed_graph_val_no_I_Br_P.pt'\n",
    "encoding_size = 7\n",
    "GCN_size = [64, 128, 256, 512, 512]\n",
    "mlp_size = 512\n",
    "edge_size = 4\n",
    "device = torch.device(\"cuda\" if torch.cuda.is_available() else \"cpu\")\n",
    "n_epochs = 500\n",
    "results = train_GNN2(name , datapath_train, datapath_val, n_epochs,  encoding_size, GCN_size, mlp_size, edge_size, \n",
    "                     feature_position = False, use_dropout = False, lr = 0.0001 , print_bar = True)"
   ]
  }
 ],
 "metadata": {
  "kernelspec": {
   "display_name": "torch-geometric",
   "language": "python",
   "name": "python3"
  },
  "language_info": {
   "codemirror_mode": {
    "name": "ipython",
    "version": 3
   },
   "file_extension": ".py",
   "mimetype": "text/x-python",
   "name": "python",
   "nbconvert_exporter": "python",
   "pygments_lexer": "ipython3",
   "version": "3.11.3"
  },
  "orig_nbformat": 4
 },
 "nbformat": 4,
 "nbformat_minor": 2
}
