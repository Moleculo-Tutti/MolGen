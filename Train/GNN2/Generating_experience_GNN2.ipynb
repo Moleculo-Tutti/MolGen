{
 "cells": [
  {
   "cell_type": "code",
   "execution_count": 1,
   "metadata": {},
   "outputs": [],
   "source": [
    "from training_pipe_GNN2_utils import train_GNN2\n",
    "from pathlib import Path\n",
    "import torch\n",
    "from  visualize import plot_history_GNN1\n"
   ]
  },
  {
   "cell_type": "code",
   "execution_count": 2,
   "metadata": {},
   "outputs": [
    {
     "name": "stdout",
     "output_type": "stream",
     "text": [
      "Dataset encoded with size 7\n",
      "Dataset encoded with size 7\n",
      "The 'experience_1' directory already exists in the 'experiments' directory.\n"
     ]
    },
    {
     "data": {
      "application/vnd.jupyter.widget-view+json": {
       "model_id": "2c5e82aae6b14230b06f8f807a87d2be",
       "version_major": 2,
       "version_minor": 0
      },
      "text/plain": [
       "Training:   0%|          | 0/1476 [00:00<?, ?batch/s]"
      ]
     },
     "metadata": {},
     "output_type": "display_data"
    },
    {
     "name": "stderr",
     "output_type": "stream",
     "text": [
      "c:\\Users\\Anto\\Documents\\stage\\MolGen\\Train\\GNN2\\training_pipe_GNN2_utils.py:83: RuntimeWarning: invalid value encountered in divide\n",
      "  current_avg_output_vector = avg_output_vector / total_graphs_processed\n",
      "c:\\Users\\Anto\\Documents\\stage\\MolGen\\Train\\GNN2\\training_pipe_GNN2_utils.py:84: RuntimeWarning: invalid value encountered in divide\n",
      "  current_avg_label_vector = avg_label_vector / total_graphs_processed\n",
      "c:\\Users\\Anto\\Documents\\stage\\MolGen\\Train\\GNN2\\training_pipe_GNN2_utils.py:155: RuntimeWarning: invalid value encountered in divide\n",
      "  current_avg_output_vector = avg_output_vector / total_graphs_processed\n",
      "c:\\Users\\Anto\\Documents\\stage\\MolGen\\Train\\GNN2\\training_pipe_GNN2_utils.py:156: RuntimeWarning: invalid value encountered in divide\n",
      "  current_avg_label_vector = avg_label_vector / total_graphs_processed\n"
     ]
    },
    {
     "data": {
      "application/vnd.jupyter.widget-view+json": {
       "model_id": "a21a602c7ad74be995498931bd963b57",
       "version_major": 2,
       "version_minor": 0
      },
      "text/plain": [
       "Training:   0%|          | 0/1476 [00:00<?, ?batch/s]"
      ]
     },
     "metadata": {},
     "output_type": "display_data"
    },
    {
     "name": "stderr",
     "output_type": "stream",
     "text": [
      "c:\\Users\\Anto\\Documents\\stage\\MolGen\\Train\\GNN2\\training_pipe_GNN2_utils.py:83: RuntimeWarning: invalid value encountered in divide\n",
      "  current_avg_output_vector = avg_output_vector / total_graphs_processed\n",
      "c:\\Users\\Anto\\Documents\\stage\\MolGen\\Train\\GNN2\\training_pipe_GNN2_utils.py:84: RuntimeWarning: invalid value encountered in divide\n",
      "  current_avg_label_vector = avg_label_vector / total_graphs_processed\n"
     ]
    }
   ],
   "source": [
    "name = \"experience_1\"\n",
    "datapath_train = Path('..') / '../DataPipeline/data/preprocessed_graph_train_no_I_Br_P.pt'\n",
    "datapath_val = Path('..') / '../DataPipeline/data/preprocessed_graph_val_no_I_Br_P.pt'\n",
    "encoding_size = 7\n",
    "GCN_size = [64, 128, 256, 512, 512]\n",
    "mlp_size = 512\n",
    "edge_size = 4\n",
    "device = torch.device(\"cuda\" if torch.cuda.is_available() else \"cpu\")\n",
    "n_epochs = 500\n",
    "results = train_GNN2(name , datapath_train, datapath_val, n_epochs,  encoding_size, GCN_size, mlp_size, edge_size, \n",
    "                     feature_position = False, use_dropout = False, lr = 0.0001 , print_bar = True)"
   ]
  }
 ],
 "metadata": {
  "kernelspec": {
   "display_name": "torch-geometric",
   "language": "python",
   "name": "python3"
  },
  "language_info": {
   "codemirror_mode": {
    "name": "ipython",
    "version": 3
   },
   "file_extension": ".py",
   "mimetype": "text/x-python",
   "name": "python",
   "nbconvert_exporter": "python",
   "pygments_lexer": "ipython3",
   "version": "3.11.3"
  },
  "orig_nbformat": 4
 },
 "nbformat": 4,
 "nbformat_minor": 2
}
