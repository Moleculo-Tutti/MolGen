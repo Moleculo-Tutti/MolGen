{
 "cells": [
  {
   "cell_type": "code",
   "execution_count": 1,
   "metadata": {},
   "outputs": [],
   "source": [
    "%load_ext autoreload\n",
    "%autoreload 2"
   ]
  },
  {
   "cell_type": "code",
   "execution_count": 2,
   "metadata": {},
   "outputs": [],
   "source": [
    "import torch\n",
    "import random\n",
    "\n",
    "import pandas as pd\n",
    "\n",
    "from torch.utils.data import Dataset\n",
    "import torch.nn.functional as F\n",
    "import torch.nn as nn\n",
    "\n",
    "from torch.optim import AdamW\n",
    "\n",
    "import torch_geometric.transforms as T\n",
    "\n",
    "from torch_geometric.data import Batch\n",
    "\n",
    "from torch_geometric.nn import GCNConv, global_mean_pool\n",
    "from torch_geometric.nn import global_add_pool\n",
    "from torch_geometric.nn import GraphConv\n",
    "from torch.utils.data import DataLoader\n",
    "\n",
    "from pathlib import Path\n",
    "\n",
    "from tqdm import tqdm"
   ]
  },
  {
   "cell_type": "code",
   "execution_count": 3,
   "metadata": {},
   "outputs": [],
   "source": [
    "import sys\n",
    "import os\n",
    "cwd = os.getcwd()\n",
    "parent_dir = os.path.dirname(cwd)\n",
    "parent_parent_dir = os.path.dirname(parent_dir)\n",
    "\n",
    "sys.path.append(parent_dir)\n",
    "sys.path.append(parent_parent_dir)\n",
    "\n",
    "from DataPipeline.dataset import ZincSubgraphDatasetStep, custom_collate_GNN2\n",
    "from Model.GNN2 import ModelWithEdgeFeatures\n",
    "from Model.metrics import pseudo_accuracy_metric, pseudo_recall_for_each_class, pseudo_precision_for_each_class"
   ]
  },
  {
   "cell_type": "code",
   "execution_count": 4,
   "metadata": {},
   "outputs": [
    {
     "name": "stdout",
     "output_type": "stream",
     "text": [
      "Dataset encoded with size 7\n"
     ]
    }
   ],
   "source": [
    "datapath = Path('..') / '../DataPipeline/data/preprocessed_graph_no_I_Br_P.pt'\n",
    "dataset = ZincSubgraphDatasetStep(data_path = datapath, GNN_type=2)"
   ]
  },
  {
   "cell_type": "code",
   "execution_count": 5,
   "metadata": {},
   "outputs": [],
   "source": [
    "loader = DataLoader(dataset, batch_size=128, shuffle=True, collate_fn=custom_collate_GNN2)"
   ]
  },
  {
   "cell_type": "code",
   "execution_count": 6,
   "metadata": {},
   "outputs": [],
   "source": [
    "encoding_size = 7\n",
    "\n",
    "model = ModelWithEdgeFeatures(in_channels=encoding_size, hidden_channels_list=[64, 128, 256, 512, 512], mlp_hidden_channels=512, edge_channels=4, num_classes=4, use_dropout=False)\n",
    "device = torch.device(\"cuda\" if torch.cuda.is_available() else \"cpu\")\n",
    "model = model.to(device)\n",
    "\n",
    "# Set up the optimizer and loss function\n",
    "optimizer = AdamW(model.parameters(), lr=0.0001)\n",
    "\n",
    "# Set up the loss function for multiclass \n",
    "criterion = nn.CrossEntropyLoss()\n",
    "\n",
    "\n",
    "name = 'GNN2_test'\n",
    "\n",
    "# Training function\n",
    "\n",
    "from tqdm.notebook import tqdm as tqdm_notebook\n",
    "import numpy as np"
   ]
  },
  {
   "cell_type": "code",
   "execution_count": 7,
   "metadata": {},
   "outputs": [],
   "source": [
    "\n",
    "from sklearn.metrics import accuracy_score, recall_score, precision_score\n",
    "def train(loader, epoch):\n",
    "    model.train()\n",
    "    total_loss = 0\n",
    "    \n",
    "    progress_bar = tqdm_notebook(loader, desc=\"Training\", unit=\"batch\")\n",
    "\n",
    "    avg_output_vector = np.zeros(4)  # Initialize the average output vector\n",
    "    avg_label_vector = np.zeros(4)  # Initialize the average label vector\n",
    "    total_graphs_processed = 0\n",
    "\n",
    "    num_correct = 0\n",
    "    num_correct_recall = torch.zeros(4)\n",
    "    num_correct_precision = torch.zeros(4)\n",
    "    count_per_class_recall = torch.zeros(4)\n",
    "    count_per_class_precision = torch.zeros(4)\n",
    "\n",
    "    true_labels = torch.tensor([])\n",
    "    predicted_labels = torch.tensor([])\n",
    "\n",
    "    for batch_idx, batch in enumerate(progress_bar):\n",
    "        data = batch[0]\n",
    "        edge_infos = batch[1]\n",
    "        data = data.to(device)\n",
    "        optimizer.zero_grad()\n",
    "        logit_out = model(data)\n",
    "        edge_infos = edge_infos.to(device)\n",
    "\n",
    "        loss = criterion(logit_out, edge_infos)\n",
    "       \n",
    "        loss.backward()\n",
    "        optimizer.step()\n",
    "        total_loss += loss.item() * data.num_graphs\n",
    "        loss_value = total_loss / (data.num_graphs * (progress_bar.last_print_n + 1))\n",
    "        \n",
    "        out = F.softmax(logit_out, dim=1)\n",
    "\n",
    "        # Collect true labels and predicted labels\n",
    "        num_correct += pseudo_accuracy_metric(out.detach().cpu(), edge_infos.detach().cpu(), random=True)\n",
    "\n",
    "        recall_output = pseudo_recall_for_each_class(out.detach().cpu(), edge_infos.detach().cpu(), random=True)\n",
    "        precision_output = pseudo_precision_for_each_class(out.detach().cpu(), edge_infos.detach().cpu(), random=True)\n",
    "        num_correct_recall += recall_output[0]\n",
    "        num_correct_precision += precision_output[0]\n",
    "        count_per_class_recall += recall_output[1]\n",
    "        count_per_class_precision += precision_output[1]\n",
    "\n",
    "        current_avg_output_vector = avg_output_vector / total_graphs_processed\n",
    "        current_avg_label_vector = avg_label_vector / total_graphs_processed\n",
    "        \n",
    "        # Update the average output vector\n",
    "        avg_output_vector += out.detach().cpu().numpy().mean(axis=0) * data.num_graphs\n",
    "        avg_label_vector += edge_infos.detach().cpu().numpy().mean(axis=0) * data.num_graphs\n",
    "        total_graphs_processed += data.num_graphs\n",
    "        current_avg_output_vector = avg_output_vector / total_graphs_processed\n",
    "        current_avg_label_vector = avg_label_vector / total_graphs_processed\n",
    "        avg_correct = num_correct / total_graphs_processed\n",
    "        avg_correct_recall = num_correct_recall / count_per_class_recall\n",
    "        avg_correct_precision = num_correct_precision / count_per_class_precision\n",
    "        avg_f1 = 2 * (avg_correct_recall * avg_correct_precision) / (avg_correct_recall + avg_correct_precision)\n",
    "        progress_bar.set_postfix(loss=loss_value, avg_output_vector=current_avg_output_vector, \n",
    "                                 avg_label_vector=current_avg_label_vector, \n",
    "                                 avg_correct=avg_correct, num_correct=num_correct, \n",
    "                                 total_graphs_processed=total_graphs_processed, \n",
    "                                 avg_correct_precision=avg_correct_precision, \n",
    "                                 avg_correct_recall=avg_correct_recall, \n",
    "                                 avg_f1=avg_f1,\n",
    "                                 count_per_class_precision=count_per_class_precision,\n",
    "                                 count_per_class_recall=count_per_class_recall)\n",
    "\n",
    "    true_labels = np.array(true_labels)\n",
    "    predicted_labels = np.array(predicted_labels)\n",
    "\n",
    "    # Compute accuracy, recall, and precision for each class\n",
    "    accuracy = accuracy_score(true_labels, predicted_labels)\n",
    "    recall = recall_score(true_labels, predicted_labels, average=None)\n",
    "    precision = precision_score(true_labels, predicted_labels, average=None)\n",
    "\n",
    "    return (\n",
    "        total_loss / len(loader.dataset),\n",
    "        current_avg_label_vector,\n",
    "        current_avg_output_vector,\n",
    "        accuracy,\n",
    "        recall,\n",
    "        precision\n",
    "    )"
   ]
  },
  {
   "cell_type": "code",
   "execution_count": 8,
   "metadata": {},
   "outputs": [
    {
     "data": {
      "application/vnd.jupyter.widget-view+json": {
       "model_id": "69c94e6a0d09427dbde49a4a3bdb3b89",
       "version_major": 2,
       "version_minor": 0
      },
      "text/plain": [
       "Training:   0%|          | 0/1845 [00:00<?, ?batch/s]"
      ]
     },
     "metadata": {},
     "output_type": "display_data"
    },
    {
     "name": "stderr",
     "output_type": "stream",
     "text": [
      "C:\\Users\\goupi\\AppData\\Local\\Temp\\ipykernel_14868\\410524407.py:48: RuntimeWarning: invalid value encountered in divide\n",
      "  current_avg_output_vector = avg_output_vector / total_graphs_processed\n",
      "C:\\Users\\goupi\\AppData\\Local\\Temp\\ipykernel_14868\\410524407.py:49: RuntimeWarning: invalid value encountered in divide\n",
      "  current_avg_label_vector = avg_label_vector / total_graphs_processed\n"
     ]
    },
    {
     "name": "stdout",
     "output_type": "stream",
     "text": [
      "Epoch: 1, Loss: 0.43639229\n"
     ]
    },
    {
     "name": "stderr",
     "output_type": "stream",
     "text": [
      "c:\\Users\\goupi\\.conda\\envs\\torch_geometric\\lib\\site-packages\\numpy\\lib\\function_base.py:518: RuntimeWarning: Mean of empty slice.\n",
      "  avg = a.mean(axis, **keepdims_kw)\n",
      "c:\\Users\\goupi\\.conda\\envs\\torch_geometric\\lib\\site-packages\\numpy\\core\\_methods.py:190: RuntimeWarning: invalid value encountered in double_scalars\n",
      "  ret = ret.dtype.type(ret / rcount)\n",
      "C:\\Users\\goupi\\AppData\\Local\\Temp\\ipykernel_14868\\3785573072.py:7: FutureWarning: The frame.append method is deprecated and will be removed from pandas in a future version. Use pandas.concat instead.\n",
      "  training_history = training_history.append({'epoch': epoch, 'loss': loss, 'avg_output_vector': avg_output_vector, 'avg_label_vector': avg_label_vector, 'avg_correct': accuracy, 'precision': precision, 'recall': recall}, ignore_index=True)\n"
     ]
    },
    {
     "data": {
      "application/vnd.jupyter.widget-view+json": {
       "model_id": "96f6024780114a3c971f39aae23714b9",
       "version_major": 2,
       "version_minor": 0
      },
      "text/plain": [
       "Training:   0%|          | 0/1845 [00:00<?, ?batch/s]"
      ]
     },
     "metadata": {},
     "output_type": "display_data"
    },
    {
     "name": "stderr",
     "output_type": "stream",
     "text": [
      "C:\\Users\\goupi\\AppData\\Local\\Temp\\ipykernel_14868\\410524407.py:48: RuntimeWarning: invalid value encountered in divide\n",
      "  current_avg_output_vector = avg_output_vector / total_graphs_processed\n",
      "C:\\Users\\goupi\\AppData\\Local\\Temp\\ipykernel_14868\\410524407.py:49: RuntimeWarning: invalid value encountered in divide\n",
      "  current_avg_label_vector = avg_label_vector / total_graphs_processed\n"
     ]
    },
    {
     "name": "stdout",
     "output_type": "stream",
     "text": [
      "Epoch: 2, Loss: 0.33235313\n"
     ]
    },
    {
     "name": "stderr",
     "output_type": "stream",
     "text": [
      "c:\\Users\\goupi\\.conda\\envs\\torch_geometric\\lib\\site-packages\\numpy\\lib\\function_base.py:518: RuntimeWarning: Mean of empty slice.\n",
      "  avg = a.mean(axis, **keepdims_kw)\n",
      "c:\\Users\\goupi\\.conda\\envs\\torch_geometric\\lib\\site-packages\\numpy\\core\\_methods.py:190: RuntimeWarning: invalid value encountered in double_scalars\n",
      "  ret = ret.dtype.type(ret / rcount)\n",
      "C:\\Users\\goupi\\AppData\\Local\\Temp\\ipykernel_14868\\3785573072.py:7: FutureWarning: The frame.append method is deprecated and will be removed from pandas in a future version. Use pandas.concat instead.\n",
      "  training_history = training_history.append({'epoch': epoch, 'loss': loss, 'avg_output_vector': avg_output_vector, 'avg_label_vector': avg_label_vector, 'avg_correct': accuracy, 'precision': precision, 'recall': recall}, ignore_index=True)\n"
     ]
    },
    {
     "data": {
      "application/vnd.jupyter.widget-view+json": {
       "model_id": "968288f01d3e47269fef46107e1badd3",
       "version_major": 2,
       "version_minor": 0
      },
      "text/plain": [
       "Training:   0%|          | 0/1845 [00:00<?, ?batch/s]"
      ]
     },
     "metadata": {},
     "output_type": "display_data"
    },
    {
     "name": "stderr",
     "output_type": "stream",
     "text": [
      "C:\\Users\\goupi\\AppData\\Local\\Temp\\ipykernel_14868\\410524407.py:48: RuntimeWarning: invalid value encountered in divide\n",
      "  current_avg_output_vector = avg_output_vector / total_graphs_processed\n",
      "C:\\Users\\goupi\\AppData\\Local\\Temp\\ipykernel_14868\\410524407.py:49: RuntimeWarning: invalid value encountered in divide\n",
      "  current_avg_label_vector = avg_label_vector / total_graphs_processed\n"
     ]
    },
    {
     "name": "stdout",
     "output_type": "stream",
     "text": [
      "Epoch: 3, Loss: 0.31015793\n"
     ]
    },
    {
     "name": "stderr",
     "output_type": "stream",
     "text": [
      "c:\\Users\\goupi\\.conda\\envs\\torch_geometric\\lib\\site-packages\\numpy\\lib\\function_base.py:518: RuntimeWarning: Mean of empty slice.\n",
      "  avg = a.mean(axis, **keepdims_kw)\n",
      "c:\\Users\\goupi\\.conda\\envs\\torch_geometric\\lib\\site-packages\\numpy\\core\\_methods.py:190: RuntimeWarning: invalid value encountered in double_scalars\n",
      "  ret = ret.dtype.type(ret / rcount)\n",
      "C:\\Users\\goupi\\AppData\\Local\\Temp\\ipykernel_14868\\3785573072.py:7: FutureWarning: The frame.append method is deprecated and will be removed from pandas in a future version. Use pandas.concat instead.\n",
      "  training_history = training_history.append({'epoch': epoch, 'loss': loss, 'avg_output_vector': avg_output_vector, 'avg_label_vector': avg_label_vector, 'avg_correct': accuracy, 'precision': precision, 'recall': recall}, ignore_index=True)\n"
     ]
    },
    {
     "data": {
      "application/vnd.jupyter.widget-view+json": {
       "model_id": "966f97bbb1d34627a895ffb98d455e80",
       "version_major": 2,
       "version_minor": 0
      },
      "text/plain": [
       "Training:   0%|          | 0/1845 [00:00<?, ?batch/s]"
      ]
     },
     "metadata": {},
     "output_type": "display_data"
    },
    {
     "name": "stderr",
     "output_type": "stream",
     "text": [
      "C:\\Users\\goupi\\AppData\\Local\\Temp\\ipykernel_14868\\410524407.py:48: RuntimeWarning: invalid value encountered in divide\n",
      "  current_avg_output_vector = avg_output_vector / total_graphs_processed\n",
      "C:\\Users\\goupi\\AppData\\Local\\Temp\\ipykernel_14868\\410524407.py:49: RuntimeWarning: invalid value encountered in divide\n",
      "  current_avg_label_vector = avg_label_vector / total_graphs_processed\n"
     ]
    },
    {
     "name": "stdout",
     "output_type": "stream",
     "text": [
      "Epoch: 4, Loss: 0.29974738\n"
     ]
    },
    {
     "name": "stderr",
     "output_type": "stream",
     "text": [
      "c:\\Users\\goupi\\.conda\\envs\\torch_geometric\\lib\\site-packages\\numpy\\lib\\function_base.py:518: RuntimeWarning: Mean of empty slice.\n",
      "  avg = a.mean(axis, **keepdims_kw)\n",
      "c:\\Users\\goupi\\.conda\\envs\\torch_geometric\\lib\\site-packages\\numpy\\core\\_methods.py:190: RuntimeWarning: invalid value encountered in double_scalars\n",
      "  ret = ret.dtype.type(ret / rcount)\n",
      "C:\\Users\\goupi\\AppData\\Local\\Temp\\ipykernel_14868\\3785573072.py:7: FutureWarning: The frame.append method is deprecated and will be removed from pandas in a future version. Use pandas.concat instead.\n",
      "  training_history = training_history.append({'epoch': epoch, 'loss': loss, 'avg_output_vector': avg_output_vector, 'avg_label_vector': avg_label_vector, 'avg_correct': accuracy, 'precision': precision, 'recall': recall}, ignore_index=True)\n"
     ]
    },
    {
     "data": {
      "application/vnd.jupyter.widget-view+json": {
       "model_id": "8102ed2b712943ab97c8628e6c1f0b1d",
       "version_major": 2,
       "version_minor": 0
      },
      "text/plain": [
       "Training:   0%|          | 0/1845 [00:00<?, ?batch/s]"
      ]
     },
     "metadata": {},
     "output_type": "display_data"
    },
    {
     "name": "stderr",
     "output_type": "stream",
     "text": [
      "C:\\Users\\goupi\\AppData\\Local\\Temp\\ipykernel_14868\\410524407.py:48: RuntimeWarning: invalid value encountered in divide\n",
      "  current_avg_output_vector = avg_output_vector / total_graphs_processed\n",
      "C:\\Users\\goupi\\AppData\\Local\\Temp\\ipykernel_14868\\410524407.py:49: RuntimeWarning: invalid value encountered in divide\n",
      "  current_avg_label_vector = avg_label_vector / total_graphs_processed\n"
     ]
    },
    {
     "name": "stdout",
     "output_type": "stream",
     "text": [
      "Epoch: 5, Loss: 0.29214425\n"
     ]
    },
    {
     "name": "stderr",
     "output_type": "stream",
     "text": [
      "c:\\Users\\goupi\\.conda\\envs\\torch_geometric\\lib\\site-packages\\numpy\\lib\\function_base.py:518: RuntimeWarning: Mean of empty slice.\n",
      "  avg = a.mean(axis, **keepdims_kw)\n",
      "c:\\Users\\goupi\\.conda\\envs\\torch_geometric\\lib\\site-packages\\numpy\\core\\_methods.py:190: RuntimeWarning: invalid value encountered in double_scalars\n",
      "  ret = ret.dtype.type(ret / rcount)\n",
      "C:\\Users\\goupi\\AppData\\Local\\Temp\\ipykernel_14868\\3785573072.py:7: FutureWarning: The frame.append method is deprecated and will be removed from pandas in a future version. Use pandas.concat instead.\n",
      "  training_history = training_history.append({'epoch': epoch, 'loss': loss, 'avg_output_vector': avg_output_vector, 'avg_label_vector': avg_label_vector, 'avg_correct': accuracy, 'precision': precision, 'recall': recall}, ignore_index=True)\n"
     ]
    },
    {
     "data": {
      "application/vnd.jupyter.widget-view+json": {
       "model_id": "fbe195c09119486288e6f5133a2dff3b",
       "version_major": 2,
       "version_minor": 0
      },
      "text/plain": [
       "Training:   0%|          | 0/1845 [00:00<?, ?batch/s]"
      ]
     },
     "metadata": {},
     "output_type": "display_data"
    },
    {
     "name": "stderr",
     "output_type": "stream",
     "text": [
      "C:\\Users\\goupi\\AppData\\Local\\Temp\\ipykernel_14868\\410524407.py:48: RuntimeWarning: invalid value encountered in divide\n",
      "  current_avg_output_vector = avg_output_vector / total_graphs_processed\n",
      "C:\\Users\\goupi\\AppData\\Local\\Temp\\ipykernel_14868\\410524407.py:49: RuntimeWarning: invalid value encountered in divide\n",
      "  current_avg_label_vector = avg_label_vector / total_graphs_processed\n"
     ]
    },
    {
     "name": "stdout",
     "output_type": "stream",
     "text": [
      "Epoch: 6, Loss: 0.28671564\n"
     ]
    },
    {
     "name": "stderr",
     "output_type": "stream",
     "text": [
      "c:\\Users\\goupi\\.conda\\envs\\torch_geometric\\lib\\site-packages\\numpy\\lib\\function_base.py:518: RuntimeWarning: Mean of empty slice.\n",
      "  avg = a.mean(axis, **keepdims_kw)\n",
      "c:\\Users\\goupi\\.conda\\envs\\torch_geometric\\lib\\site-packages\\numpy\\core\\_methods.py:190: RuntimeWarning: invalid value encountered in double_scalars\n",
      "  ret = ret.dtype.type(ret / rcount)\n",
      "C:\\Users\\goupi\\AppData\\Local\\Temp\\ipykernel_14868\\3785573072.py:7: FutureWarning: The frame.append method is deprecated and will be removed from pandas in a future version. Use pandas.concat instead.\n",
      "  training_history = training_history.append({'epoch': epoch, 'loss': loss, 'avg_output_vector': avg_output_vector, 'avg_label_vector': avg_label_vector, 'avg_correct': accuracy, 'precision': precision, 'recall': recall}, ignore_index=True)\n"
     ]
    },
    {
     "data": {
      "application/vnd.jupyter.widget-view+json": {
       "model_id": "edcbe4b4d66d435c8d9b1e5f1894b61f",
       "version_major": 2,
       "version_minor": 0
      },
      "text/plain": [
       "Training:   0%|          | 0/1845 [00:00<?, ?batch/s]"
      ]
     },
     "metadata": {},
     "output_type": "display_data"
    },
    {
     "name": "stderr",
     "output_type": "stream",
     "text": [
      "C:\\Users\\goupi\\AppData\\Local\\Temp\\ipykernel_14868\\410524407.py:48: RuntimeWarning: invalid value encountered in divide\n",
      "  current_avg_output_vector = avg_output_vector / total_graphs_processed\n",
      "C:\\Users\\goupi\\AppData\\Local\\Temp\\ipykernel_14868\\410524407.py:49: RuntimeWarning: invalid value encountered in divide\n",
      "  current_avg_label_vector = avg_label_vector / total_graphs_processed\n"
     ]
    },
    {
     "name": "stdout",
     "output_type": "stream",
     "text": [
      "Epoch: 7, Loss: 0.28310633\n"
     ]
    },
    {
     "name": "stderr",
     "output_type": "stream",
     "text": [
      "c:\\Users\\goupi\\.conda\\envs\\torch_geometric\\lib\\site-packages\\numpy\\lib\\function_base.py:518: RuntimeWarning: Mean of empty slice.\n",
      "  avg = a.mean(axis, **keepdims_kw)\n",
      "c:\\Users\\goupi\\.conda\\envs\\torch_geometric\\lib\\site-packages\\numpy\\core\\_methods.py:190: RuntimeWarning: invalid value encountered in double_scalars\n",
      "  ret = ret.dtype.type(ret / rcount)\n",
      "C:\\Users\\goupi\\AppData\\Local\\Temp\\ipykernel_14868\\3785573072.py:7: FutureWarning: The frame.append method is deprecated and will be removed from pandas in a future version. Use pandas.concat instead.\n",
      "  training_history = training_history.append({'epoch': epoch, 'loss': loss, 'avg_output_vector': avg_output_vector, 'avg_label_vector': avg_label_vector, 'avg_correct': accuracy, 'precision': precision, 'recall': recall}, ignore_index=True)\n"
     ]
    },
    {
     "data": {
      "application/vnd.jupyter.widget-view+json": {
       "model_id": "2f92c38e9a4946c1908e0bd9b79effce",
       "version_major": 2,
       "version_minor": 0
      },
      "text/plain": [
       "Training:   0%|          | 0/1845 [00:00<?, ?batch/s]"
      ]
     },
     "metadata": {},
     "output_type": "display_data"
    },
    {
     "name": "stderr",
     "output_type": "stream",
     "text": [
      "C:\\Users\\goupi\\AppData\\Local\\Temp\\ipykernel_14868\\410524407.py:48: RuntimeWarning: invalid value encountered in divide\n",
      "  current_avg_output_vector = avg_output_vector / total_graphs_processed\n",
      "C:\\Users\\goupi\\AppData\\Local\\Temp\\ipykernel_14868\\410524407.py:49: RuntimeWarning: invalid value encountered in divide\n",
      "  current_avg_label_vector = avg_label_vector / total_graphs_processed\n"
     ]
    },
    {
     "name": "stdout",
     "output_type": "stream",
     "text": [
      "Epoch: 8, Loss: 0.28275780\n"
     ]
    },
    {
     "name": "stderr",
     "output_type": "stream",
     "text": [
      "c:\\Users\\goupi\\.conda\\envs\\torch_geometric\\lib\\site-packages\\numpy\\lib\\function_base.py:518: RuntimeWarning: Mean of empty slice.\n",
      "  avg = a.mean(axis, **keepdims_kw)\n",
      "c:\\Users\\goupi\\.conda\\envs\\torch_geometric\\lib\\site-packages\\numpy\\core\\_methods.py:190: RuntimeWarning: invalid value encountered in double_scalars\n",
      "  ret = ret.dtype.type(ret / rcount)\n",
      "C:\\Users\\goupi\\AppData\\Local\\Temp\\ipykernel_14868\\3785573072.py:7: FutureWarning: The frame.append method is deprecated and will be removed from pandas in a future version. Use pandas.concat instead.\n",
      "  training_history = training_history.append({'epoch': epoch, 'loss': loss, 'avg_output_vector': avg_output_vector, 'avg_label_vector': avg_label_vector, 'avg_correct': accuracy, 'precision': precision, 'recall': recall}, ignore_index=True)\n"
     ]
    },
    {
     "data": {
      "application/vnd.jupyter.widget-view+json": {
       "model_id": "eda00e30ef7e4895957ab379a6e064cf",
       "version_major": 2,
       "version_minor": 0
      },
      "text/plain": [
       "Training:   0%|          | 0/1845 [00:00<?, ?batch/s]"
      ]
     },
     "metadata": {},
     "output_type": "display_data"
    },
    {
     "name": "stderr",
     "output_type": "stream",
     "text": [
      "C:\\Users\\goupi\\AppData\\Local\\Temp\\ipykernel_14868\\410524407.py:48: RuntimeWarning: invalid value encountered in divide\n",
      "  current_avg_output_vector = avg_output_vector / total_graphs_processed\n",
      "C:\\Users\\goupi\\AppData\\Local\\Temp\\ipykernel_14868\\410524407.py:49: RuntimeWarning: invalid value encountered in divide\n",
      "  current_avg_label_vector = avg_label_vector / total_graphs_processed\n"
     ]
    },
    {
     "name": "stdout",
     "output_type": "stream",
     "text": [
      "Epoch: 9, Loss: 0.27687294\n"
     ]
    },
    {
     "name": "stderr",
     "output_type": "stream",
     "text": [
      "c:\\Users\\goupi\\.conda\\envs\\torch_geometric\\lib\\site-packages\\numpy\\lib\\function_base.py:518: RuntimeWarning: Mean of empty slice.\n",
      "  avg = a.mean(axis, **keepdims_kw)\n",
      "c:\\Users\\goupi\\.conda\\envs\\torch_geometric\\lib\\site-packages\\numpy\\core\\_methods.py:190: RuntimeWarning: invalid value encountered in double_scalars\n",
      "  ret = ret.dtype.type(ret / rcount)\n",
      "C:\\Users\\goupi\\AppData\\Local\\Temp\\ipykernel_14868\\3785573072.py:7: FutureWarning: The frame.append method is deprecated and will be removed from pandas in a future version. Use pandas.concat instead.\n",
      "  training_history = training_history.append({'epoch': epoch, 'loss': loss, 'avg_output_vector': avg_output_vector, 'avg_label_vector': avg_label_vector, 'avg_correct': accuracy, 'precision': precision, 'recall': recall}, ignore_index=True)\n"
     ]
    },
    {
     "data": {
      "application/vnd.jupyter.widget-view+json": {
       "model_id": "169625fe419440098ef81e2f20425bb2",
       "version_major": 2,
       "version_minor": 0
      },
      "text/plain": [
       "Training:   0%|          | 0/1845 [00:00<?, ?batch/s]"
      ]
     },
     "metadata": {},
     "output_type": "display_data"
    },
    {
     "name": "stderr",
     "output_type": "stream",
     "text": [
      "C:\\Users\\goupi\\AppData\\Local\\Temp\\ipykernel_14868\\410524407.py:48: RuntimeWarning: invalid value encountered in divide\n",
      "  current_avg_output_vector = avg_output_vector / total_graphs_processed\n",
      "C:\\Users\\goupi\\AppData\\Local\\Temp\\ipykernel_14868\\410524407.py:49: RuntimeWarning: invalid value encountered in divide\n",
      "  current_avg_label_vector = avg_label_vector / total_graphs_processed\n"
     ]
    },
    {
     "name": "stdout",
     "output_type": "stream",
     "text": [
      "Epoch: 10, Loss: 0.27572429\n"
     ]
    },
    {
     "name": "stderr",
     "output_type": "stream",
     "text": [
      "c:\\Users\\goupi\\.conda\\envs\\torch_geometric\\lib\\site-packages\\numpy\\lib\\function_base.py:518: RuntimeWarning: Mean of empty slice.\n",
      "  avg = a.mean(axis, **keepdims_kw)\n",
      "c:\\Users\\goupi\\.conda\\envs\\torch_geometric\\lib\\site-packages\\numpy\\core\\_methods.py:190: RuntimeWarning: invalid value encountered in double_scalars\n",
      "  ret = ret.dtype.type(ret / rcount)\n",
      "C:\\Users\\goupi\\AppData\\Local\\Temp\\ipykernel_14868\\3785573072.py:7: FutureWarning: The frame.append method is deprecated and will be removed from pandas in a future version. Use pandas.concat instead.\n",
      "  training_history = training_history.append({'epoch': epoch, 'loss': loss, 'avg_output_vector': avg_output_vector, 'avg_label_vector': avg_label_vector, 'avg_correct': accuracy, 'precision': precision, 'recall': recall}, ignore_index=True)\n"
     ]
    },
    {
     "data": {
      "application/vnd.jupyter.widget-view+json": {
       "model_id": "dd5d23ce1969471d805f9e42791093e0",
       "version_major": 2,
       "version_minor": 0
      },
      "text/plain": [
       "Training:   0%|          | 0/1845 [00:00<?, ?batch/s]"
      ]
     },
     "metadata": {},
     "output_type": "display_data"
    },
    {
     "name": "stderr",
     "output_type": "stream",
     "text": [
      "C:\\Users\\goupi\\AppData\\Local\\Temp\\ipykernel_14868\\410524407.py:48: RuntimeWarning: invalid value encountered in divide\n",
      "  current_avg_output_vector = avg_output_vector / total_graphs_processed\n",
      "C:\\Users\\goupi\\AppData\\Local\\Temp\\ipykernel_14868\\410524407.py:49: RuntimeWarning: invalid value encountered in divide\n",
      "  current_avg_label_vector = avg_label_vector / total_graphs_processed\n"
     ]
    },
    {
     "name": "stdout",
     "output_type": "stream",
     "text": [
      "Epoch: 11, Loss: 0.27143756\n"
     ]
    },
    {
     "name": "stderr",
     "output_type": "stream",
     "text": [
      "c:\\Users\\goupi\\.conda\\envs\\torch_geometric\\lib\\site-packages\\numpy\\lib\\function_base.py:518: RuntimeWarning: Mean of empty slice.\n",
      "  avg = a.mean(axis, **keepdims_kw)\n",
      "c:\\Users\\goupi\\.conda\\envs\\torch_geometric\\lib\\site-packages\\numpy\\core\\_methods.py:190: RuntimeWarning: invalid value encountered in double_scalars\n",
      "  ret = ret.dtype.type(ret / rcount)\n",
      "C:\\Users\\goupi\\AppData\\Local\\Temp\\ipykernel_14868\\3785573072.py:7: FutureWarning: The frame.append method is deprecated and will be removed from pandas in a future version. Use pandas.concat instead.\n",
      "  training_history = training_history.append({'epoch': epoch, 'loss': loss, 'avg_output_vector': avg_output_vector, 'avg_label_vector': avg_label_vector, 'avg_correct': accuracy, 'precision': precision, 'recall': recall}, ignore_index=True)\n"
     ]
    },
    {
     "data": {
      "application/vnd.jupyter.widget-view+json": {
       "model_id": "df76f48c5a1a41e3ac3316cc66218752",
       "version_major": 2,
       "version_minor": 0
      },
      "text/plain": [
       "Training:   0%|          | 0/1845 [00:00<?, ?batch/s]"
      ]
     },
     "metadata": {},
     "output_type": "display_data"
    },
    {
     "name": "stderr",
     "output_type": "stream",
     "text": [
      "C:\\Users\\goupi\\AppData\\Local\\Temp\\ipykernel_14868\\410524407.py:48: RuntimeWarning: invalid value encountered in divide\n",
      "  current_avg_output_vector = avg_output_vector / total_graphs_processed\n",
      "C:\\Users\\goupi\\AppData\\Local\\Temp\\ipykernel_14868\\410524407.py:49: RuntimeWarning: invalid value encountered in divide\n",
      "  current_avg_label_vector = avg_label_vector / total_graphs_processed\n"
     ]
    },
    {
     "name": "stdout",
     "output_type": "stream",
     "text": [
      "Epoch: 12, Loss: 0.27269799\n"
     ]
    },
    {
     "name": "stderr",
     "output_type": "stream",
     "text": [
      "c:\\Users\\goupi\\.conda\\envs\\torch_geometric\\lib\\site-packages\\numpy\\lib\\function_base.py:518: RuntimeWarning: Mean of empty slice.\n",
      "  avg = a.mean(axis, **keepdims_kw)\n",
      "c:\\Users\\goupi\\.conda\\envs\\torch_geometric\\lib\\site-packages\\numpy\\core\\_methods.py:190: RuntimeWarning: invalid value encountered in double_scalars\n",
      "  ret = ret.dtype.type(ret / rcount)\n",
      "C:\\Users\\goupi\\AppData\\Local\\Temp\\ipykernel_14868\\3785573072.py:7: FutureWarning: The frame.append method is deprecated and will be removed from pandas in a future version. Use pandas.concat instead.\n",
      "  training_history = training_history.append({'epoch': epoch, 'loss': loss, 'avg_output_vector': avg_output_vector, 'avg_label_vector': avg_label_vector, 'avg_correct': accuracy, 'precision': precision, 'recall': recall}, ignore_index=True)\n"
     ]
    },
    {
     "data": {
      "application/vnd.jupyter.widget-view+json": {
       "model_id": "ae8c891a83844c568682e098fbbc34b0",
       "version_major": 2,
       "version_minor": 0
      },
      "text/plain": [
       "Training:   0%|          | 0/1845 [00:00<?, ?batch/s]"
      ]
     },
     "metadata": {},
     "output_type": "display_data"
    },
    {
     "name": "stderr",
     "output_type": "stream",
     "text": [
      "C:\\Users\\goupi\\AppData\\Local\\Temp\\ipykernel_14868\\410524407.py:48: RuntimeWarning: invalid value encountered in divide\n",
      "  current_avg_output_vector = avg_output_vector / total_graphs_processed\n",
      "C:\\Users\\goupi\\AppData\\Local\\Temp\\ipykernel_14868\\410524407.py:49: RuntimeWarning: invalid value encountered in divide\n",
      "  current_avg_label_vector = avg_label_vector / total_graphs_processed\n"
     ]
    },
    {
     "name": "stdout",
     "output_type": "stream",
     "text": [
      "Epoch: 13, Loss: 0.26994171\n"
     ]
    },
    {
     "name": "stderr",
     "output_type": "stream",
     "text": [
      "c:\\Users\\goupi\\.conda\\envs\\torch_geometric\\lib\\site-packages\\numpy\\lib\\function_base.py:518: RuntimeWarning: Mean of empty slice.\n",
      "  avg = a.mean(axis, **keepdims_kw)\n",
      "c:\\Users\\goupi\\.conda\\envs\\torch_geometric\\lib\\site-packages\\numpy\\core\\_methods.py:190: RuntimeWarning: invalid value encountered in double_scalars\n",
      "  ret = ret.dtype.type(ret / rcount)\n",
      "C:\\Users\\goupi\\AppData\\Local\\Temp\\ipykernel_14868\\3785573072.py:7: FutureWarning: The frame.append method is deprecated and will be removed from pandas in a future version. Use pandas.concat instead.\n",
      "  training_history = training_history.append({'epoch': epoch, 'loss': loss, 'avg_output_vector': avg_output_vector, 'avg_label_vector': avg_label_vector, 'avg_correct': accuracy, 'precision': precision, 'recall': recall}, ignore_index=True)\n"
     ]
    },
    {
     "data": {
      "application/vnd.jupyter.widget-view+json": {
       "model_id": "e09de3087ca84cbb9d3ee3a2747783a1",
       "version_major": 2,
       "version_minor": 0
      },
      "text/plain": [
       "Training:   0%|          | 0/1845 [00:00<?, ?batch/s]"
      ]
     },
     "metadata": {},
     "output_type": "display_data"
    },
    {
     "name": "stderr",
     "output_type": "stream",
     "text": [
      "C:\\Users\\goupi\\AppData\\Local\\Temp\\ipykernel_14868\\410524407.py:48: RuntimeWarning: invalid value encountered in divide\n",
      "  current_avg_output_vector = avg_output_vector / total_graphs_processed\n",
      "C:\\Users\\goupi\\AppData\\Local\\Temp\\ipykernel_14868\\410524407.py:49: RuntimeWarning: invalid value encountered in divide\n",
      "  current_avg_label_vector = avg_label_vector / total_graphs_processed\n"
     ]
    },
    {
     "name": "stdout",
     "output_type": "stream",
     "text": [
      "Epoch: 14, Loss: 0.26939701\n"
     ]
    },
    {
     "name": "stderr",
     "output_type": "stream",
     "text": [
      "c:\\Users\\goupi\\.conda\\envs\\torch_geometric\\lib\\site-packages\\numpy\\lib\\function_base.py:518: RuntimeWarning: Mean of empty slice.\n",
      "  avg = a.mean(axis, **keepdims_kw)\n",
      "c:\\Users\\goupi\\.conda\\envs\\torch_geometric\\lib\\site-packages\\numpy\\core\\_methods.py:190: RuntimeWarning: invalid value encountered in double_scalars\n",
      "  ret = ret.dtype.type(ret / rcount)\n",
      "C:\\Users\\goupi\\AppData\\Local\\Temp\\ipykernel_14868\\3785573072.py:7: FutureWarning: The frame.append method is deprecated and will be removed from pandas in a future version. Use pandas.concat instead.\n",
      "  training_history = training_history.append({'epoch': epoch, 'loss': loss, 'avg_output_vector': avg_output_vector, 'avg_label_vector': avg_label_vector, 'avg_correct': accuracy, 'precision': precision, 'recall': recall}, ignore_index=True)\n"
     ]
    },
    {
     "data": {
      "application/vnd.jupyter.widget-view+json": {
       "model_id": "8ccaaac0e5494ed0b25f3b63712cf371",
       "version_major": 2,
       "version_minor": 0
      },
      "text/plain": [
       "Training:   0%|          | 0/1845 [00:00<?, ?batch/s]"
      ]
     },
     "metadata": {},
     "output_type": "display_data"
    },
    {
     "name": "stderr",
     "output_type": "stream",
     "text": [
      "C:\\Users\\goupi\\AppData\\Local\\Temp\\ipykernel_14868\\410524407.py:48: RuntimeWarning: invalid value encountered in divide\n",
      "  current_avg_output_vector = avg_output_vector / total_graphs_processed\n",
      "C:\\Users\\goupi\\AppData\\Local\\Temp\\ipykernel_14868\\410524407.py:49: RuntimeWarning: invalid value encountered in divide\n",
      "  current_avg_label_vector = avg_label_vector / total_graphs_processed\n"
     ]
    },
    {
     "name": "stdout",
     "output_type": "stream",
     "text": [
      "Epoch: 15, Loss: 0.26553458\n"
     ]
    },
    {
     "name": "stderr",
     "output_type": "stream",
     "text": [
      "c:\\Users\\goupi\\.conda\\envs\\torch_geometric\\lib\\site-packages\\numpy\\lib\\function_base.py:518: RuntimeWarning: Mean of empty slice.\n",
      "  avg = a.mean(axis, **keepdims_kw)\n",
      "c:\\Users\\goupi\\.conda\\envs\\torch_geometric\\lib\\site-packages\\numpy\\core\\_methods.py:190: RuntimeWarning: invalid value encountered in double_scalars\n",
      "  ret = ret.dtype.type(ret / rcount)\n",
      "C:\\Users\\goupi\\AppData\\Local\\Temp\\ipykernel_14868\\3785573072.py:7: FutureWarning: The frame.append method is deprecated and will be removed from pandas in a future version. Use pandas.concat instead.\n",
      "  training_history = training_history.append({'epoch': epoch, 'loss': loss, 'avg_output_vector': avg_output_vector, 'avg_label_vector': avg_label_vector, 'avg_correct': accuracy, 'precision': precision, 'recall': recall}, ignore_index=True)\n"
     ]
    },
    {
     "data": {
      "application/vnd.jupyter.widget-view+json": {
       "model_id": "d78371217edb43bcb043869fd0e0b735",
       "version_major": 2,
       "version_minor": 0
      },
      "text/plain": [
       "Training:   0%|          | 0/1845 [00:00<?, ?batch/s]"
      ]
     },
     "metadata": {},
     "output_type": "display_data"
    },
    {
     "name": "stderr",
     "output_type": "stream",
     "text": [
      "C:\\Users\\goupi\\AppData\\Local\\Temp\\ipykernel_14868\\410524407.py:48: RuntimeWarning: invalid value encountered in divide\n",
      "  current_avg_output_vector = avg_output_vector / total_graphs_processed\n",
      "C:\\Users\\goupi\\AppData\\Local\\Temp\\ipykernel_14868\\410524407.py:49: RuntimeWarning: invalid value encountered in divide\n",
      "  current_avg_label_vector = avg_label_vector / total_graphs_processed\n"
     ]
    },
    {
     "name": "stdout",
     "output_type": "stream",
     "text": [
      "Epoch: 16, Loss: 0.26838570\n"
     ]
    },
    {
     "name": "stderr",
     "output_type": "stream",
     "text": [
      "c:\\Users\\goupi\\.conda\\envs\\torch_geometric\\lib\\site-packages\\numpy\\lib\\function_base.py:518: RuntimeWarning: Mean of empty slice.\n",
      "  avg = a.mean(axis, **keepdims_kw)\n",
      "c:\\Users\\goupi\\.conda\\envs\\torch_geometric\\lib\\site-packages\\numpy\\core\\_methods.py:190: RuntimeWarning: invalid value encountered in double_scalars\n",
      "  ret = ret.dtype.type(ret / rcount)\n",
      "C:\\Users\\goupi\\AppData\\Local\\Temp\\ipykernel_14868\\3785573072.py:7: FutureWarning: The frame.append method is deprecated and will be removed from pandas in a future version. Use pandas.concat instead.\n",
      "  training_history = training_history.append({'epoch': epoch, 'loss': loss, 'avg_output_vector': avg_output_vector, 'avg_label_vector': avg_label_vector, 'avg_correct': accuracy, 'precision': precision, 'recall': recall}, ignore_index=True)\n"
     ]
    },
    {
     "data": {
      "application/vnd.jupyter.widget-view+json": {
       "model_id": "4587a98e59ce4d42a41ac7a7f8c4eafa",
       "version_major": 2,
       "version_minor": 0
      },
      "text/plain": [
       "Training:   0%|          | 0/1845 [00:00<?, ?batch/s]"
      ]
     },
     "metadata": {},
     "output_type": "display_data"
    },
    {
     "name": "stderr",
     "output_type": "stream",
     "text": [
      "C:\\Users\\goupi\\AppData\\Local\\Temp\\ipykernel_14868\\410524407.py:48: RuntimeWarning: invalid value encountered in divide\n",
      "  current_avg_output_vector = avg_output_vector / total_graphs_processed\n",
      "C:\\Users\\goupi\\AppData\\Local\\Temp\\ipykernel_14868\\410524407.py:49: RuntimeWarning: invalid value encountered in divide\n",
      "  current_avg_label_vector = avg_label_vector / total_graphs_processed\n"
     ]
    },
    {
     "name": "stdout",
     "output_type": "stream",
     "text": [
      "Epoch: 17, Loss: 0.26470102\n"
     ]
    },
    {
     "name": "stderr",
     "output_type": "stream",
     "text": [
      "c:\\Users\\goupi\\.conda\\envs\\torch_geometric\\lib\\site-packages\\numpy\\lib\\function_base.py:518: RuntimeWarning: Mean of empty slice.\n",
      "  avg = a.mean(axis, **keepdims_kw)\n",
      "c:\\Users\\goupi\\.conda\\envs\\torch_geometric\\lib\\site-packages\\numpy\\core\\_methods.py:190: RuntimeWarning: invalid value encountered in double_scalars\n",
      "  ret = ret.dtype.type(ret / rcount)\n",
      "C:\\Users\\goupi\\AppData\\Local\\Temp\\ipykernel_14868\\3785573072.py:7: FutureWarning: The frame.append method is deprecated and will be removed from pandas in a future version. Use pandas.concat instead.\n",
      "  training_history = training_history.append({'epoch': epoch, 'loss': loss, 'avg_output_vector': avg_output_vector, 'avg_label_vector': avg_label_vector, 'avg_correct': accuracy, 'precision': precision, 'recall': recall}, ignore_index=True)\n"
     ]
    },
    {
     "data": {
      "application/vnd.jupyter.widget-view+json": {
       "model_id": "7b209a8a46a84ee4b83e454bc5c20e9c",
       "version_major": 2,
       "version_minor": 0
      },
      "text/plain": [
       "Training:   0%|          | 0/1845 [00:00<?, ?batch/s]"
      ]
     },
     "metadata": {},
     "output_type": "display_data"
    },
    {
     "name": "stderr",
     "output_type": "stream",
     "text": [
      "C:\\Users\\goupi\\AppData\\Local\\Temp\\ipykernel_14868\\410524407.py:48: RuntimeWarning: invalid value encountered in divide\n",
      "  current_avg_output_vector = avg_output_vector / total_graphs_processed\n",
      "C:\\Users\\goupi\\AppData\\Local\\Temp\\ipykernel_14868\\410524407.py:49: RuntimeWarning: invalid value encountered in divide\n",
      "  current_avg_label_vector = avg_label_vector / total_graphs_processed\n"
     ]
    },
    {
     "name": "stdout",
     "output_type": "stream",
     "text": [
      "Epoch: 18, Loss: 0.26443643\n"
     ]
    },
    {
     "name": "stderr",
     "output_type": "stream",
     "text": [
      "c:\\Users\\goupi\\.conda\\envs\\torch_geometric\\lib\\site-packages\\numpy\\lib\\function_base.py:518: RuntimeWarning: Mean of empty slice.\n",
      "  avg = a.mean(axis, **keepdims_kw)\n",
      "c:\\Users\\goupi\\.conda\\envs\\torch_geometric\\lib\\site-packages\\numpy\\core\\_methods.py:190: RuntimeWarning: invalid value encountered in double_scalars\n",
      "  ret = ret.dtype.type(ret / rcount)\n",
      "C:\\Users\\goupi\\AppData\\Local\\Temp\\ipykernel_14868\\3785573072.py:7: FutureWarning: The frame.append method is deprecated and will be removed from pandas in a future version. Use pandas.concat instead.\n",
      "  training_history = training_history.append({'epoch': epoch, 'loss': loss, 'avg_output_vector': avg_output_vector, 'avg_label_vector': avg_label_vector, 'avg_correct': accuracy, 'precision': precision, 'recall': recall}, ignore_index=True)\n"
     ]
    },
    {
     "data": {
      "application/vnd.jupyter.widget-view+json": {
       "model_id": "9f972e6a97934130a3e77ef009dcba00",
       "version_major": 2,
       "version_minor": 0
      },
      "text/plain": [
       "Training:   0%|          | 0/1845 [00:00<?, ?batch/s]"
      ]
     },
     "metadata": {},
     "output_type": "display_data"
    },
    {
     "name": "stderr",
     "output_type": "stream",
     "text": [
      "C:\\Users\\goupi\\AppData\\Local\\Temp\\ipykernel_14868\\410524407.py:48: RuntimeWarning: invalid value encountered in divide\n",
      "  current_avg_output_vector = avg_output_vector / total_graphs_processed\n",
      "C:\\Users\\goupi\\AppData\\Local\\Temp\\ipykernel_14868\\410524407.py:49: RuntimeWarning: invalid value encountered in divide\n",
      "  current_avg_label_vector = avg_label_vector / total_graphs_processed\n"
     ]
    },
    {
     "name": "stdout",
     "output_type": "stream",
     "text": [
      "Epoch: 19, Loss: 0.26454680\n"
     ]
    },
    {
     "name": "stderr",
     "output_type": "stream",
     "text": [
      "c:\\Users\\goupi\\.conda\\envs\\torch_geometric\\lib\\site-packages\\numpy\\lib\\function_base.py:518: RuntimeWarning: Mean of empty slice.\n",
      "  avg = a.mean(axis, **keepdims_kw)\n",
      "c:\\Users\\goupi\\.conda\\envs\\torch_geometric\\lib\\site-packages\\numpy\\core\\_methods.py:190: RuntimeWarning: invalid value encountered in double_scalars\n",
      "  ret = ret.dtype.type(ret / rcount)\n",
      "C:\\Users\\goupi\\AppData\\Local\\Temp\\ipykernel_14868\\3785573072.py:7: FutureWarning: The frame.append method is deprecated and will be removed from pandas in a future version. Use pandas.concat instead.\n",
      "  training_history = training_history.append({'epoch': epoch, 'loss': loss, 'avg_output_vector': avg_output_vector, 'avg_label_vector': avg_label_vector, 'avg_correct': accuracy, 'precision': precision, 'recall': recall}, ignore_index=True)\n"
     ]
    },
    {
     "data": {
      "application/vnd.jupyter.widget-view+json": {
       "model_id": "ff3c233cf74f4675976eff9236a7a844",
       "version_major": 2,
       "version_minor": 0
      },
      "text/plain": [
       "Training:   0%|          | 0/1845 [00:00<?, ?batch/s]"
      ]
     },
     "metadata": {},
     "output_type": "display_data"
    },
    {
     "name": "stderr",
     "output_type": "stream",
     "text": [
      "C:\\Users\\goupi\\AppData\\Local\\Temp\\ipykernel_14868\\410524407.py:48: RuntimeWarning: invalid value encountered in divide\n",
      "  current_avg_output_vector = avg_output_vector / total_graphs_processed\n",
      "C:\\Users\\goupi\\AppData\\Local\\Temp\\ipykernel_14868\\410524407.py:49: RuntimeWarning: invalid value encountered in divide\n",
      "  current_avg_label_vector = avg_label_vector / total_graphs_processed\n"
     ]
    },
    {
     "name": "stdout",
     "output_type": "stream",
     "text": [
      "Epoch: 20, Loss: 0.26249712\n"
     ]
    },
    {
     "name": "stderr",
     "output_type": "stream",
     "text": [
      "c:\\Users\\goupi\\.conda\\envs\\torch_geometric\\lib\\site-packages\\numpy\\lib\\function_base.py:518: RuntimeWarning: Mean of empty slice.\n",
      "  avg = a.mean(axis, **keepdims_kw)\n",
      "c:\\Users\\goupi\\.conda\\envs\\torch_geometric\\lib\\site-packages\\numpy\\core\\_methods.py:190: RuntimeWarning: invalid value encountered in double_scalars\n",
      "  ret = ret.dtype.type(ret / rcount)\n",
      "C:\\Users\\goupi\\AppData\\Local\\Temp\\ipykernel_14868\\3785573072.py:7: FutureWarning: The frame.append method is deprecated and will be removed from pandas in a future version. Use pandas.concat instead.\n",
      "  training_history = training_history.append({'epoch': epoch, 'loss': loss, 'avg_output_vector': avg_output_vector, 'avg_label_vector': avg_label_vector, 'avg_correct': accuracy, 'precision': precision, 'recall': recall}, ignore_index=True)\n"
     ]
    },
    {
     "data": {
      "application/vnd.jupyter.widget-view+json": {
       "model_id": "33fb6a13b933426aa8530f5c69791250",
       "version_major": 2,
       "version_minor": 0
      },
      "text/plain": [
       "Training:   0%|          | 0/1845 [00:00<?, ?batch/s]"
      ]
     },
     "metadata": {},
     "output_type": "display_data"
    },
    {
     "name": "stderr",
     "output_type": "stream",
     "text": [
      "C:\\Users\\goupi\\AppData\\Local\\Temp\\ipykernel_14868\\410524407.py:48: RuntimeWarning: invalid value encountered in divide\n",
      "  current_avg_output_vector = avg_output_vector / total_graphs_processed\n",
      "C:\\Users\\goupi\\AppData\\Local\\Temp\\ipykernel_14868\\410524407.py:49: RuntimeWarning: invalid value encountered in divide\n",
      "  current_avg_label_vector = avg_label_vector / total_graphs_processed\n"
     ]
    },
    {
     "name": "stdout",
     "output_type": "stream",
     "text": [
      "Epoch: 21, Loss: 0.26346492\n"
     ]
    },
    {
     "name": "stderr",
     "output_type": "stream",
     "text": [
      "c:\\Users\\goupi\\.conda\\envs\\torch_geometric\\lib\\site-packages\\numpy\\lib\\function_base.py:518: RuntimeWarning: Mean of empty slice.\n",
      "  avg = a.mean(axis, **keepdims_kw)\n",
      "c:\\Users\\goupi\\.conda\\envs\\torch_geometric\\lib\\site-packages\\numpy\\core\\_methods.py:190: RuntimeWarning: invalid value encountered in double_scalars\n",
      "  ret = ret.dtype.type(ret / rcount)\n",
      "C:\\Users\\goupi\\AppData\\Local\\Temp\\ipykernel_14868\\3785573072.py:7: FutureWarning: The frame.append method is deprecated and will be removed from pandas in a future version. Use pandas.concat instead.\n",
      "  training_history = training_history.append({'epoch': epoch, 'loss': loss, 'avg_output_vector': avg_output_vector, 'avg_label_vector': avg_label_vector, 'avg_correct': accuracy, 'precision': precision, 'recall': recall}, ignore_index=True)\n"
     ]
    },
    {
     "data": {
      "application/vnd.jupyter.widget-view+json": {
       "model_id": "ca430ccd69254bf6bea66f40a2d718d0",
       "version_major": 2,
       "version_minor": 0
      },
      "text/plain": [
       "Training:   0%|          | 0/1845 [00:00<?, ?batch/s]"
      ]
     },
     "metadata": {},
     "output_type": "display_data"
    },
    {
     "name": "stderr",
     "output_type": "stream",
     "text": [
      "C:\\Users\\goupi\\AppData\\Local\\Temp\\ipykernel_14868\\410524407.py:48: RuntimeWarning: invalid value encountered in divide\n",
      "  current_avg_output_vector = avg_output_vector / total_graphs_processed\n",
      "C:\\Users\\goupi\\AppData\\Local\\Temp\\ipykernel_14868\\410524407.py:49: RuntimeWarning: invalid value encountered in divide\n",
      "  current_avg_label_vector = avg_label_vector / total_graphs_processed\n"
     ]
    },
    {
     "name": "stdout",
     "output_type": "stream",
     "text": [
      "Epoch: 22, Loss: 0.26352905\n"
     ]
    },
    {
     "name": "stderr",
     "output_type": "stream",
     "text": [
      "c:\\Users\\goupi\\.conda\\envs\\torch_geometric\\lib\\site-packages\\numpy\\lib\\function_base.py:518: RuntimeWarning: Mean of empty slice.\n",
      "  avg = a.mean(axis, **keepdims_kw)\n",
      "c:\\Users\\goupi\\.conda\\envs\\torch_geometric\\lib\\site-packages\\numpy\\core\\_methods.py:190: RuntimeWarning: invalid value encountered in double_scalars\n",
      "  ret = ret.dtype.type(ret / rcount)\n",
      "C:\\Users\\goupi\\AppData\\Local\\Temp\\ipykernel_14868\\3785573072.py:7: FutureWarning: The frame.append method is deprecated and will be removed from pandas in a future version. Use pandas.concat instead.\n",
      "  training_history = training_history.append({'epoch': epoch, 'loss': loss, 'avg_output_vector': avg_output_vector, 'avg_label_vector': avg_label_vector, 'avg_correct': accuracy, 'precision': precision, 'recall': recall}, ignore_index=True)\n"
     ]
    },
    {
     "data": {
      "application/vnd.jupyter.widget-view+json": {
       "model_id": "f25378b1fec64986905d0812bf6593bc",
       "version_major": 2,
       "version_minor": 0
      },
      "text/plain": [
       "Training:   0%|          | 0/1845 [00:00<?, ?batch/s]"
      ]
     },
     "metadata": {},
     "output_type": "display_data"
    },
    {
     "name": "stderr",
     "output_type": "stream",
     "text": [
      "C:\\Users\\goupi\\AppData\\Local\\Temp\\ipykernel_14868\\410524407.py:48: RuntimeWarning: invalid value encountered in divide\n",
      "  current_avg_output_vector = avg_output_vector / total_graphs_processed\n",
      "C:\\Users\\goupi\\AppData\\Local\\Temp\\ipykernel_14868\\410524407.py:49: RuntimeWarning: invalid value encountered in divide\n",
      "  current_avg_label_vector = avg_label_vector / total_graphs_processed\n"
     ]
    },
    {
     "name": "stdout",
     "output_type": "stream",
     "text": [
      "Epoch: 23, Loss: 0.26456688\n"
     ]
    },
    {
     "name": "stderr",
     "output_type": "stream",
     "text": [
      "c:\\Users\\goupi\\.conda\\envs\\torch_geometric\\lib\\site-packages\\numpy\\lib\\function_base.py:518: RuntimeWarning: Mean of empty slice.\n",
      "  avg = a.mean(axis, **keepdims_kw)\n",
      "c:\\Users\\goupi\\.conda\\envs\\torch_geometric\\lib\\site-packages\\numpy\\core\\_methods.py:190: RuntimeWarning: invalid value encountered in double_scalars\n",
      "  ret = ret.dtype.type(ret / rcount)\n",
      "C:\\Users\\goupi\\AppData\\Local\\Temp\\ipykernel_14868\\3785573072.py:7: FutureWarning: The frame.append method is deprecated and will be removed from pandas in a future version. Use pandas.concat instead.\n",
      "  training_history = training_history.append({'epoch': epoch, 'loss': loss, 'avg_output_vector': avg_output_vector, 'avg_label_vector': avg_label_vector, 'avg_correct': accuracy, 'precision': precision, 'recall': recall}, ignore_index=True)\n"
     ]
    },
    {
     "data": {
      "application/vnd.jupyter.widget-view+json": {
       "model_id": "d0bdc7bc153a452baaf7b3231a601bd2",
       "version_major": 2,
       "version_minor": 0
      },
      "text/plain": [
       "Training:   0%|          | 0/1845 [00:00<?, ?batch/s]"
      ]
     },
     "metadata": {},
     "output_type": "display_data"
    },
    {
     "name": "stderr",
     "output_type": "stream",
     "text": [
      "C:\\Users\\goupi\\AppData\\Local\\Temp\\ipykernel_14868\\410524407.py:48: RuntimeWarning: invalid value encountered in divide\n",
      "  current_avg_output_vector = avg_output_vector / total_graphs_processed\n",
      "C:\\Users\\goupi\\AppData\\Local\\Temp\\ipykernel_14868\\410524407.py:49: RuntimeWarning: invalid value encountered in divide\n",
      "  current_avg_label_vector = avg_label_vector / total_graphs_processed\n"
     ]
    },
    {
     "name": "stdout",
     "output_type": "stream",
     "text": [
      "Epoch: 24, Loss: 0.26116597\n"
     ]
    },
    {
     "name": "stderr",
     "output_type": "stream",
     "text": [
      "c:\\Users\\goupi\\.conda\\envs\\torch_geometric\\lib\\site-packages\\numpy\\lib\\function_base.py:518: RuntimeWarning: Mean of empty slice.\n",
      "  avg = a.mean(axis, **keepdims_kw)\n",
      "c:\\Users\\goupi\\.conda\\envs\\torch_geometric\\lib\\site-packages\\numpy\\core\\_methods.py:190: RuntimeWarning: invalid value encountered in double_scalars\n",
      "  ret = ret.dtype.type(ret / rcount)\n",
      "C:\\Users\\goupi\\AppData\\Local\\Temp\\ipykernel_14868\\3785573072.py:7: FutureWarning: The frame.append method is deprecated and will be removed from pandas in a future version. Use pandas.concat instead.\n",
      "  training_history = training_history.append({'epoch': epoch, 'loss': loss, 'avg_output_vector': avg_output_vector, 'avg_label_vector': avg_label_vector, 'avg_correct': accuracy, 'precision': precision, 'recall': recall}, ignore_index=True)\n"
     ]
    },
    {
     "data": {
      "application/vnd.jupyter.widget-view+json": {
       "model_id": "7605c06557e24671be48742c8a258026",
       "version_major": 2,
       "version_minor": 0
      },
      "text/plain": [
       "Training:   0%|          | 0/1845 [00:00<?, ?batch/s]"
      ]
     },
     "metadata": {},
     "output_type": "display_data"
    },
    {
     "name": "stderr",
     "output_type": "stream",
     "text": [
      "C:\\Users\\goupi\\AppData\\Local\\Temp\\ipykernel_14868\\410524407.py:48: RuntimeWarning: invalid value encountered in divide\n",
      "  current_avg_output_vector = avg_output_vector / total_graphs_processed\n",
      "C:\\Users\\goupi\\AppData\\Local\\Temp\\ipykernel_14868\\410524407.py:49: RuntimeWarning: invalid value encountered in divide\n",
      "  current_avg_label_vector = avg_label_vector / total_graphs_processed\n"
     ]
    },
    {
     "name": "stdout",
     "output_type": "stream",
     "text": [
      "Epoch: 25, Loss: 0.26183595\n"
     ]
    },
    {
     "name": "stderr",
     "output_type": "stream",
     "text": [
      "c:\\Users\\goupi\\.conda\\envs\\torch_geometric\\lib\\site-packages\\numpy\\lib\\function_base.py:518: RuntimeWarning: Mean of empty slice.\n",
      "  avg = a.mean(axis, **keepdims_kw)\n",
      "c:\\Users\\goupi\\.conda\\envs\\torch_geometric\\lib\\site-packages\\numpy\\core\\_methods.py:190: RuntimeWarning: invalid value encountered in double_scalars\n",
      "  ret = ret.dtype.type(ret / rcount)\n",
      "C:\\Users\\goupi\\AppData\\Local\\Temp\\ipykernel_14868\\3785573072.py:7: FutureWarning: The frame.append method is deprecated and will be removed from pandas in a future version. Use pandas.concat instead.\n",
      "  training_history = training_history.append({'epoch': epoch, 'loss': loss, 'avg_output_vector': avg_output_vector, 'avg_label_vector': avg_label_vector, 'avg_correct': accuracy, 'precision': precision, 'recall': recall}, ignore_index=True)\n"
     ]
    },
    {
     "data": {
      "application/vnd.jupyter.widget-view+json": {
       "model_id": "9a4e556f344b45a6931010bb484d7780",
       "version_major": 2,
       "version_minor": 0
      },
      "text/plain": [
       "Training:   0%|          | 0/1845 [00:00<?, ?batch/s]"
      ]
     },
     "metadata": {},
     "output_type": "display_data"
    },
    {
     "name": "stderr",
     "output_type": "stream",
     "text": [
      "C:\\Users\\goupi\\AppData\\Local\\Temp\\ipykernel_14868\\410524407.py:48: RuntimeWarning: invalid value encountered in divide\n",
      "  current_avg_output_vector = avg_output_vector / total_graphs_processed\n",
      "C:\\Users\\goupi\\AppData\\Local\\Temp\\ipykernel_14868\\410524407.py:49: RuntimeWarning: invalid value encountered in divide\n",
      "  current_avg_label_vector = avg_label_vector / total_graphs_processed\n"
     ]
    },
    {
     "name": "stdout",
     "output_type": "stream",
     "text": [
      "Epoch: 26, Loss: 0.25901079\n"
     ]
    },
    {
     "name": "stderr",
     "output_type": "stream",
     "text": [
      "c:\\Users\\goupi\\.conda\\envs\\torch_geometric\\lib\\site-packages\\numpy\\lib\\function_base.py:518: RuntimeWarning: Mean of empty slice.\n",
      "  avg = a.mean(axis, **keepdims_kw)\n",
      "c:\\Users\\goupi\\.conda\\envs\\torch_geometric\\lib\\site-packages\\numpy\\core\\_methods.py:190: RuntimeWarning: invalid value encountered in double_scalars\n",
      "  ret = ret.dtype.type(ret / rcount)\n",
      "C:\\Users\\goupi\\AppData\\Local\\Temp\\ipykernel_14868\\3785573072.py:7: FutureWarning: The frame.append method is deprecated and will be removed from pandas in a future version. Use pandas.concat instead.\n",
      "  training_history = training_history.append({'epoch': epoch, 'loss': loss, 'avg_output_vector': avg_output_vector, 'avg_label_vector': avg_label_vector, 'avg_correct': accuracy, 'precision': precision, 'recall': recall}, ignore_index=True)\n"
     ]
    },
    {
     "data": {
      "application/vnd.jupyter.widget-view+json": {
       "model_id": "d5d53a61aa6b494bb41d627cec83907d",
       "version_major": 2,
       "version_minor": 0
      },
      "text/plain": [
       "Training:   0%|          | 0/1845 [00:00<?, ?batch/s]"
      ]
     },
     "metadata": {},
     "output_type": "display_data"
    },
    {
     "name": "stderr",
     "output_type": "stream",
     "text": [
      "C:\\Users\\goupi\\AppData\\Local\\Temp\\ipykernel_14868\\410524407.py:48: RuntimeWarning: invalid value encountered in divide\n",
      "  current_avg_output_vector = avg_output_vector / total_graphs_processed\n",
      "C:\\Users\\goupi\\AppData\\Local\\Temp\\ipykernel_14868\\410524407.py:49: RuntimeWarning: invalid value encountered in divide\n",
      "  current_avg_label_vector = avg_label_vector / total_graphs_processed\n"
     ]
    },
    {
     "name": "stdout",
     "output_type": "stream",
     "text": [
      "Epoch: 27, Loss: 0.25852544\n"
     ]
    },
    {
     "name": "stderr",
     "output_type": "stream",
     "text": [
      "c:\\Users\\goupi\\.conda\\envs\\torch_geometric\\lib\\site-packages\\numpy\\lib\\function_base.py:518: RuntimeWarning: Mean of empty slice.\n",
      "  avg = a.mean(axis, **keepdims_kw)\n",
      "c:\\Users\\goupi\\.conda\\envs\\torch_geometric\\lib\\site-packages\\numpy\\core\\_methods.py:190: RuntimeWarning: invalid value encountered in double_scalars\n",
      "  ret = ret.dtype.type(ret / rcount)\n",
      "C:\\Users\\goupi\\AppData\\Local\\Temp\\ipykernel_14868\\3785573072.py:7: FutureWarning: The frame.append method is deprecated and will be removed from pandas in a future version. Use pandas.concat instead.\n",
      "  training_history = training_history.append({'epoch': epoch, 'loss': loss, 'avg_output_vector': avg_output_vector, 'avg_label_vector': avg_label_vector, 'avg_correct': accuracy, 'precision': precision, 'recall': recall}, ignore_index=True)\n"
     ]
    },
    {
     "data": {
      "application/vnd.jupyter.widget-view+json": {
       "model_id": "940b6a9b27f5436dbf9b8e9801819b10",
       "version_major": 2,
       "version_minor": 0
      },
      "text/plain": [
       "Training:   0%|          | 0/1845 [00:00<?, ?batch/s]"
      ]
     },
     "metadata": {},
     "output_type": "display_data"
    },
    {
     "name": "stderr",
     "output_type": "stream",
     "text": [
      "C:\\Users\\goupi\\AppData\\Local\\Temp\\ipykernel_14868\\410524407.py:48: RuntimeWarning: invalid value encountered in divide\n",
      "  current_avg_output_vector = avg_output_vector / total_graphs_processed\n",
      "C:\\Users\\goupi\\AppData\\Local\\Temp\\ipykernel_14868\\410524407.py:49: RuntimeWarning: invalid value encountered in divide\n",
      "  current_avg_label_vector = avg_label_vector / total_graphs_processed\n"
     ]
    },
    {
     "name": "stdout",
     "output_type": "stream",
     "text": [
      "Epoch: 28, Loss: 0.26084946\n"
     ]
    },
    {
     "name": "stderr",
     "output_type": "stream",
     "text": [
      "c:\\Users\\goupi\\.conda\\envs\\torch_geometric\\lib\\site-packages\\numpy\\lib\\function_base.py:518: RuntimeWarning: Mean of empty slice.\n",
      "  avg = a.mean(axis, **keepdims_kw)\n",
      "c:\\Users\\goupi\\.conda\\envs\\torch_geometric\\lib\\site-packages\\numpy\\core\\_methods.py:190: RuntimeWarning: invalid value encountered in double_scalars\n",
      "  ret = ret.dtype.type(ret / rcount)\n",
      "C:\\Users\\goupi\\AppData\\Local\\Temp\\ipykernel_14868\\3785573072.py:7: FutureWarning: The frame.append method is deprecated and will be removed from pandas in a future version. Use pandas.concat instead.\n",
      "  training_history = training_history.append({'epoch': epoch, 'loss': loss, 'avg_output_vector': avg_output_vector, 'avg_label_vector': avg_label_vector, 'avg_correct': accuracy, 'precision': precision, 'recall': recall}, ignore_index=True)\n"
     ]
    },
    {
     "data": {
      "application/vnd.jupyter.widget-view+json": {
       "model_id": "2a17f67ccecb4dfeaac03bb27e065e9d",
       "version_major": 2,
       "version_minor": 0
      },
      "text/plain": [
       "Training:   0%|          | 0/1845 [00:00<?, ?batch/s]"
      ]
     },
     "metadata": {},
     "output_type": "display_data"
    },
    {
     "name": "stderr",
     "output_type": "stream",
     "text": [
      "C:\\Users\\goupi\\AppData\\Local\\Temp\\ipykernel_14868\\410524407.py:48: RuntimeWarning: invalid value encountered in divide\n",
      "  current_avg_output_vector = avg_output_vector / total_graphs_processed\n",
      "C:\\Users\\goupi\\AppData\\Local\\Temp\\ipykernel_14868\\410524407.py:49: RuntimeWarning: invalid value encountered in divide\n",
      "  current_avg_label_vector = avg_label_vector / total_graphs_processed\n"
     ]
    },
    {
     "name": "stdout",
     "output_type": "stream",
     "text": [
      "Epoch: 29, Loss: 0.26049943\n"
     ]
    },
    {
     "name": "stderr",
     "output_type": "stream",
     "text": [
      "c:\\Users\\goupi\\.conda\\envs\\torch_geometric\\lib\\site-packages\\numpy\\lib\\function_base.py:518: RuntimeWarning: Mean of empty slice.\n",
      "  avg = a.mean(axis, **keepdims_kw)\n",
      "c:\\Users\\goupi\\.conda\\envs\\torch_geometric\\lib\\site-packages\\numpy\\core\\_methods.py:190: RuntimeWarning: invalid value encountered in double_scalars\n",
      "  ret = ret.dtype.type(ret / rcount)\n",
      "C:\\Users\\goupi\\AppData\\Local\\Temp\\ipykernel_14868\\3785573072.py:7: FutureWarning: The frame.append method is deprecated and will be removed from pandas in a future version. Use pandas.concat instead.\n",
      "  training_history = training_history.append({'epoch': epoch, 'loss': loss, 'avg_output_vector': avg_output_vector, 'avg_label_vector': avg_label_vector, 'avg_correct': accuracy, 'precision': precision, 'recall': recall}, ignore_index=True)\n"
     ]
    },
    {
     "data": {
      "application/vnd.jupyter.widget-view+json": {
       "model_id": "05b2de0ca30d463e977df7ce6d16a0ae",
       "version_major": 2,
       "version_minor": 0
      },
      "text/plain": [
       "Training:   0%|          | 0/1845 [00:00<?, ?batch/s]"
      ]
     },
     "metadata": {},
     "output_type": "display_data"
    },
    {
     "name": "stderr",
     "output_type": "stream",
     "text": [
      "C:\\Users\\goupi\\AppData\\Local\\Temp\\ipykernel_14868\\410524407.py:48: RuntimeWarning: invalid value encountered in divide\n",
      "  current_avg_output_vector = avg_output_vector / total_graphs_processed\n",
      "C:\\Users\\goupi\\AppData\\Local\\Temp\\ipykernel_14868\\410524407.py:49: RuntimeWarning: invalid value encountered in divide\n",
      "  current_avg_label_vector = avg_label_vector / total_graphs_processed\n"
     ]
    },
    {
     "name": "stdout",
     "output_type": "stream",
     "text": [
      "Epoch: 30, Loss: 0.25802175\n"
     ]
    },
    {
     "name": "stderr",
     "output_type": "stream",
     "text": [
      "c:\\Users\\goupi\\.conda\\envs\\torch_geometric\\lib\\site-packages\\numpy\\lib\\function_base.py:518: RuntimeWarning: Mean of empty slice.\n",
      "  avg = a.mean(axis, **keepdims_kw)\n",
      "c:\\Users\\goupi\\.conda\\envs\\torch_geometric\\lib\\site-packages\\numpy\\core\\_methods.py:190: RuntimeWarning: invalid value encountered in double_scalars\n",
      "  ret = ret.dtype.type(ret / rcount)\n",
      "C:\\Users\\goupi\\AppData\\Local\\Temp\\ipykernel_14868\\3785573072.py:7: FutureWarning: The frame.append method is deprecated and will be removed from pandas in a future version. Use pandas.concat instead.\n",
      "  training_history = training_history.append({'epoch': epoch, 'loss': loss, 'avg_output_vector': avg_output_vector, 'avg_label_vector': avg_label_vector, 'avg_correct': accuracy, 'precision': precision, 'recall': recall}, ignore_index=True)\n"
     ]
    },
    {
     "data": {
      "application/vnd.jupyter.widget-view+json": {
       "model_id": "03879ad2f20c48219cfbca93a0b5957d",
       "version_major": 2,
       "version_minor": 0
      },
      "text/plain": [
       "Training:   0%|          | 0/1845 [00:00<?, ?batch/s]"
      ]
     },
     "metadata": {},
     "output_type": "display_data"
    },
    {
     "name": "stderr",
     "output_type": "stream",
     "text": [
      "C:\\Users\\goupi\\AppData\\Local\\Temp\\ipykernel_14868\\410524407.py:48: RuntimeWarning: invalid value encountered in divide\n",
      "  current_avg_output_vector = avg_output_vector / total_graphs_processed\n",
      "C:\\Users\\goupi\\AppData\\Local\\Temp\\ipykernel_14868\\410524407.py:49: RuntimeWarning: invalid value encountered in divide\n",
      "  current_avg_label_vector = avg_label_vector / total_graphs_processed\n"
     ]
    },
    {
     "name": "stdout",
     "output_type": "stream",
     "text": [
      "Epoch: 31, Loss: 0.26040025\n"
     ]
    },
    {
     "name": "stderr",
     "output_type": "stream",
     "text": [
      "c:\\Users\\goupi\\.conda\\envs\\torch_geometric\\lib\\site-packages\\numpy\\lib\\function_base.py:518: RuntimeWarning: Mean of empty slice.\n",
      "  avg = a.mean(axis, **keepdims_kw)\n",
      "c:\\Users\\goupi\\.conda\\envs\\torch_geometric\\lib\\site-packages\\numpy\\core\\_methods.py:190: RuntimeWarning: invalid value encountered in double_scalars\n",
      "  ret = ret.dtype.type(ret / rcount)\n",
      "C:\\Users\\goupi\\AppData\\Local\\Temp\\ipykernel_14868\\3785573072.py:7: FutureWarning: The frame.append method is deprecated and will be removed from pandas in a future version. Use pandas.concat instead.\n",
      "  training_history = training_history.append({'epoch': epoch, 'loss': loss, 'avg_output_vector': avg_output_vector, 'avg_label_vector': avg_label_vector, 'avg_correct': accuracy, 'precision': precision, 'recall': recall}, ignore_index=True)\n"
     ]
    },
    {
     "data": {
      "application/vnd.jupyter.widget-view+json": {
       "model_id": "e358d349871c40d78f6952e0ca777dcb",
       "version_major": 2,
       "version_minor": 0
      },
      "text/plain": [
       "Training:   0%|          | 0/1845 [00:00<?, ?batch/s]"
      ]
     },
     "metadata": {},
     "output_type": "display_data"
    },
    {
     "name": "stderr",
     "output_type": "stream",
     "text": [
      "C:\\Users\\goupi\\AppData\\Local\\Temp\\ipykernel_14868\\410524407.py:48: RuntimeWarning: invalid value encountered in divide\n",
      "  current_avg_output_vector = avg_output_vector / total_graphs_processed\n",
      "C:\\Users\\goupi\\AppData\\Local\\Temp\\ipykernel_14868\\410524407.py:49: RuntimeWarning: invalid value encountered in divide\n",
      "  current_avg_label_vector = avg_label_vector / total_graphs_processed\n"
     ]
    },
    {
     "name": "stdout",
     "output_type": "stream",
     "text": [
      "Epoch: 32, Loss: 0.25891533\n"
     ]
    },
    {
     "name": "stderr",
     "output_type": "stream",
     "text": [
      "c:\\Users\\goupi\\.conda\\envs\\torch_geometric\\lib\\site-packages\\numpy\\lib\\function_base.py:518: RuntimeWarning: Mean of empty slice.\n",
      "  avg = a.mean(axis, **keepdims_kw)\n",
      "c:\\Users\\goupi\\.conda\\envs\\torch_geometric\\lib\\site-packages\\numpy\\core\\_methods.py:190: RuntimeWarning: invalid value encountered in double_scalars\n",
      "  ret = ret.dtype.type(ret / rcount)\n",
      "C:\\Users\\goupi\\AppData\\Local\\Temp\\ipykernel_14868\\3785573072.py:7: FutureWarning: The frame.append method is deprecated and will be removed from pandas in a future version. Use pandas.concat instead.\n",
      "  training_history = training_history.append({'epoch': epoch, 'loss': loss, 'avg_output_vector': avg_output_vector, 'avg_label_vector': avg_label_vector, 'avg_correct': accuracy, 'precision': precision, 'recall': recall}, ignore_index=True)\n"
     ]
    },
    {
     "data": {
      "application/vnd.jupyter.widget-view+json": {
       "model_id": "cc08646ca75745a3becd946cd198b619",
       "version_major": 2,
       "version_minor": 0
      },
      "text/plain": [
       "Training:   0%|          | 0/1845 [00:00<?, ?batch/s]"
      ]
     },
     "metadata": {},
     "output_type": "display_data"
    },
    {
     "name": "stderr",
     "output_type": "stream",
     "text": [
      "C:\\Users\\goupi\\AppData\\Local\\Temp\\ipykernel_14868\\410524407.py:48: RuntimeWarning: invalid value encountered in divide\n",
      "  current_avg_output_vector = avg_output_vector / total_graphs_processed\n",
      "C:\\Users\\goupi\\AppData\\Local\\Temp\\ipykernel_14868\\410524407.py:49: RuntimeWarning: invalid value encountered in divide\n",
      "  current_avg_label_vector = avg_label_vector / total_graphs_processed\n"
     ]
    },
    {
     "name": "stdout",
     "output_type": "stream",
     "text": [
      "Epoch: 33, Loss: 0.25819732\n"
     ]
    },
    {
     "name": "stderr",
     "output_type": "stream",
     "text": [
      "c:\\Users\\goupi\\.conda\\envs\\torch_geometric\\lib\\site-packages\\numpy\\lib\\function_base.py:518: RuntimeWarning: Mean of empty slice.\n",
      "  avg = a.mean(axis, **keepdims_kw)\n",
      "c:\\Users\\goupi\\.conda\\envs\\torch_geometric\\lib\\site-packages\\numpy\\core\\_methods.py:190: RuntimeWarning: invalid value encountered in double_scalars\n",
      "  ret = ret.dtype.type(ret / rcount)\n",
      "C:\\Users\\goupi\\AppData\\Local\\Temp\\ipykernel_14868\\3785573072.py:7: FutureWarning: The frame.append method is deprecated and will be removed from pandas in a future version. Use pandas.concat instead.\n",
      "  training_history = training_history.append({'epoch': epoch, 'loss': loss, 'avg_output_vector': avg_output_vector, 'avg_label_vector': avg_label_vector, 'avg_correct': accuracy, 'precision': precision, 'recall': recall}, ignore_index=True)\n"
     ]
    },
    {
     "data": {
      "application/vnd.jupyter.widget-view+json": {
       "model_id": "f0b13f3ca1154a76bba0974f4efbda7f",
       "version_major": 2,
       "version_minor": 0
      },
      "text/plain": [
       "Training:   0%|          | 0/1845 [00:00<?, ?batch/s]"
      ]
     },
     "metadata": {},
     "output_type": "display_data"
    },
    {
     "name": "stderr",
     "output_type": "stream",
     "text": [
      "C:\\Users\\goupi\\AppData\\Local\\Temp\\ipykernel_14868\\410524407.py:48: RuntimeWarning: invalid value encountered in divide\n",
      "  current_avg_output_vector = avg_output_vector / total_graphs_processed\n",
      "C:\\Users\\goupi\\AppData\\Local\\Temp\\ipykernel_14868\\410524407.py:49: RuntimeWarning: invalid value encountered in divide\n",
      "  current_avg_label_vector = avg_label_vector / total_graphs_processed\n"
     ]
    },
    {
     "name": "stdout",
     "output_type": "stream",
     "text": [
      "Epoch: 34, Loss: 0.25994790\n"
     ]
    },
    {
     "name": "stderr",
     "output_type": "stream",
     "text": [
      "c:\\Users\\goupi\\.conda\\envs\\torch_geometric\\lib\\site-packages\\numpy\\lib\\function_base.py:518: RuntimeWarning: Mean of empty slice.\n",
      "  avg = a.mean(axis, **keepdims_kw)\n",
      "c:\\Users\\goupi\\.conda\\envs\\torch_geometric\\lib\\site-packages\\numpy\\core\\_methods.py:190: RuntimeWarning: invalid value encountered in double_scalars\n",
      "  ret = ret.dtype.type(ret / rcount)\n",
      "C:\\Users\\goupi\\AppData\\Local\\Temp\\ipykernel_14868\\3785573072.py:7: FutureWarning: The frame.append method is deprecated and will be removed from pandas in a future version. Use pandas.concat instead.\n",
      "  training_history = training_history.append({'epoch': epoch, 'loss': loss, 'avg_output_vector': avg_output_vector, 'avg_label_vector': avg_label_vector, 'avg_correct': accuracy, 'precision': precision, 'recall': recall}, ignore_index=True)\n"
     ]
    },
    {
     "data": {
      "application/vnd.jupyter.widget-view+json": {
       "model_id": "ae3c37f2a4934f9e8e4db9fd1cf6fc1f",
       "version_major": 2,
       "version_minor": 0
      },
      "text/plain": [
       "Training:   0%|          | 0/1845 [00:00<?, ?batch/s]"
      ]
     },
     "metadata": {},
     "output_type": "display_data"
    },
    {
     "name": "stderr",
     "output_type": "stream",
     "text": [
      "C:\\Users\\goupi\\AppData\\Local\\Temp\\ipykernel_14868\\410524407.py:48: RuntimeWarning: invalid value encountered in divide\n",
      "  current_avg_output_vector = avg_output_vector / total_graphs_processed\n",
      "C:\\Users\\goupi\\AppData\\Local\\Temp\\ipykernel_14868\\410524407.py:49: RuntimeWarning: invalid value encountered in divide\n",
      "  current_avg_label_vector = avg_label_vector / total_graphs_processed\n"
     ]
    },
    {
     "name": "stdout",
     "output_type": "stream",
     "text": [
      "Epoch: 35, Loss: 0.25781122\n"
     ]
    },
    {
     "name": "stderr",
     "output_type": "stream",
     "text": [
      "c:\\Users\\goupi\\.conda\\envs\\torch_geometric\\lib\\site-packages\\numpy\\lib\\function_base.py:518: RuntimeWarning: Mean of empty slice.\n",
      "  avg = a.mean(axis, **keepdims_kw)\n",
      "c:\\Users\\goupi\\.conda\\envs\\torch_geometric\\lib\\site-packages\\numpy\\core\\_methods.py:190: RuntimeWarning: invalid value encountered in double_scalars\n",
      "  ret = ret.dtype.type(ret / rcount)\n",
      "C:\\Users\\goupi\\AppData\\Local\\Temp\\ipykernel_14868\\3785573072.py:7: FutureWarning: The frame.append method is deprecated and will be removed from pandas in a future version. Use pandas.concat instead.\n",
      "  training_history = training_history.append({'epoch': epoch, 'loss': loss, 'avg_output_vector': avg_output_vector, 'avg_label_vector': avg_label_vector, 'avg_correct': accuracy, 'precision': precision, 'recall': recall}, ignore_index=True)\n"
     ]
    },
    {
     "data": {
      "application/vnd.jupyter.widget-view+json": {
       "model_id": "5a5011b6425b4d1e9362e684a77eb6a5",
       "version_major": 2,
       "version_minor": 0
      },
      "text/plain": [
       "Training:   0%|          | 0/1845 [00:00<?, ?batch/s]"
      ]
     },
     "metadata": {},
     "output_type": "display_data"
    },
    {
     "name": "stderr",
     "output_type": "stream",
     "text": [
      "C:\\Users\\goupi\\AppData\\Local\\Temp\\ipykernel_14868\\410524407.py:48: RuntimeWarning: invalid value encountered in divide\n",
      "  current_avg_output_vector = avg_output_vector / total_graphs_processed\n",
      "C:\\Users\\goupi\\AppData\\Local\\Temp\\ipykernel_14868\\410524407.py:49: RuntimeWarning: invalid value encountered in divide\n",
      "  current_avg_label_vector = avg_label_vector / total_graphs_processed\n"
     ]
    },
    {
     "name": "stdout",
     "output_type": "stream",
     "text": [
      "Epoch: 36, Loss: 0.25629398\n"
     ]
    },
    {
     "name": "stderr",
     "output_type": "stream",
     "text": [
      "c:\\Users\\goupi\\.conda\\envs\\torch_geometric\\lib\\site-packages\\numpy\\lib\\function_base.py:518: RuntimeWarning: Mean of empty slice.\n",
      "  avg = a.mean(axis, **keepdims_kw)\n",
      "c:\\Users\\goupi\\.conda\\envs\\torch_geometric\\lib\\site-packages\\numpy\\core\\_methods.py:190: RuntimeWarning: invalid value encountered in double_scalars\n",
      "  ret = ret.dtype.type(ret / rcount)\n",
      "C:\\Users\\goupi\\AppData\\Local\\Temp\\ipykernel_14868\\3785573072.py:7: FutureWarning: The frame.append method is deprecated and will be removed from pandas in a future version. Use pandas.concat instead.\n",
      "  training_history = training_history.append({'epoch': epoch, 'loss': loss, 'avg_output_vector': avg_output_vector, 'avg_label_vector': avg_label_vector, 'avg_correct': accuracy, 'precision': precision, 'recall': recall}, ignore_index=True)\n"
     ]
    },
    {
     "data": {
      "application/vnd.jupyter.widget-view+json": {
       "model_id": "d74da67ce27d43d39cb764cb76290655",
       "version_major": 2,
       "version_minor": 0
      },
      "text/plain": [
       "Training:   0%|          | 0/1845 [00:00<?, ?batch/s]"
      ]
     },
     "metadata": {},
     "output_type": "display_data"
    },
    {
     "name": "stderr",
     "output_type": "stream",
     "text": [
      "C:\\Users\\goupi\\AppData\\Local\\Temp\\ipykernel_14868\\410524407.py:48: RuntimeWarning: invalid value encountered in divide\n",
      "  current_avg_output_vector = avg_output_vector / total_graphs_processed\n",
      "C:\\Users\\goupi\\AppData\\Local\\Temp\\ipykernel_14868\\410524407.py:49: RuntimeWarning: invalid value encountered in divide\n",
      "  current_avg_label_vector = avg_label_vector / total_graphs_processed\n"
     ]
    },
    {
     "name": "stdout",
     "output_type": "stream",
     "text": [
      "Epoch: 37, Loss: 0.25621891\n"
     ]
    },
    {
     "name": "stderr",
     "output_type": "stream",
     "text": [
      "c:\\Users\\goupi\\.conda\\envs\\torch_geometric\\lib\\site-packages\\numpy\\lib\\function_base.py:518: RuntimeWarning: Mean of empty slice.\n",
      "  avg = a.mean(axis, **keepdims_kw)\n",
      "c:\\Users\\goupi\\.conda\\envs\\torch_geometric\\lib\\site-packages\\numpy\\core\\_methods.py:190: RuntimeWarning: invalid value encountered in double_scalars\n",
      "  ret = ret.dtype.type(ret / rcount)\n",
      "C:\\Users\\goupi\\AppData\\Local\\Temp\\ipykernel_14868\\3785573072.py:7: FutureWarning: The frame.append method is deprecated and will be removed from pandas in a future version. Use pandas.concat instead.\n",
      "  training_history = training_history.append({'epoch': epoch, 'loss': loss, 'avg_output_vector': avg_output_vector, 'avg_label_vector': avg_label_vector, 'avg_correct': accuracy, 'precision': precision, 'recall': recall}, ignore_index=True)\n"
     ]
    },
    {
     "data": {
      "application/vnd.jupyter.widget-view+json": {
       "model_id": "417a7675df40483ebee927dd710a65bd",
       "version_major": 2,
       "version_minor": 0
      },
      "text/plain": [
       "Training:   0%|          | 0/1845 [00:00<?, ?batch/s]"
      ]
     },
     "metadata": {},
     "output_type": "display_data"
    },
    {
     "name": "stderr",
     "output_type": "stream",
     "text": [
      "C:\\Users\\goupi\\AppData\\Local\\Temp\\ipykernel_14868\\410524407.py:48: RuntimeWarning: invalid value encountered in divide\n",
      "  current_avg_output_vector = avg_output_vector / total_graphs_processed\n",
      "C:\\Users\\goupi\\AppData\\Local\\Temp\\ipykernel_14868\\410524407.py:49: RuntimeWarning: invalid value encountered in divide\n",
      "  current_avg_label_vector = avg_label_vector / total_graphs_processed\n"
     ]
    },
    {
     "name": "stdout",
     "output_type": "stream",
     "text": [
      "Epoch: 38, Loss: 0.25641109\n"
     ]
    },
    {
     "name": "stderr",
     "output_type": "stream",
     "text": [
      "c:\\Users\\goupi\\.conda\\envs\\torch_geometric\\lib\\site-packages\\numpy\\lib\\function_base.py:518: RuntimeWarning: Mean of empty slice.\n",
      "  avg = a.mean(axis, **keepdims_kw)\n",
      "c:\\Users\\goupi\\.conda\\envs\\torch_geometric\\lib\\site-packages\\numpy\\core\\_methods.py:190: RuntimeWarning: invalid value encountered in double_scalars\n",
      "  ret = ret.dtype.type(ret / rcount)\n",
      "C:\\Users\\goupi\\AppData\\Local\\Temp\\ipykernel_14868\\3785573072.py:7: FutureWarning: The frame.append method is deprecated and will be removed from pandas in a future version. Use pandas.concat instead.\n",
      "  training_history = training_history.append({'epoch': epoch, 'loss': loss, 'avg_output_vector': avg_output_vector, 'avg_label_vector': avg_label_vector, 'avg_correct': accuracy, 'precision': precision, 'recall': recall}, ignore_index=True)\n"
     ]
    },
    {
     "data": {
      "application/vnd.jupyter.widget-view+json": {
       "model_id": "169b062c3b19498a9bf72db4f2885ddf",
       "version_major": 2,
       "version_minor": 0
      },
      "text/plain": [
       "Training:   0%|          | 0/1845 [00:00<?, ?batch/s]"
      ]
     },
     "metadata": {},
     "output_type": "display_data"
    },
    {
     "name": "stderr",
     "output_type": "stream",
     "text": [
      "C:\\Users\\goupi\\AppData\\Local\\Temp\\ipykernel_14868\\410524407.py:48: RuntimeWarning: invalid value encountered in divide\n",
      "  current_avg_output_vector = avg_output_vector / total_graphs_processed\n",
      "C:\\Users\\goupi\\AppData\\Local\\Temp\\ipykernel_14868\\410524407.py:49: RuntimeWarning: invalid value encountered in divide\n",
      "  current_avg_label_vector = avg_label_vector / total_graphs_processed\n"
     ]
    },
    {
     "name": "stdout",
     "output_type": "stream",
     "text": [
      "Epoch: 39, Loss: 0.25322241\n"
     ]
    },
    {
     "name": "stderr",
     "output_type": "stream",
     "text": [
      "c:\\Users\\goupi\\.conda\\envs\\torch_geometric\\lib\\site-packages\\numpy\\lib\\function_base.py:518: RuntimeWarning: Mean of empty slice.\n",
      "  avg = a.mean(axis, **keepdims_kw)\n",
      "c:\\Users\\goupi\\.conda\\envs\\torch_geometric\\lib\\site-packages\\numpy\\core\\_methods.py:190: RuntimeWarning: invalid value encountered in double_scalars\n",
      "  ret = ret.dtype.type(ret / rcount)\n",
      "C:\\Users\\goupi\\AppData\\Local\\Temp\\ipykernel_14868\\3785573072.py:7: FutureWarning: The frame.append method is deprecated and will be removed from pandas in a future version. Use pandas.concat instead.\n",
      "  training_history = training_history.append({'epoch': epoch, 'loss': loss, 'avg_output_vector': avg_output_vector, 'avg_label_vector': avg_label_vector, 'avg_correct': accuracy, 'precision': precision, 'recall': recall}, ignore_index=True)\n"
     ]
    },
    {
     "data": {
      "application/vnd.jupyter.widget-view+json": {
       "model_id": "3e04927ff64741b98cc5e39da24f3136",
       "version_major": 2,
       "version_minor": 0
      },
      "text/plain": [
       "Training:   0%|          | 0/1845 [00:00<?, ?batch/s]"
      ]
     },
     "metadata": {},
     "output_type": "display_data"
    },
    {
     "name": "stderr",
     "output_type": "stream",
     "text": [
      "C:\\Users\\goupi\\AppData\\Local\\Temp\\ipykernel_14868\\410524407.py:48: RuntimeWarning: invalid value encountered in divide\n",
      "  current_avg_output_vector = avg_output_vector / total_graphs_processed\n",
      "C:\\Users\\goupi\\AppData\\Local\\Temp\\ipykernel_14868\\410524407.py:49: RuntimeWarning: invalid value encountered in divide\n",
      "  current_avg_label_vector = avg_label_vector / total_graphs_processed\n"
     ]
    },
    {
     "name": "stdout",
     "output_type": "stream",
     "text": [
      "Epoch: 40, Loss: 0.25831109\n"
     ]
    },
    {
     "name": "stderr",
     "output_type": "stream",
     "text": [
      "c:\\Users\\goupi\\.conda\\envs\\torch_geometric\\lib\\site-packages\\numpy\\lib\\function_base.py:518: RuntimeWarning: Mean of empty slice.\n",
      "  avg = a.mean(axis, **keepdims_kw)\n",
      "c:\\Users\\goupi\\.conda\\envs\\torch_geometric\\lib\\site-packages\\numpy\\core\\_methods.py:190: RuntimeWarning: invalid value encountered in double_scalars\n",
      "  ret = ret.dtype.type(ret / rcount)\n",
      "C:\\Users\\goupi\\AppData\\Local\\Temp\\ipykernel_14868\\3785573072.py:7: FutureWarning: The frame.append method is deprecated and will be removed from pandas in a future version. Use pandas.concat instead.\n",
      "  training_history = training_history.append({'epoch': epoch, 'loss': loss, 'avg_output_vector': avg_output_vector, 'avg_label_vector': avg_label_vector, 'avg_correct': accuracy, 'precision': precision, 'recall': recall}, ignore_index=True)\n"
     ]
    },
    {
     "data": {
      "application/vnd.jupyter.widget-view+json": {
       "model_id": "531eb94a8e594a20ad2c13a7be177def",
       "version_major": 2,
       "version_minor": 0
      },
      "text/plain": [
       "Training:   0%|          | 0/1845 [00:00<?, ?batch/s]"
      ]
     },
     "metadata": {},
     "output_type": "display_data"
    },
    {
     "name": "stderr",
     "output_type": "stream",
     "text": [
      "C:\\Users\\goupi\\AppData\\Local\\Temp\\ipykernel_14868\\410524407.py:48: RuntimeWarning: invalid value encountered in divide\n",
      "  current_avg_output_vector = avg_output_vector / total_graphs_processed\n",
      "C:\\Users\\goupi\\AppData\\Local\\Temp\\ipykernel_14868\\410524407.py:49: RuntimeWarning: invalid value encountered in divide\n",
      "  current_avg_label_vector = avg_label_vector / total_graphs_processed\n"
     ]
    },
    {
     "name": "stdout",
     "output_type": "stream",
     "text": [
      "Epoch: 41, Loss: 0.25508664\n"
     ]
    },
    {
     "name": "stderr",
     "output_type": "stream",
     "text": [
      "c:\\Users\\goupi\\.conda\\envs\\torch_geometric\\lib\\site-packages\\numpy\\lib\\function_base.py:518: RuntimeWarning: Mean of empty slice.\n",
      "  avg = a.mean(axis, **keepdims_kw)\n",
      "c:\\Users\\goupi\\.conda\\envs\\torch_geometric\\lib\\site-packages\\numpy\\core\\_methods.py:190: RuntimeWarning: invalid value encountered in double_scalars\n",
      "  ret = ret.dtype.type(ret / rcount)\n",
      "C:\\Users\\goupi\\AppData\\Local\\Temp\\ipykernel_14868\\3785573072.py:7: FutureWarning: The frame.append method is deprecated and will be removed from pandas in a future version. Use pandas.concat instead.\n",
      "  training_history = training_history.append({'epoch': epoch, 'loss': loss, 'avg_output_vector': avg_output_vector, 'avg_label_vector': avg_label_vector, 'avg_correct': accuracy, 'precision': precision, 'recall': recall}, ignore_index=True)\n"
     ]
    },
    {
     "data": {
      "application/vnd.jupyter.widget-view+json": {
       "model_id": "77206990981748a588844f5de71040fd",
       "version_major": 2,
       "version_minor": 0
      },
      "text/plain": [
       "Training:   0%|          | 0/1845 [00:00<?, ?batch/s]"
      ]
     },
     "metadata": {},
     "output_type": "display_data"
    },
    {
     "name": "stderr",
     "output_type": "stream",
     "text": [
      "C:\\Users\\goupi\\AppData\\Local\\Temp\\ipykernel_14868\\410524407.py:48: RuntimeWarning: invalid value encountered in divide\n",
      "  current_avg_output_vector = avg_output_vector / total_graphs_processed\n",
      "C:\\Users\\goupi\\AppData\\Local\\Temp\\ipykernel_14868\\410524407.py:49: RuntimeWarning: invalid value encountered in divide\n",
      "  current_avg_label_vector = avg_label_vector / total_graphs_processed\n"
     ]
    },
    {
     "name": "stdout",
     "output_type": "stream",
     "text": [
      "Epoch: 42, Loss: 0.25451789\n"
     ]
    },
    {
     "name": "stderr",
     "output_type": "stream",
     "text": [
      "c:\\Users\\goupi\\.conda\\envs\\torch_geometric\\lib\\site-packages\\numpy\\lib\\function_base.py:518: RuntimeWarning: Mean of empty slice.\n",
      "  avg = a.mean(axis, **keepdims_kw)\n",
      "c:\\Users\\goupi\\.conda\\envs\\torch_geometric\\lib\\site-packages\\numpy\\core\\_methods.py:190: RuntimeWarning: invalid value encountered in double_scalars\n",
      "  ret = ret.dtype.type(ret / rcount)\n",
      "C:\\Users\\goupi\\AppData\\Local\\Temp\\ipykernel_14868\\3785573072.py:7: FutureWarning: The frame.append method is deprecated and will be removed from pandas in a future version. Use pandas.concat instead.\n",
      "  training_history = training_history.append({'epoch': epoch, 'loss': loss, 'avg_output_vector': avg_output_vector, 'avg_label_vector': avg_label_vector, 'avg_correct': accuracy, 'precision': precision, 'recall': recall}, ignore_index=True)\n"
     ]
    },
    {
     "data": {
      "application/vnd.jupyter.widget-view+json": {
       "model_id": "34fafa63732c4c5380264f736dfa4d72",
       "version_major": 2,
       "version_minor": 0
      },
      "text/plain": [
       "Training:   0%|          | 0/1845 [00:00<?, ?batch/s]"
      ]
     },
     "metadata": {},
     "output_type": "display_data"
    },
    {
     "name": "stderr",
     "output_type": "stream",
     "text": [
      "C:\\Users\\goupi\\AppData\\Local\\Temp\\ipykernel_14868\\410524407.py:48: RuntimeWarning: invalid value encountered in divide\n",
      "  current_avg_output_vector = avg_output_vector / total_graphs_processed\n",
      "C:\\Users\\goupi\\AppData\\Local\\Temp\\ipykernel_14868\\410524407.py:49: RuntimeWarning: invalid value encountered in divide\n",
      "  current_avg_label_vector = avg_label_vector / total_graphs_processed\n"
     ]
    },
    {
     "name": "stdout",
     "output_type": "stream",
     "text": [
      "Epoch: 43, Loss: 0.25325777\n"
     ]
    },
    {
     "name": "stderr",
     "output_type": "stream",
     "text": [
      "c:\\Users\\goupi\\.conda\\envs\\torch_geometric\\lib\\site-packages\\numpy\\lib\\function_base.py:518: RuntimeWarning: Mean of empty slice.\n",
      "  avg = a.mean(axis, **keepdims_kw)\n",
      "c:\\Users\\goupi\\.conda\\envs\\torch_geometric\\lib\\site-packages\\numpy\\core\\_methods.py:190: RuntimeWarning: invalid value encountered in double_scalars\n",
      "  ret = ret.dtype.type(ret / rcount)\n",
      "C:\\Users\\goupi\\AppData\\Local\\Temp\\ipykernel_14868\\3785573072.py:7: FutureWarning: The frame.append method is deprecated and will be removed from pandas in a future version. Use pandas.concat instead.\n",
      "  training_history = training_history.append({'epoch': epoch, 'loss': loss, 'avg_output_vector': avg_output_vector, 'avg_label_vector': avg_label_vector, 'avg_correct': accuracy, 'precision': precision, 'recall': recall}, ignore_index=True)\n"
     ]
    },
    {
     "data": {
      "application/vnd.jupyter.widget-view+json": {
       "model_id": "0df0f4908b64458f9c15425a378c47e4",
       "version_major": 2,
       "version_minor": 0
      },
      "text/plain": [
       "Training:   0%|          | 0/1845 [00:00<?, ?batch/s]"
      ]
     },
     "metadata": {},
     "output_type": "display_data"
    },
    {
     "name": "stderr",
     "output_type": "stream",
     "text": [
      "C:\\Users\\goupi\\AppData\\Local\\Temp\\ipykernel_14868\\410524407.py:48: RuntimeWarning: invalid value encountered in divide\n",
      "  current_avg_output_vector = avg_output_vector / total_graphs_processed\n",
      "C:\\Users\\goupi\\AppData\\Local\\Temp\\ipykernel_14868\\410524407.py:49: RuntimeWarning: invalid value encountered in divide\n",
      "  current_avg_label_vector = avg_label_vector / total_graphs_processed\n"
     ]
    },
    {
     "name": "stdout",
     "output_type": "stream",
     "text": [
      "Epoch: 44, Loss: 0.25631142\n"
     ]
    },
    {
     "name": "stderr",
     "output_type": "stream",
     "text": [
      "c:\\Users\\goupi\\.conda\\envs\\torch_geometric\\lib\\site-packages\\numpy\\lib\\function_base.py:518: RuntimeWarning: Mean of empty slice.\n",
      "  avg = a.mean(axis, **keepdims_kw)\n",
      "c:\\Users\\goupi\\.conda\\envs\\torch_geometric\\lib\\site-packages\\numpy\\core\\_methods.py:190: RuntimeWarning: invalid value encountered in double_scalars\n",
      "  ret = ret.dtype.type(ret / rcount)\n",
      "C:\\Users\\goupi\\AppData\\Local\\Temp\\ipykernel_14868\\3785573072.py:7: FutureWarning: The frame.append method is deprecated and will be removed from pandas in a future version. Use pandas.concat instead.\n",
      "  training_history = training_history.append({'epoch': epoch, 'loss': loss, 'avg_output_vector': avg_output_vector, 'avg_label_vector': avg_label_vector, 'avg_correct': accuracy, 'precision': precision, 'recall': recall}, ignore_index=True)\n"
     ]
    },
    {
     "data": {
      "application/vnd.jupyter.widget-view+json": {
       "model_id": "b5bd1a232cc9450d9f587827777c0b28",
       "version_major": 2,
       "version_minor": 0
      },
      "text/plain": [
       "Training:   0%|          | 0/1845 [00:00<?, ?batch/s]"
      ]
     },
     "metadata": {},
     "output_type": "display_data"
    },
    {
     "name": "stderr",
     "output_type": "stream",
     "text": [
      "C:\\Users\\goupi\\AppData\\Local\\Temp\\ipykernel_14868\\410524407.py:48: RuntimeWarning: invalid value encountered in divide\n",
      "  current_avg_output_vector = avg_output_vector / total_graphs_processed\n",
      "C:\\Users\\goupi\\AppData\\Local\\Temp\\ipykernel_14868\\410524407.py:49: RuntimeWarning: invalid value encountered in divide\n",
      "  current_avg_label_vector = avg_label_vector / total_graphs_processed\n"
     ]
    },
    {
     "name": "stdout",
     "output_type": "stream",
     "text": [
      "Epoch: 45, Loss: 0.25593659\n"
     ]
    },
    {
     "name": "stderr",
     "output_type": "stream",
     "text": [
      "c:\\Users\\goupi\\.conda\\envs\\torch_geometric\\lib\\site-packages\\numpy\\lib\\function_base.py:518: RuntimeWarning: Mean of empty slice.\n",
      "  avg = a.mean(axis, **keepdims_kw)\n",
      "c:\\Users\\goupi\\.conda\\envs\\torch_geometric\\lib\\site-packages\\numpy\\core\\_methods.py:190: RuntimeWarning: invalid value encountered in double_scalars\n",
      "  ret = ret.dtype.type(ret / rcount)\n",
      "C:\\Users\\goupi\\AppData\\Local\\Temp\\ipykernel_14868\\3785573072.py:7: FutureWarning: The frame.append method is deprecated and will be removed from pandas in a future version. Use pandas.concat instead.\n",
      "  training_history = training_history.append({'epoch': epoch, 'loss': loss, 'avg_output_vector': avg_output_vector, 'avg_label_vector': avg_label_vector, 'avg_correct': accuracy, 'precision': precision, 'recall': recall}, ignore_index=True)\n"
     ]
    },
    {
     "data": {
      "application/vnd.jupyter.widget-view+json": {
       "model_id": "e3111f1b81284a48985ce91d2f2f2148",
       "version_major": 2,
       "version_minor": 0
      },
      "text/plain": [
       "Training:   0%|          | 0/1845 [00:00<?, ?batch/s]"
      ]
     },
     "metadata": {},
     "output_type": "display_data"
    },
    {
     "name": "stderr",
     "output_type": "stream",
     "text": [
      "C:\\Users\\goupi\\AppData\\Local\\Temp\\ipykernel_14868\\410524407.py:48: RuntimeWarning: invalid value encountered in divide\n",
      "  current_avg_output_vector = avg_output_vector / total_graphs_processed\n",
      "C:\\Users\\goupi\\AppData\\Local\\Temp\\ipykernel_14868\\410524407.py:49: RuntimeWarning: invalid value encountered in divide\n",
      "  current_avg_label_vector = avg_label_vector / total_graphs_processed\n"
     ]
    },
    {
     "name": "stdout",
     "output_type": "stream",
     "text": [
      "Epoch: 46, Loss: 0.25444917\n"
     ]
    },
    {
     "name": "stderr",
     "output_type": "stream",
     "text": [
      "c:\\Users\\goupi\\.conda\\envs\\torch_geometric\\lib\\site-packages\\numpy\\lib\\function_base.py:518: RuntimeWarning: Mean of empty slice.\n",
      "  avg = a.mean(axis, **keepdims_kw)\n",
      "c:\\Users\\goupi\\.conda\\envs\\torch_geometric\\lib\\site-packages\\numpy\\core\\_methods.py:190: RuntimeWarning: invalid value encountered in double_scalars\n",
      "  ret = ret.dtype.type(ret / rcount)\n",
      "C:\\Users\\goupi\\AppData\\Local\\Temp\\ipykernel_14868\\3785573072.py:7: FutureWarning: The frame.append method is deprecated and will be removed from pandas in a future version. Use pandas.concat instead.\n",
      "  training_history = training_history.append({'epoch': epoch, 'loss': loss, 'avg_output_vector': avg_output_vector, 'avg_label_vector': avg_label_vector, 'avg_correct': accuracy, 'precision': precision, 'recall': recall}, ignore_index=True)\n"
     ]
    },
    {
     "data": {
      "application/vnd.jupyter.widget-view+json": {
       "model_id": "f4c00a33b7f4409caeb8a13e7a0e500d",
       "version_major": 2,
       "version_minor": 0
      },
      "text/plain": [
       "Training:   0%|          | 0/1845 [00:00<?, ?batch/s]"
      ]
     },
     "metadata": {},
     "output_type": "display_data"
    },
    {
     "name": "stderr",
     "output_type": "stream",
     "text": [
      "C:\\Users\\goupi\\AppData\\Local\\Temp\\ipykernel_14868\\410524407.py:48: RuntimeWarning: invalid value encountered in divide\n",
      "  current_avg_output_vector = avg_output_vector / total_graphs_processed\n",
      "C:\\Users\\goupi\\AppData\\Local\\Temp\\ipykernel_14868\\410524407.py:49: RuntimeWarning: invalid value encountered in divide\n",
      "  current_avg_label_vector = avg_label_vector / total_graphs_processed\n"
     ]
    },
    {
     "name": "stdout",
     "output_type": "stream",
     "text": [
      "Epoch: 47, Loss: 0.25477996\n"
     ]
    },
    {
     "name": "stderr",
     "output_type": "stream",
     "text": [
      "c:\\Users\\goupi\\.conda\\envs\\torch_geometric\\lib\\site-packages\\numpy\\lib\\function_base.py:518: RuntimeWarning: Mean of empty slice.\n",
      "  avg = a.mean(axis, **keepdims_kw)\n",
      "c:\\Users\\goupi\\.conda\\envs\\torch_geometric\\lib\\site-packages\\numpy\\core\\_methods.py:190: RuntimeWarning: invalid value encountered in double_scalars\n",
      "  ret = ret.dtype.type(ret / rcount)\n",
      "C:\\Users\\goupi\\AppData\\Local\\Temp\\ipykernel_14868\\3785573072.py:7: FutureWarning: The frame.append method is deprecated and will be removed from pandas in a future version. Use pandas.concat instead.\n",
      "  training_history = training_history.append({'epoch': epoch, 'loss': loss, 'avg_output_vector': avg_output_vector, 'avg_label_vector': avg_label_vector, 'avg_correct': accuracy, 'precision': precision, 'recall': recall}, ignore_index=True)\n"
     ]
    },
    {
     "data": {
      "application/vnd.jupyter.widget-view+json": {
       "model_id": "bd353f0b82a64e0fbf9d0ee00a32764b",
       "version_major": 2,
       "version_minor": 0
      },
      "text/plain": [
       "Training:   0%|          | 0/1845 [00:00<?, ?batch/s]"
      ]
     },
     "metadata": {},
     "output_type": "display_data"
    },
    {
     "name": "stderr",
     "output_type": "stream",
     "text": [
      "C:\\Users\\goupi\\AppData\\Local\\Temp\\ipykernel_14868\\410524407.py:48: RuntimeWarning: invalid value encountered in divide\n",
      "  current_avg_output_vector = avg_output_vector / total_graphs_processed\n",
      "C:\\Users\\goupi\\AppData\\Local\\Temp\\ipykernel_14868\\410524407.py:49: RuntimeWarning: invalid value encountered in divide\n",
      "  current_avg_label_vector = avg_label_vector / total_graphs_processed\n"
     ]
    },
    {
     "name": "stdout",
     "output_type": "stream",
     "text": [
      "Epoch: 48, Loss: 0.25317682\n"
     ]
    },
    {
     "name": "stderr",
     "output_type": "stream",
     "text": [
      "c:\\Users\\goupi\\.conda\\envs\\torch_geometric\\lib\\site-packages\\numpy\\lib\\function_base.py:518: RuntimeWarning: Mean of empty slice.\n",
      "  avg = a.mean(axis, **keepdims_kw)\n",
      "c:\\Users\\goupi\\.conda\\envs\\torch_geometric\\lib\\site-packages\\numpy\\core\\_methods.py:190: RuntimeWarning: invalid value encountered in double_scalars\n",
      "  ret = ret.dtype.type(ret / rcount)\n",
      "C:\\Users\\goupi\\AppData\\Local\\Temp\\ipykernel_14868\\3785573072.py:7: FutureWarning: The frame.append method is deprecated and will be removed from pandas in a future version. Use pandas.concat instead.\n",
      "  training_history = training_history.append({'epoch': epoch, 'loss': loss, 'avg_output_vector': avg_output_vector, 'avg_label_vector': avg_label_vector, 'avg_correct': accuracy, 'precision': precision, 'recall': recall}, ignore_index=True)\n"
     ]
    },
    {
     "data": {
      "application/vnd.jupyter.widget-view+json": {
       "model_id": "2f321d5a45c64538a149abbaefac059d",
       "version_major": 2,
       "version_minor": 0
      },
      "text/plain": [
       "Training:   0%|          | 0/1845 [00:00<?, ?batch/s]"
      ]
     },
     "metadata": {},
     "output_type": "display_data"
    },
    {
     "name": "stderr",
     "output_type": "stream",
     "text": [
      "C:\\Users\\goupi\\AppData\\Local\\Temp\\ipykernel_14868\\410524407.py:48: RuntimeWarning: invalid value encountered in divide\n",
      "  current_avg_output_vector = avg_output_vector / total_graphs_processed\n",
      "C:\\Users\\goupi\\AppData\\Local\\Temp\\ipykernel_14868\\410524407.py:49: RuntimeWarning: invalid value encountered in divide\n",
      "  current_avg_label_vector = avg_label_vector / total_graphs_processed\n"
     ]
    },
    {
     "name": "stdout",
     "output_type": "stream",
     "text": [
      "Epoch: 49, Loss: 0.25302342\n"
     ]
    },
    {
     "name": "stderr",
     "output_type": "stream",
     "text": [
      "c:\\Users\\goupi\\.conda\\envs\\torch_geometric\\lib\\site-packages\\numpy\\lib\\function_base.py:518: RuntimeWarning: Mean of empty slice.\n",
      "  avg = a.mean(axis, **keepdims_kw)\n",
      "c:\\Users\\goupi\\.conda\\envs\\torch_geometric\\lib\\site-packages\\numpy\\core\\_methods.py:190: RuntimeWarning: invalid value encountered in double_scalars\n",
      "  ret = ret.dtype.type(ret / rcount)\n",
      "C:\\Users\\goupi\\AppData\\Local\\Temp\\ipykernel_14868\\3785573072.py:7: FutureWarning: The frame.append method is deprecated and will be removed from pandas in a future version. Use pandas.concat instead.\n",
      "  training_history = training_history.append({'epoch': epoch, 'loss': loss, 'avg_output_vector': avg_output_vector, 'avg_label_vector': avg_label_vector, 'avg_correct': accuracy, 'precision': precision, 'recall': recall}, ignore_index=True)\n"
     ]
    },
    {
     "data": {
      "application/vnd.jupyter.widget-view+json": {
       "model_id": "4c9f2c20442f43a3a0e13c99e3493d7e",
       "version_major": 2,
       "version_minor": 0
      },
      "text/plain": [
       "Training:   0%|          | 0/1845 [00:00<?, ?batch/s]"
      ]
     },
     "metadata": {},
     "output_type": "display_data"
    },
    {
     "name": "stderr",
     "output_type": "stream",
     "text": [
      "C:\\Users\\goupi\\AppData\\Local\\Temp\\ipykernel_14868\\410524407.py:48: RuntimeWarning: invalid value encountered in divide\n",
      "  current_avg_output_vector = avg_output_vector / total_graphs_processed\n",
      "C:\\Users\\goupi\\AppData\\Local\\Temp\\ipykernel_14868\\410524407.py:49: RuntimeWarning: invalid value encountered in divide\n",
      "  current_avg_label_vector = avg_label_vector / total_graphs_processed\n"
     ]
    },
    {
     "name": "stdout",
     "output_type": "stream",
     "text": [
      "Epoch: 50, Loss: 0.25398081\n"
     ]
    },
    {
     "name": "stderr",
     "output_type": "stream",
     "text": [
      "c:\\Users\\goupi\\.conda\\envs\\torch_geometric\\lib\\site-packages\\numpy\\lib\\function_base.py:518: RuntimeWarning: Mean of empty slice.\n",
      "  avg = a.mean(axis, **keepdims_kw)\n",
      "c:\\Users\\goupi\\.conda\\envs\\torch_geometric\\lib\\site-packages\\numpy\\core\\_methods.py:190: RuntimeWarning: invalid value encountered in double_scalars\n",
      "  ret = ret.dtype.type(ret / rcount)\n",
      "C:\\Users\\goupi\\AppData\\Local\\Temp\\ipykernel_14868\\3785573072.py:7: FutureWarning: The frame.append method is deprecated and will be removed from pandas in a future version. Use pandas.concat instead.\n",
      "  training_history = training_history.append({'epoch': epoch, 'loss': loss, 'avg_output_vector': avg_output_vector, 'avg_label_vector': avg_label_vector, 'avg_correct': accuracy, 'precision': precision, 'recall': recall}, ignore_index=True)\n"
     ]
    },
    {
     "data": {
      "application/vnd.jupyter.widget-view+json": {
       "model_id": "dacf642eb586433e92638a0947bd8b22",
       "version_major": 2,
       "version_minor": 0
      },
      "text/plain": [
       "Training:   0%|          | 0/1845 [00:00<?, ?batch/s]"
      ]
     },
     "metadata": {},
     "output_type": "display_data"
    },
    {
     "name": "stderr",
     "output_type": "stream",
     "text": [
      "C:\\Users\\goupi\\AppData\\Local\\Temp\\ipykernel_14868\\410524407.py:48: RuntimeWarning: invalid value encountered in divide\n",
      "  current_avg_output_vector = avg_output_vector / total_graphs_processed\n",
      "C:\\Users\\goupi\\AppData\\Local\\Temp\\ipykernel_14868\\410524407.py:49: RuntimeWarning: invalid value encountered in divide\n",
      "  current_avg_label_vector = avg_label_vector / total_graphs_processed\n"
     ]
    },
    {
     "name": "stdout",
     "output_type": "stream",
     "text": [
      "Epoch: 51, Loss: 0.25545091\n"
     ]
    },
    {
     "name": "stderr",
     "output_type": "stream",
     "text": [
      "c:\\Users\\goupi\\.conda\\envs\\torch_geometric\\lib\\site-packages\\numpy\\lib\\function_base.py:518: RuntimeWarning: Mean of empty slice.\n",
      "  avg = a.mean(axis, **keepdims_kw)\n",
      "c:\\Users\\goupi\\.conda\\envs\\torch_geometric\\lib\\site-packages\\numpy\\core\\_methods.py:190: RuntimeWarning: invalid value encountered in double_scalars\n",
      "  ret = ret.dtype.type(ret / rcount)\n",
      "C:\\Users\\goupi\\AppData\\Local\\Temp\\ipykernel_14868\\3785573072.py:7: FutureWarning: The frame.append method is deprecated and will be removed from pandas in a future version. Use pandas.concat instead.\n",
      "  training_history = training_history.append({'epoch': epoch, 'loss': loss, 'avg_output_vector': avg_output_vector, 'avg_label_vector': avg_label_vector, 'avg_correct': accuracy, 'precision': precision, 'recall': recall}, ignore_index=True)\n"
     ]
    },
    {
     "data": {
      "application/vnd.jupyter.widget-view+json": {
       "model_id": "596158c83af04066bee38300a6789463",
       "version_major": 2,
       "version_minor": 0
      },
      "text/plain": [
       "Training:   0%|          | 0/1845 [00:00<?, ?batch/s]"
      ]
     },
     "metadata": {},
     "output_type": "display_data"
    },
    {
     "name": "stderr",
     "output_type": "stream",
     "text": [
      "C:\\Users\\goupi\\AppData\\Local\\Temp\\ipykernel_14868\\410524407.py:48: RuntimeWarning: invalid value encountered in divide\n",
      "  current_avg_output_vector = avg_output_vector / total_graphs_processed\n",
      "C:\\Users\\goupi\\AppData\\Local\\Temp\\ipykernel_14868\\410524407.py:49: RuntimeWarning: invalid value encountered in divide\n",
      "  current_avg_label_vector = avg_label_vector / total_graphs_processed\n"
     ]
    },
    {
     "name": "stdout",
     "output_type": "stream",
     "text": [
      "Epoch: 52, Loss: 0.25496146\n"
     ]
    },
    {
     "name": "stderr",
     "output_type": "stream",
     "text": [
      "c:\\Users\\goupi\\.conda\\envs\\torch_geometric\\lib\\site-packages\\numpy\\lib\\function_base.py:518: RuntimeWarning: Mean of empty slice.\n",
      "  avg = a.mean(axis, **keepdims_kw)\n",
      "c:\\Users\\goupi\\.conda\\envs\\torch_geometric\\lib\\site-packages\\numpy\\core\\_methods.py:190: RuntimeWarning: invalid value encountered in double_scalars\n",
      "  ret = ret.dtype.type(ret / rcount)\n",
      "C:\\Users\\goupi\\AppData\\Local\\Temp\\ipykernel_14868\\3785573072.py:7: FutureWarning: The frame.append method is deprecated and will be removed from pandas in a future version. Use pandas.concat instead.\n",
      "  training_history = training_history.append({'epoch': epoch, 'loss': loss, 'avg_output_vector': avg_output_vector, 'avg_label_vector': avg_label_vector, 'avg_correct': accuracy, 'precision': precision, 'recall': recall}, ignore_index=True)\n"
     ]
    },
    {
     "data": {
      "application/vnd.jupyter.widget-view+json": {
       "model_id": "5f4b49852ac34c9b8812ff4bd0524f9f",
       "version_major": 2,
       "version_minor": 0
      },
      "text/plain": [
       "Training:   0%|          | 0/1845 [00:00<?, ?batch/s]"
      ]
     },
     "metadata": {},
     "output_type": "display_data"
    },
    {
     "name": "stderr",
     "output_type": "stream",
     "text": [
      "C:\\Users\\goupi\\AppData\\Local\\Temp\\ipykernel_14868\\410524407.py:48: RuntimeWarning: invalid value encountered in divide\n",
      "  current_avg_output_vector = avg_output_vector / total_graphs_processed\n",
      "C:\\Users\\goupi\\AppData\\Local\\Temp\\ipykernel_14868\\410524407.py:49: RuntimeWarning: invalid value encountered in divide\n",
      "  current_avg_label_vector = avg_label_vector / total_graphs_processed\n"
     ]
    },
    {
     "name": "stdout",
     "output_type": "stream",
     "text": [
      "Epoch: 53, Loss: 0.25380396\n"
     ]
    },
    {
     "name": "stderr",
     "output_type": "stream",
     "text": [
      "c:\\Users\\goupi\\.conda\\envs\\torch_geometric\\lib\\site-packages\\numpy\\lib\\function_base.py:518: RuntimeWarning: Mean of empty slice.\n",
      "  avg = a.mean(axis, **keepdims_kw)\n",
      "c:\\Users\\goupi\\.conda\\envs\\torch_geometric\\lib\\site-packages\\numpy\\core\\_methods.py:190: RuntimeWarning: invalid value encountered in double_scalars\n",
      "  ret = ret.dtype.type(ret / rcount)\n",
      "C:\\Users\\goupi\\AppData\\Local\\Temp\\ipykernel_14868\\3785573072.py:7: FutureWarning: The frame.append method is deprecated and will be removed from pandas in a future version. Use pandas.concat instead.\n",
      "  training_history = training_history.append({'epoch': epoch, 'loss': loss, 'avg_output_vector': avg_output_vector, 'avg_label_vector': avg_label_vector, 'avg_correct': accuracy, 'precision': precision, 'recall': recall}, ignore_index=True)\n"
     ]
    },
    {
     "data": {
      "application/vnd.jupyter.widget-view+json": {
       "model_id": "eb78204af321435f959a1bc44e463dd2",
       "version_major": 2,
       "version_minor": 0
      },
      "text/plain": [
       "Training:   0%|          | 0/1845 [00:00<?, ?batch/s]"
      ]
     },
     "metadata": {},
     "output_type": "display_data"
    },
    {
     "name": "stderr",
     "output_type": "stream",
     "text": [
      "C:\\Users\\goupi\\AppData\\Local\\Temp\\ipykernel_14868\\410524407.py:48: RuntimeWarning: invalid value encountered in divide\n",
      "  current_avg_output_vector = avg_output_vector / total_graphs_processed\n",
      "C:\\Users\\goupi\\AppData\\Local\\Temp\\ipykernel_14868\\410524407.py:49: RuntimeWarning: invalid value encountered in divide\n",
      "  current_avg_label_vector = avg_label_vector / total_graphs_processed\n"
     ]
    },
    {
     "name": "stdout",
     "output_type": "stream",
     "text": [
      "Epoch: 54, Loss: 0.25404742\n"
     ]
    },
    {
     "name": "stderr",
     "output_type": "stream",
     "text": [
      "c:\\Users\\goupi\\.conda\\envs\\torch_geometric\\lib\\site-packages\\numpy\\lib\\function_base.py:518: RuntimeWarning: Mean of empty slice.\n",
      "  avg = a.mean(axis, **keepdims_kw)\n",
      "c:\\Users\\goupi\\.conda\\envs\\torch_geometric\\lib\\site-packages\\numpy\\core\\_methods.py:190: RuntimeWarning: invalid value encountered in double_scalars\n",
      "  ret = ret.dtype.type(ret / rcount)\n",
      "C:\\Users\\goupi\\AppData\\Local\\Temp\\ipykernel_14868\\3785573072.py:7: FutureWarning: The frame.append method is deprecated and will be removed from pandas in a future version. Use pandas.concat instead.\n",
      "  training_history = training_history.append({'epoch': epoch, 'loss': loss, 'avg_output_vector': avg_output_vector, 'avg_label_vector': avg_label_vector, 'avg_correct': accuracy, 'precision': precision, 'recall': recall}, ignore_index=True)\n"
     ]
    },
    {
     "data": {
      "application/vnd.jupyter.widget-view+json": {
       "model_id": "39fabb390c2a4c4ea63701fcbf94b695",
       "version_major": 2,
       "version_minor": 0
      },
      "text/plain": [
       "Training:   0%|          | 0/1845 [00:00<?, ?batch/s]"
      ]
     },
     "metadata": {},
     "output_type": "display_data"
    },
    {
     "name": "stderr",
     "output_type": "stream",
     "text": [
      "C:\\Users\\goupi\\AppData\\Local\\Temp\\ipykernel_14868\\410524407.py:48: RuntimeWarning: invalid value encountered in divide\n",
      "  current_avg_output_vector = avg_output_vector / total_graphs_processed\n",
      "C:\\Users\\goupi\\AppData\\Local\\Temp\\ipykernel_14868\\410524407.py:49: RuntimeWarning: invalid value encountered in divide\n",
      "  current_avg_label_vector = avg_label_vector / total_graphs_processed\n"
     ]
    },
    {
     "name": "stdout",
     "output_type": "stream",
     "text": [
      "Epoch: 55, Loss: 0.25294976\n"
     ]
    },
    {
     "name": "stderr",
     "output_type": "stream",
     "text": [
      "c:\\Users\\goupi\\.conda\\envs\\torch_geometric\\lib\\site-packages\\numpy\\lib\\function_base.py:518: RuntimeWarning: Mean of empty slice.\n",
      "  avg = a.mean(axis, **keepdims_kw)\n",
      "c:\\Users\\goupi\\.conda\\envs\\torch_geometric\\lib\\site-packages\\numpy\\core\\_methods.py:190: RuntimeWarning: invalid value encountered in double_scalars\n",
      "  ret = ret.dtype.type(ret / rcount)\n",
      "C:\\Users\\goupi\\AppData\\Local\\Temp\\ipykernel_14868\\3785573072.py:7: FutureWarning: The frame.append method is deprecated and will be removed from pandas in a future version. Use pandas.concat instead.\n",
      "  training_history = training_history.append({'epoch': epoch, 'loss': loss, 'avg_output_vector': avg_output_vector, 'avg_label_vector': avg_label_vector, 'avg_correct': accuracy, 'precision': precision, 'recall': recall}, ignore_index=True)\n"
     ]
    },
    {
     "data": {
      "application/vnd.jupyter.widget-view+json": {
       "model_id": "b1699a75b2bb4b0db5f0874bbc72320d",
       "version_major": 2,
       "version_minor": 0
      },
      "text/plain": [
       "Training:   0%|          | 0/1845 [00:00<?, ?batch/s]"
      ]
     },
     "metadata": {},
     "output_type": "display_data"
    },
    {
     "name": "stderr",
     "output_type": "stream",
     "text": [
      "C:\\Users\\goupi\\AppData\\Local\\Temp\\ipykernel_14868\\410524407.py:48: RuntimeWarning: invalid value encountered in divide\n",
      "  current_avg_output_vector = avg_output_vector / total_graphs_processed\n",
      "C:\\Users\\goupi\\AppData\\Local\\Temp\\ipykernel_14868\\410524407.py:49: RuntimeWarning: invalid value encountered in divide\n",
      "  current_avg_label_vector = avg_label_vector / total_graphs_processed\n"
     ]
    },
    {
     "name": "stdout",
     "output_type": "stream",
     "text": [
      "Epoch: 56, Loss: 0.25338745\n"
     ]
    },
    {
     "name": "stderr",
     "output_type": "stream",
     "text": [
      "c:\\Users\\goupi\\.conda\\envs\\torch_geometric\\lib\\site-packages\\numpy\\lib\\function_base.py:518: RuntimeWarning: Mean of empty slice.\n",
      "  avg = a.mean(axis, **keepdims_kw)\n",
      "c:\\Users\\goupi\\.conda\\envs\\torch_geometric\\lib\\site-packages\\numpy\\core\\_methods.py:190: RuntimeWarning: invalid value encountered in double_scalars\n",
      "  ret = ret.dtype.type(ret / rcount)\n",
      "C:\\Users\\goupi\\AppData\\Local\\Temp\\ipykernel_14868\\3785573072.py:7: FutureWarning: The frame.append method is deprecated and will be removed from pandas in a future version. Use pandas.concat instead.\n",
      "  training_history = training_history.append({'epoch': epoch, 'loss': loss, 'avg_output_vector': avg_output_vector, 'avg_label_vector': avg_label_vector, 'avg_correct': accuracy, 'precision': precision, 'recall': recall}, ignore_index=True)\n"
     ]
    },
    {
     "data": {
      "application/vnd.jupyter.widget-view+json": {
       "model_id": "d66715a151fc4452a66e4dd064a55ff0",
       "version_major": 2,
       "version_minor": 0
      },
      "text/plain": [
       "Training:   0%|          | 0/1845 [00:00<?, ?batch/s]"
      ]
     },
     "metadata": {},
     "output_type": "display_data"
    },
    {
     "name": "stderr",
     "output_type": "stream",
     "text": [
      "C:\\Users\\goupi\\AppData\\Local\\Temp\\ipykernel_14868\\410524407.py:48: RuntimeWarning: invalid value encountered in divide\n",
      "  current_avg_output_vector = avg_output_vector / total_graphs_processed\n",
      "C:\\Users\\goupi\\AppData\\Local\\Temp\\ipykernel_14868\\410524407.py:49: RuntimeWarning: invalid value encountered in divide\n",
      "  current_avg_label_vector = avg_label_vector / total_graphs_processed\n"
     ]
    },
    {
     "name": "stdout",
     "output_type": "stream",
     "text": [
      "Epoch: 57, Loss: 0.25319076\n"
     ]
    },
    {
     "name": "stderr",
     "output_type": "stream",
     "text": [
      "c:\\Users\\goupi\\.conda\\envs\\torch_geometric\\lib\\site-packages\\numpy\\lib\\function_base.py:518: RuntimeWarning: Mean of empty slice.\n",
      "  avg = a.mean(axis, **keepdims_kw)\n",
      "c:\\Users\\goupi\\.conda\\envs\\torch_geometric\\lib\\site-packages\\numpy\\core\\_methods.py:190: RuntimeWarning: invalid value encountered in double_scalars\n",
      "  ret = ret.dtype.type(ret / rcount)\n",
      "C:\\Users\\goupi\\AppData\\Local\\Temp\\ipykernel_14868\\3785573072.py:7: FutureWarning: The frame.append method is deprecated and will be removed from pandas in a future version. Use pandas.concat instead.\n",
      "  training_history = training_history.append({'epoch': epoch, 'loss': loss, 'avg_output_vector': avg_output_vector, 'avg_label_vector': avg_label_vector, 'avg_correct': accuracy, 'precision': precision, 'recall': recall}, ignore_index=True)\n"
     ]
    },
    {
     "data": {
      "application/vnd.jupyter.widget-view+json": {
       "model_id": "69ddb73de4af458dbcfb0d51358db9e5",
       "version_major": 2,
       "version_minor": 0
      },
      "text/plain": [
       "Training:   0%|          | 0/1845 [00:00<?, ?batch/s]"
      ]
     },
     "metadata": {},
     "output_type": "display_data"
    },
    {
     "name": "stderr",
     "output_type": "stream",
     "text": [
      "C:\\Users\\goupi\\AppData\\Local\\Temp\\ipykernel_14868\\410524407.py:48: RuntimeWarning: invalid value encountered in divide\n",
      "  current_avg_output_vector = avg_output_vector / total_graphs_processed\n",
      "C:\\Users\\goupi\\AppData\\Local\\Temp\\ipykernel_14868\\410524407.py:49: RuntimeWarning: invalid value encountered in divide\n",
      "  current_avg_label_vector = avg_label_vector / total_graphs_processed\n"
     ]
    },
    {
     "name": "stdout",
     "output_type": "stream",
     "text": [
      "Epoch: 58, Loss: 0.25363515\n"
     ]
    },
    {
     "name": "stderr",
     "output_type": "stream",
     "text": [
      "c:\\Users\\goupi\\.conda\\envs\\torch_geometric\\lib\\site-packages\\numpy\\lib\\function_base.py:518: RuntimeWarning: Mean of empty slice.\n",
      "  avg = a.mean(axis, **keepdims_kw)\n",
      "c:\\Users\\goupi\\.conda\\envs\\torch_geometric\\lib\\site-packages\\numpy\\core\\_methods.py:190: RuntimeWarning: invalid value encountered in double_scalars\n",
      "  ret = ret.dtype.type(ret / rcount)\n",
      "C:\\Users\\goupi\\AppData\\Local\\Temp\\ipykernel_14868\\3785573072.py:7: FutureWarning: The frame.append method is deprecated and will be removed from pandas in a future version. Use pandas.concat instead.\n",
      "  training_history = training_history.append({'epoch': epoch, 'loss': loss, 'avg_output_vector': avg_output_vector, 'avg_label_vector': avg_label_vector, 'avg_correct': accuracy, 'precision': precision, 'recall': recall}, ignore_index=True)\n"
     ]
    },
    {
     "data": {
      "application/vnd.jupyter.widget-view+json": {
       "model_id": "83eb0703301a40fe996666a4f70a76c9",
       "version_major": 2,
       "version_minor": 0
      },
      "text/plain": [
       "Training:   0%|          | 0/1845 [00:00<?, ?batch/s]"
      ]
     },
     "metadata": {},
     "output_type": "display_data"
    },
    {
     "name": "stderr",
     "output_type": "stream",
     "text": [
      "C:\\Users\\goupi\\AppData\\Local\\Temp\\ipykernel_14868\\410524407.py:48: RuntimeWarning: invalid value encountered in divide\n",
      "  current_avg_output_vector = avg_output_vector / total_graphs_processed\n",
      "C:\\Users\\goupi\\AppData\\Local\\Temp\\ipykernel_14868\\410524407.py:49: RuntimeWarning: invalid value encountered in divide\n",
      "  current_avg_label_vector = avg_label_vector / total_graphs_processed\n"
     ]
    },
    {
     "name": "stdout",
     "output_type": "stream",
     "text": [
      "Epoch: 59, Loss: 0.25105170\n"
     ]
    },
    {
     "name": "stderr",
     "output_type": "stream",
     "text": [
      "c:\\Users\\goupi\\.conda\\envs\\torch_geometric\\lib\\site-packages\\numpy\\lib\\function_base.py:518: RuntimeWarning: Mean of empty slice.\n",
      "  avg = a.mean(axis, **keepdims_kw)\n",
      "c:\\Users\\goupi\\.conda\\envs\\torch_geometric\\lib\\site-packages\\numpy\\core\\_methods.py:190: RuntimeWarning: invalid value encountered in double_scalars\n",
      "  ret = ret.dtype.type(ret / rcount)\n",
      "C:\\Users\\goupi\\AppData\\Local\\Temp\\ipykernel_14868\\3785573072.py:7: FutureWarning: The frame.append method is deprecated and will be removed from pandas in a future version. Use pandas.concat instead.\n",
      "  training_history = training_history.append({'epoch': epoch, 'loss': loss, 'avg_output_vector': avg_output_vector, 'avg_label_vector': avg_label_vector, 'avg_correct': accuracy, 'precision': precision, 'recall': recall}, ignore_index=True)\n"
     ]
    },
    {
     "data": {
      "application/vnd.jupyter.widget-view+json": {
       "model_id": "f3b7010dbd0845aca11be844a561cb0a",
       "version_major": 2,
       "version_minor": 0
      },
      "text/plain": [
       "Training:   0%|          | 0/1845 [00:00<?, ?batch/s]"
      ]
     },
     "metadata": {},
     "output_type": "display_data"
    },
    {
     "name": "stderr",
     "output_type": "stream",
     "text": [
      "C:\\Users\\goupi\\AppData\\Local\\Temp\\ipykernel_14868\\410524407.py:48: RuntimeWarning: invalid value encountered in divide\n",
      "  current_avg_output_vector = avg_output_vector / total_graphs_processed\n",
      "C:\\Users\\goupi\\AppData\\Local\\Temp\\ipykernel_14868\\410524407.py:49: RuntimeWarning: invalid value encountered in divide\n",
      "  current_avg_label_vector = avg_label_vector / total_graphs_processed\n"
     ]
    },
    {
     "name": "stdout",
     "output_type": "stream",
     "text": [
      "Epoch: 60, Loss: 0.25320225\n"
     ]
    },
    {
     "name": "stderr",
     "output_type": "stream",
     "text": [
      "c:\\Users\\goupi\\.conda\\envs\\torch_geometric\\lib\\site-packages\\numpy\\lib\\function_base.py:518: RuntimeWarning: Mean of empty slice.\n",
      "  avg = a.mean(axis, **keepdims_kw)\n",
      "c:\\Users\\goupi\\.conda\\envs\\torch_geometric\\lib\\site-packages\\numpy\\core\\_methods.py:190: RuntimeWarning: invalid value encountered in double_scalars\n",
      "  ret = ret.dtype.type(ret / rcount)\n",
      "C:\\Users\\goupi\\AppData\\Local\\Temp\\ipykernel_14868\\3785573072.py:7: FutureWarning: The frame.append method is deprecated and will be removed from pandas in a future version. Use pandas.concat instead.\n",
      "  training_history = training_history.append({'epoch': epoch, 'loss': loss, 'avg_output_vector': avg_output_vector, 'avg_label_vector': avg_label_vector, 'avg_correct': accuracy, 'precision': precision, 'recall': recall}, ignore_index=True)\n"
     ]
    },
    {
     "data": {
      "application/vnd.jupyter.widget-view+json": {
       "model_id": "d5c6bb16f29249b7a9fe6b8c150d599d",
       "version_major": 2,
       "version_minor": 0
      },
      "text/plain": [
       "Training:   0%|          | 0/1845 [00:00<?, ?batch/s]"
      ]
     },
     "metadata": {},
     "output_type": "display_data"
    },
    {
     "name": "stderr",
     "output_type": "stream",
     "text": [
      "C:\\Users\\goupi\\AppData\\Local\\Temp\\ipykernel_14868\\410524407.py:48: RuntimeWarning: invalid value encountered in divide\n",
      "  current_avg_output_vector = avg_output_vector / total_graphs_processed\n",
      "C:\\Users\\goupi\\AppData\\Local\\Temp\\ipykernel_14868\\410524407.py:49: RuntimeWarning: invalid value encountered in divide\n",
      "  current_avg_label_vector = avg_label_vector / total_graphs_processed\n"
     ]
    },
    {
     "name": "stdout",
     "output_type": "stream",
     "text": [
      "Epoch: 61, Loss: 0.25134997\n"
     ]
    },
    {
     "name": "stderr",
     "output_type": "stream",
     "text": [
      "c:\\Users\\goupi\\.conda\\envs\\torch_geometric\\lib\\site-packages\\numpy\\lib\\function_base.py:518: RuntimeWarning: Mean of empty slice.\n",
      "  avg = a.mean(axis, **keepdims_kw)\n",
      "c:\\Users\\goupi\\.conda\\envs\\torch_geometric\\lib\\site-packages\\numpy\\core\\_methods.py:190: RuntimeWarning: invalid value encountered in double_scalars\n",
      "  ret = ret.dtype.type(ret / rcount)\n",
      "C:\\Users\\goupi\\AppData\\Local\\Temp\\ipykernel_14868\\3785573072.py:7: FutureWarning: The frame.append method is deprecated and will be removed from pandas in a future version. Use pandas.concat instead.\n",
      "  training_history = training_history.append({'epoch': epoch, 'loss': loss, 'avg_output_vector': avg_output_vector, 'avg_label_vector': avg_label_vector, 'avg_correct': accuracy, 'precision': precision, 'recall': recall}, ignore_index=True)\n"
     ]
    },
    {
     "data": {
      "application/vnd.jupyter.widget-view+json": {
       "model_id": "40876e9ec1174e9d9327bcead74addea",
       "version_major": 2,
       "version_minor": 0
      },
      "text/plain": [
       "Training:   0%|          | 0/1845 [00:00<?, ?batch/s]"
      ]
     },
     "metadata": {},
     "output_type": "display_data"
    },
    {
     "name": "stderr",
     "output_type": "stream",
     "text": [
      "C:\\Users\\goupi\\AppData\\Local\\Temp\\ipykernel_14868\\410524407.py:48: RuntimeWarning: invalid value encountered in divide\n",
      "  current_avg_output_vector = avg_output_vector / total_graphs_processed\n",
      "C:\\Users\\goupi\\AppData\\Local\\Temp\\ipykernel_14868\\410524407.py:49: RuntimeWarning: invalid value encountered in divide\n",
      "  current_avg_label_vector = avg_label_vector / total_graphs_processed\n"
     ]
    },
    {
     "name": "stdout",
     "output_type": "stream",
     "text": [
      "Epoch: 62, Loss: 0.25143468\n"
     ]
    },
    {
     "name": "stderr",
     "output_type": "stream",
     "text": [
      "c:\\Users\\goupi\\.conda\\envs\\torch_geometric\\lib\\site-packages\\numpy\\lib\\function_base.py:518: RuntimeWarning: Mean of empty slice.\n",
      "  avg = a.mean(axis, **keepdims_kw)\n",
      "c:\\Users\\goupi\\.conda\\envs\\torch_geometric\\lib\\site-packages\\numpy\\core\\_methods.py:190: RuntimeWarning: invalid value encountered in double_scalars\n",
      "  ret = ret.dtype.type(ret / rcount)\n",
      "C:\\Users\\goupi\\AppData\\Local\\Temp\\ipykernel_14868\\3785573072.py:7: FutureWarning: The frame.append method is deprecated and will be removed from pandas in a future version. Use pandas.concat instead.\n",
      "  training_history = training_history.append({'epoch': epoch, 'loss': loss, 'avg_output_vector': avg_output_vector, 'avg_label_vector': avg_label_vector, 'avg_correct': accuracy, 'precision': precision, 'recall': recall}, ignore_index=True)\n"
     ]
    },
    {
     "data": {
      "application/vnd.jupyter.widget-view+json": {
       "model_id": "f7051f64a70b49598defcc5a97190869",
       "version_major": 2,
       "version_minor": 0
      },
      "text/plain": [
       "Training:   0%|          | 0/1845 [00:00<?, ?batch/s]"
      ]
     },
     "metadata": {},
     "output_type": "display_data"
    },
    {
     "name": "stderr",
     "output_type": "stream",
     "text": [
      "C:\\Users\\goupi\\AppData\\Local\\Temp\\ipykernel_14868\\410524407.py:48: RuntimeWarning: invalid value encountered in divide\n",
      "  current_avg_output_vector = avg_output_vector / total_graphs_processed\n",
      "C:\\Users\\goupi\\AppData\\Local\\Temp\\ipykernel_14868\\410524407.py:49: RuntimeWarning: invalid value encountered in divide\n",
      "  current_avg_label_vector = avg_label_vector / total_graphs_processed\n"
     ]
    },
    {
     "name": "stdout",
     "output_type": "stream",
     "text": [
      "Epoch: 63, Loss: 0.25024051\n"
     ]
    },
    {
     "name": "stderr",
     "output_type": "stream",
     "text": [
      "c:\\Users\\goupi\\.conda\\envs\\torch_geometric\\lib\\site-packages\\numpy\\lib\\function_base.py:518: RuntimeWarning: Mean of empty slice.\n",
      "  avg = a.mean(axis, **keepdims_kw)\n",
      "c:\\Users\\goupi\\.conda\\envs\\torch_geometric\\lib\\site-packages\\numpy\\core\\_methods.py:190: RuntimeWarning: invalid value encountered in double_scalars\n",
      "  ret = ret.dtype.type(ret / rcount)\n",
      "C:\\Users\\goupi\\AppData\\Local\\Temp\\ipykernel_14868\\3785573072.py:7: FutureWarning: The frame.append method is deprecated and will be removed from pandas in a future version. Use pandas.concat instead.\n",
      "  training_history = training_history.append({'epoch': epoch, 'loss': loss, 'avg_output_vector': avg_output_vector, 'avg_label_vector': avg_label_vector, 'avg_correct': accuracy, 'precision': precision, 'recall': recall}, ignore_index=True)\n"
     ]
    },
    {
     "data": {
      "application/vnd.jupyter.widget-view+json": {
       "model_id": "b6742c40d27145c79be2d040d6d2b4f2",
       "version_major": 2,
       "version_minor": 0
      },
      "text/plain": [
       "Training:   0%|          | 0/1845 [00:00<?, ?batch/s]"
      ]
     },
     "metadata": {},
     "output_type": "display_data"
    },
    {
     "name": "stderr",
     "output_type": "stream",
     "text": [
      "C:\\Users\\goupi\\AppData\\Local\\Temp\\ipykernel_14868\\410524407.py:48: RuntimeWarning: invalid value encountered in divide\n",
      "  current_avg_output_vector = avg_output_vector / total_graphs_processed\n",
      "C:\\Users\\goupi\\AppData\\Local\\Temp\\ipykernel_14868\\410524407.py:49: RuntimeWarning: invalid value encountered in divide\n",
      "  current_avg_label_vector = avg_label_vector / total_graphs_processed\n"
     ]
    },
    {
     "name": "stdout",
     "output_type": "stream",
     "text": [
      "Epoch: 64, Loss: 0.25011399\n"
     ]
    },
    {
     "name": "stderr",
     "output_type": "stream",
     "text": [
      "c:\\Users\\goupi\\.conda\\envs\\torch_geometric\\lib\\site-packages\\numpy\\lib\\function_base.py:518: RuntimeWarning: Mean of empty slice.\n",
      "  avg = a.mean(axis, **keepdims_kw)\n",
      "c:\\Users\\goupi\\.conda\\envs\\torch_geometric\\lib\\site-packages\\numpy\\core\\_methods.py:190: RuntimeWarning: invalid value encountered in double_scalars\n",
      "  ret = ret.dtype.type(ret / rcount)\n",
      "C:\\Users\\goupi\\AppData\\Local\\Temp\\ipykernel_14868\\3785573072.py:7: FutureWarning: The frame.append method is deprecated and will be removed from pandas in a future version. Use pandas.concat instead.\n",
      "  training_history = training_history.append({'epoch': epoch, 'loss': loss, 'avg_output_vector': avg_output_vector, 'avg_label_vector': avg_label_vector, 'avg_correct': accuracy, 'precision': precision, 'recall': recall}, ignore_index=True)\n"
     ]
    },
    {
     "data": {
      "application/vnd.jupyter.widget-view+json": {
       "model_id": "b0c59bea9e154e0591bf01af788212a9",
       "version_major": 2,
       "version_minor": 0
      },
      "text/plain": [
       "Training:   0%|          | 0/1845 [00:00<?, ?batch/s]"
      ]
     },
     "metadata": {},
     "output_type": "display_data"
    },
    {
     "name": "stderr",
     "output_type": "stream",
     "text": [
      "C:\\Users\\goupi\\AppData\\Local\\Temp\\ipykernel_14868\\410524407.py:48: RuntimeWarning: invalid value encountered in divide\n",
      "  current_avg_output_vector = avg_output_vector / total_graphs_processed\n",
      "C:\\Users\\goupi\\AppData\\Local\\Temp\\ipykernel_14868\\410524407.py:49: RuntimeWarning: invalid value encountered in divide\n",
      "  current_avg_label_vector = avg_label_vector / total_graphs_processed\n"
     ]
    },
    {
     "name": "stdout",
     "output_type": "stream",
     "text": [
      "Epoch: 65, Loss: 0.25101100\n"
     ]
    },
    {
     "name": "stderr",
     "output_type": "stream",
     "text": [
      "c:\\Users\\goupi\\.conda\\envs\\torch_geometric\\lib\\site-packages\\numpy\\lib\\function_base.py:518: RuntimeWarning: Mean of empty slice.\n",
      "  avg = a.mean(axis, **keepdims_kw)\n",
      "c:\\Users\\goupi\\.conda\\envs\\torch_geometric\\lib\\site-packages\\numpy\\core\\_methods.py:190: RuntimeWarning: invalid value encountered in double_scalars\n",
      "  ret = ret.dtype.type(ret / rcount)\n",
      "C:\\Users\\goupi\\AppData\\Local\\Temp\\ipykernel_14868\\3785573072.py:7: FutureWarning: The frame.append method is deprecated and will be removed from pandas in a future version. Use pandas.concat instead.\n",
      "  training_history = training_history.append({'epoch': epoch, 'loss': loss, 'avg_output_vector': avg_output_vector, 'avg_label_vector': avg_label_vector, 'avg_correct': accuracy, 'precision': precision, 'recall': recall}, ignore_index=True)\n"
     ]
    },
    {
     "data": {
      "application/vnd.jupyter.widget-view+json": {
       "model_id": "2b0da162f8eb4a8e8ce2b33c83048c05",
       "version_major": 2,
       "version_minor": 0
      },
      "text/plain": [
       "Training:   0%|          | 0/1845 [00:00<?, ?batch/s]"
      ]
     },
     "metadata": {},
     "output_type": "display_data"
    },
    {
     "name": "stderr",
     "output_type": "stream",
     "text": [
      "C:\\Users\\goupi\\AppData\\Local\\Temp\\ipykernel_14868\\410524407.py:48: RuntimeWarning: invalid value encountered in divide\n",
      "  current_avg_output_vector = avg_output_vector / total_graphs_processed\n",
      "C:\\Users\\goupi\\AppData\\Local\\Temp\\ipykernel_14868\\410524407.py:49: RuntimeWarning: invalid value encountered in divide\n",
      "  current_avg_label_vector = avg_label_vector / total_graphs_processed\n"
     ]
    },
    {
     "name": "stdout",
     "output_type": "stream",
     "text": [
      "Epoch: 66, Loss: 0.25361970\n"
     ]
    },
    {
     "name": "stderr",
     "output_type": "stream",
     "text": [
      "c:\\Users\\goupi\\.conda\\envs\\torch_geometric\\lib\\site-packages\\numpy\\lib\\function_base.py:518: RuntimeWarning: Mean of empty slice.\n",
      "  avg = a.mean(axis, **keepdims_kw)\n",
      "c:\\Users\\goupi\\.conda\\envs\\torch_geometric\\lib\\site-packages\\numpy\\core\\_methods.py:190: RuntimeWarning: invalid value encountered in double_scalars\n",
      "  ret = ret.dtype.type(ret / rcount)\n",
      "C:\\Users\\goupi\\AppData\\Local\\Temp\\ipykernel_14868\\3785573072.py:7: FutureWarning: The frame.append method is deprecated and will be removed from pandas in a future version. Use pandas.concat instead.\n",
      "  training_history = training_history.append({'epoch': epoch, 'loss': loss, 'avg_output_vector': avg_output_vector, 'avg_label_vector': avg_label_vector, 'avg_correct': accuracy, 'precision': precision, 'recall': recall}, ignore_index=True)\n"
     ]
    },
    {
     "data": {
      "application/vnd.jupyter.widget-view+json": {
       "model_id": "f027998affc74de2aac4ff46388324b4",
       "version_major": 2,
       "version_minor": 0
      },
      "text/plain": [
       "Training:   0%|          | 0/1845 [00:00<?, ?batch/s]"
      ]
     },
     "metadata": {},
     "output_type": "display_data"
    },
    {
     "name": "stderr",
     "output_type": "stream",
     "text": [
      "C:\\Users\\goupi\\AppData\\Local\\Temp\\ipykernel_14868\\410524407.py:48: RuntimeWarning: invalid value encountered in divide\n",
      "  current_avg_output_vector = avg_output_vector / total_graphs_processed\n",
      "C:\\Users\\goupi\\AppData\\Local\\Temp\\ipykernel_14868\\410524407.py:49: RuntimeWarning: invalid value encountered in divide\n",
      "  current_avg_label_vector = avg_label_vector / total_graphs_processed\n"
     ]
    },
    {
     "name": "stdout",
     "output_type": "stream",
     "text": [
      "Epoch: 67, Loss: 0.25132131\n"
     ]
    },
    {
     "name": "stderr",
     "output_type": "stream",
     "text": [
      "c:\\Users\\goupi\\.conda\\envs\\torch_geometric\\lib\\site-packages\\numpy\\lib\\function_base.py:518: RuntimeWarning: Mean of empty slice.\n",
      "  avg = a.mean(axis, **keepdims_kw)\n",
      "c:\\Users\\goupi\\.conda\\envs\\torch_geometric\\lib\\site-packages\\numpy\\core\\_methods.py:190: RuntimeWarning: invalid value encountered in double_scalars\n",
      "  ret = ret.dtype.type(ret / rcount)\n",
      "C:\\Users\\goupi\\AppData\\Local\\Temp\\ipykernel_14868\\3785573072.py:7: FutureWarning: The frame.append method is deprecated and will be removed from pandas in a future version. Use pandas.concat instead.\n",
      "  training_history = training_history.append({'epoch': epoch, 'loss': loss, 'avg_output_vector': avg_output_vector, 'avg_label_vector': avg_label_vector, 'avg_correct': accuracy, 'precision': precision, 'recall': recall}, ignore_index=True)\n"
     ]
    },
    {
     "data": {
      "application/vnd.jupyter.widget-view+json": {
       "model_id": "01d0d36de2f64803bd3e1de535a7e2bf",
       "version_major": 2,
       "version_minor": 0
      },
      "text/plain": [
       "Training:   0%|          | 0/1845 [00:00<?, ?batch/s]"
      ]
     },
     "metadata": {},
     "output_type": "display_data"
    },
    {
     "name": "stderr",
     "output_type": "stream",
     "text": [
      "C:\\Users\\goupi\\AppData\\Local\\Temp\\ipykernel_14868\\410524407.py:48: RuntimeWarning: invalid value encountered in divide\n",
      "  current_avg_output_vector = avg_output_vector / total_graphs_processed\n",
      "C:\\Users\\goupi\\AppData\\Local\\Temp\\ipykernel_14868\\410524407.py:49: RuntimeWarning: invalid value encountered in divide\n",
      "  current_avg_label_vector = avg_label_vector / total_graphs_processed\n"
     ]
    },
    {
     "name": "stdout",
     "output_type": "stream",
     "text": [
      "Epoch: 68, Loss: 0.25228338\n"
     ]
    },
    {
     "name": "stderr",
     "output_type": "stream",
     "text": [
      "c:\\Users\\goupi\\.conda\\envs\\torch_geometric\\lib\\site-packages\\numpy\\lib\\function_base.py:518: RuntimeWarning: Mean of empty slice.\n",
      "  avg = a.mean(axis, **keepdims_kw)\n",
      "c:\\Users\\goupi\\.conda\\envs\\torch_geometric\\lib\\site-packages\\numpy\\core\\_methods.py:190: RuntimeWarning: invalid value encountered in double_scalars\n",
      "  ret = ret.dtype.type(ret / rcount)\n",
      "C:\\Users\\goupi\\AppData\\Local\\Temp\\ipykernel_14868\\3785573072.py:7: FutureWarning: The frame.append method is deprecated and will be removed from pandas in a future version. Use pandas.concat instead.\n",
      "  training_history = training_history.append({'epoch': epoch, 'loss': loss, 'avg_output_vector': avg_output_vector, 'avg_label_vector': avg_label_vector, 'avg_correct': accuracy, 'precision': precision, 'recall': recall}, ignore_index=True)\n"
     ]
    },
    {
     "data": {
      "application/vnd.jupyter.widget-view+json": {
       "model_id": "281f5db745bc45299a4e49be89390aa8",
       "version_major": 2,
       "version_minor": 0
      },
      "text/plain": [
       "Training:   0%|          | 0/1845 [00:00<?, ?batch/s]"
      ]
     },
     "metadata": {},
     "output_type": "display_data"
    },
    {
     "name": "stderr",
     "output_type": "stream",
     "text": [
      "C:\\Users\\goupi\\AppData\\Local\\Temp\\ipykernel_14868\\410524407.py:48: RuntimeWarning: invalid value encountered in divide\n",
      "  current_avg_output_vector = avg_output_vector / total_graphs_processed\n",
      "C:\\Users\\goupi\\AppData\\Local\\Temp\\ipykernel_14868\\410524407.py:49: RuntimeWarning: invalid value encountered in divide\n",
      "  current_avg_label_vector = avg_label_vector / total_graphs_processed\n"
     ]
    },
    {
     "name": "stdout",
     "output_type": "stream",
     "text": [
      "Epoch: 69, Loss: 0.25068423\n"
     ]
    },
    {
     "name": "stderr",
     "output_type": "stream",
     "text": [
      "c:\\Users\\goupi\\.conda\\envs\\torch_geometric\\lib\\site-packages\\numpy\\lib\\function_base.py:518: RuntimeWarning: Mean of empty slice.\n",
      "  avg = a.mean(axis, **keepdims_kw)\n",
      "c:\\Users\\goupi\\.conda\\envs\\torch_geometric\\lib\\site-packages\\numpy\\core\\_methods.py:190: RuntimeWarning: invalid value encountered in double_scalars\n",
      "  ret = ret.dtype.type(ret / rcount)\n",
      "C:\\Users\\goupi\\AppData\\Local\\Temp\\ipykernel_14868\\3785573072.py:7: FutureWarning: The frame.append method is deprecated and will be removed from pandas in a future version. Use pandas.concat instead.\n",
      "  training_history = training_history.append({'epoch': epoch, 'loss': loss, 'avg_output_vector': avg_output_vector, 'avg_label_vector': avg_label_vector, 'avg_correct': accuracy, 'precision': precision, 'recall': recall}, ignore_index=True)\n"
     ]
    },
    {
     "data": {
      "application/vnd.jupyter.widget-view+json": {
       "model_id": "ace52bf96bf441309a3d28ea7e66da20",
       "version_major": 2,
       "version_minor": 0
      },
      "text/plain": [
       "Training:   0%|          | 0/1845 [00:00<?, ?batch/s]"
      ]
     },
     "metadata": {},
     "output_type": "display_data"
    },
    {
     "name": "stderr",
     "output_type": "stream",
     "text": [
      "C:\\Users\\goupi\\AppData\\Local\\Temp\\ipykernel_14868\\410524407.py:48: RuntimeWarning: invalid value encountered in divide\n",
      "  current_avg_output_vector = avg_output_vector / total_graphs_processed\n",
      "C:\\Users\\goupi\\AppData\\Local\\Temp\\ipykernel_14868\\410524407.py:49: RuntimeWarning: invalid value encountered in divide\n",
      "  current_avg_label_vector = avg_label_vector / total_graphs_processed\n"
     ]
    },
    {
     "name": "stdout",
     "output_type": "stream",
     "text": [
      "Epoch: 70, Loss: 0.25018033\n"
     ]
    },
    {
     "name": "stderr",
     "output_type": "stream",
     "text": [
      "c:\\Users\\goupi\\.conda\\envs\\torch_geometric\\lib\\site-packages\\numpy\\lib\\function_base.py:518: RuntimeWarning: Mean of empty slice.\n",
      "  avg = a.mean(axis, **keepdims_kw)\n",
      "c:\\Users\\goupi\\.conda\\envs\\torch_geometric\\lib\\site-packages\\numpy\\core\\_methods.py:190: RuntimeWarning: invalid value encountered in double_scalars\n",
      "  ret = ret.dtype.type(ret / rcount)\n",
      "C:\\Users\\goupi\\AppData\\Local\\Temp\\ipykernel_14868\\3785573072.py:7: FutureWarning: The frame.append method is deprecated and will be removed from pandas in a future version. Use pandas.concat instead.\n",
      "  training_history = training_history.append({'epoch': epoch, 'loss': loss, 'avg_output_vector': avg_output_vector, 'avg_label_vector': avg_label_vector, 'avg_correct': accuracy, 'precision': precision, 'recall': recall}, ignore_index=True)\n"
     ]
    },
    {
     "data": {
      "application/vnd.jupyter.widget-view+json": {
       "model_id": "78797c98890b48af8cc3ebf40eb8f5ff",
       "version_major": 2,
       "version_minor": 0
      },
      "text/plain": [
       "Training:   0%|          | 0/1845 [00:00<?, ?batch/s]"
      ]
     },
     "metadata": {},
     "output_type": "display_data"
    },
    {
     "name": "stderr",
     "output_type": "stream",
     "text": [
      "C:\\Users\\goupi\\AppData\\Local\\Temp\\ipykernel_14868\\410524407.py:48: RuntimeWarning: invalid value encountered in divide\n",
      "  current_avg_output_vector = avg_output_vector / total_graphs_processed\n",
      "C:\\Users\\goupi\\AppData\\Local\\Temp\\ipykernel_14868\\410524407.py:49: RuntimeWarning: invalid value encountered in divide\n",
      "  current_avg_label_vector = avg_label_vector / total_graphs_processed\n"
     ]
    },
    {
     "name": "stdout",
     "output_type": "stream",
     "text": [
      "Epoch: 71, Loss: 0.25030678\n"
     ]
    },
    {
     "name": "stderr",
     "output_type": "stream",
     "text": [
      "c:\\Users\\goupi\\.conda\\envs\\torch_geometric\\lib\\site-packages\\numpy\\lib\\function_base.py:518: RuntimeWarning: Mean of empty slice.\n",
      "  avg = a.mean(axis, **keepdims_kw)\n",
      "c:\\Users\\goupi\\.conda\\envs\\torch_geometric\\lib\\site-packages\\numpy\\core\\_methods.py:190: RuntimeWarning: invalid value encountered in double_scalars\n",
      "  ret = ret.dtype.type(ret / rcount)\n",
      "C:\\Users\\goupi\\AppData\\Local\\Temp\\ipykernel_14868\\3785573072.py:7: FutureWarning: The frame.append method is deprecated and will be removed from pandas in a future version. Use pandas.concat instead.\n",
      "  training_history = training_history.append({'epoch': epoch, 'loss': loss, 'avg_output_vector': avg_output_vector, 'avg_label_vector': avg_label_vector, 'avg_correct': accuracy, 'precision': precision, 'recall': recall}, ignore_index=True)\n"
     ]
    },
    {
     "data": {
      "application/vnd.jupyter.widget-view+json": {
       "model_id": "294e3dfefd6c4d298df3c706c4536bac",
       "version_major": 2,
       "version_minor": 0
      },
      "text/plain": [
       "Training:   0%|          | 0/1845 [00:00<?, ?batch/s]"
      ]
     },
     "metadata": {},
     "output_type": "display_data"
    },
    {
     "name": "stderr",
     "output_type": "stream",
     "text": [
      "C:\\Users\\goupi\\AppData\\Local\\Temp\\ipykernel_14868\\410524407.py:48: RuntimeWarning: invalid value encountered in divide\n",
      "  current_avg_output_vector = avg_output_vector / total_graphs_processed\n",
      "C:\\Users\\goupi\\AppData\\Local\\Temp\\ipykernel_14868\\410524407.py:49: RuntimeWarning: invalid value encountered in divide\n",
      "  current_avg_label_vector = avg_label_vector / total_graphs_processed\n"
     ]
    },
    {
     "name": "stdout",
     "output_type": "stream",
     "text": [
      "Epoch: 72, Loss: 0.24788409\n"
     ]
    },
    {
     "name": "stderr",
     "output_type": "stream",
     "text": [
      "c:\\Users\\goupi\\.conda\\envs\\torch_geometric\\lib\\site-packages\\numpy\\lib\\function_base.py:518: RuntimeWarning: Mean of empty slice.\n",
      "  avg = a.mean(axis, **keepdims_kw)\n",
      "c:\\Users\\goupi\\.conda\\envs\\torch_geometric\\lib\\site-packages\\numpy\\core\\_methods.py:190: RuntimeWarning: invalid value encountered in double_scalars\n",
      "  ret = ret.dtype.type(ret / rcount)\n",
      "C:\\Users\\goupi\\AppData\\Local\\Temp\\ipykernel_14868\\3785573072.py:7: FutureWarning: The frame.append method is deprecated and will be removed from pandas in a future version. Use pandas.concat instead.\n",
      "  training_history = training_history.append({'epoch': epoch, 'loss': loss, 'avg_output_vector': avg_output_vector, 'avg_label_vector': avg_label_vector, 'avg_correct': accuracy, 'precision': precision, 'recall': recall}, ignore_index=True)\n"
     ]
    },
    {
     "data": {
      "application/vnd.jupyter.widget-view+json": {
       "model_id": "bee4f5dcbd4948cdbb6be98b6fe53482",
       "version_major": 2,
       "version_minor": 0
      },
      "text/plain": [
       "Training:   0%|          | 0/1845 [00:00<?, ?batch/s]"
      ]
     },
     "metadata": {},
     "output_type": "display_data"
    },
    {
     "name": "stderr",
     "output_type": "stream",
     "text": [
      "C:\\Users\\goupi\\AppData\\Local\\Temp\\ipykernel_14868\\410524407.py:48: RuntimeWarning: invalid value encountered in divide\n",
      "  current_avg_output_vector = avg_output_vector / total_graphs_processed\n",
      "C:\\Users\\goupi\\AppData\\Local\\Temp\\ipykernel_14868\\410524407.py:49: RuntimeWarning: invalid value encountered in divide\n",
      "  current_avg_label_vector = avg_label_vector / total_graphs_processed\n"
     ]
    },
    {
     "name": "stdout",
     "output_type": "stream",
     "text": [
      "Epoch: 73, Loss: 0.25213866\n"
     ]
    },
    {
     "name": "stderr",
     "output_type": "stream",
     "text": [
      "c:\\Users\\goupi\\.conda\\envs\\torch_geometric\\lib\\site-packages\\numpy\\lib\\function_base.py:518: RuntimeWarning: Mean of empty slice.\n",
      "  avg = a.mean(axis, **keepdims_kw)\n",
      "c:\\Users\\goupi\\.conda\\envs\\torch_geometric\\lib\\site-packages\\numpy\\core\\_methods.py:190: RuntimeWarning: invalid value encountered in double_scalars\n",
      "  ret = ret.dtype.type(ret / rcount)\n",
      "C:\\Users\\goupi\\AppData\\Local\\Temp\\ipykernel_14868\\3785573072.py:7: FutureWarning: The frame.append method is deprecated and will be removed from pandas in a future version. Use pandas.concat instead.\n",
      "  training_history = training_history.append({'epoch': epoch, 'loss': loss, 'avg_output_vector': avg_output_vector, 'avg_label_vector': avg_label_vector, 'avg_correct': accuracy, 'precision': precision, 'recall': recall}, ignore_index=True)\n"
     ]
    },
    {
     "data": {
      "application/vnd.jupyter.widget-view+json": {
       "model_id": "67413cb1e1594726ba31d66ff2bad5a8",
       "version_major": 2,
       "version_minor": 0
      },
      "text/plain": [
       "Training:   0%|          | 0/1845 [00:00<?, ?batch/s]"
      ]
     },
     "metadata": {},
     "output_type": "display_data"
    },
    {
     "name": "stderr",
     "output_type": "stream",
     "text": [
      "C:\\Users\\goupi\\AppData\\Local\\Temp\\ipykernel_14868\\410524407.py:48: RuntimeWarning: invalid value encountered in divide\n",
      "  current_avg_output_vector = avg_output_vector / total_graphs_processed\n",
      "C:\\Users\\goupi\\AppData\\Local\\Temp\\ipykernel_14868\\410524407.py:49: RuntimeWarning: invalid value encountered in divide\n",
      "  current_avg_label_vector = avg_label_vector / total_graphs_processed\n"
     ]
    },
    {
     "name": "stdout",
     "output_type": "stream",
     "text": [
      "Epoch: 74, Loss: 0.25159302\n"
     ]
    },
    {
     "name": "stderr",
     "output_type": "stream",
     "text": [
      "c:\\Users\\goupi\\.conda\\envs\\torch_geometric\\lib\\site-packages\\numpy\\lib\\function_base.py:518: RuntimeWarning: Mean of empty slice.\n",
      "  avg = a.mean(axis, **keepdims_kw)\n",
      "c:\\Users\\goupi\\.conda\\envs\\torch_geometric\\lib\\site-packages\\numpy\\core\\_methods.py:190: RuntimeWarning: invalid value encountered in double_scalars\n",
      "  ret = ret.dtype.type(ret / rcount)\n",
      "C:\\Users\\goupi\\AppData\\Local\\Temp\\ipykernel_14868\\3785573072.py:7: FutureWarning: The frame.append method is deprecated and will be removed from pandas in a future version. Use pandas.concat instead.\n",
      "  training_history = training_history.append({'epoch': epoch, 'loss': loss, 'avg_output_vector': avg_output_vector, 'avg_label_vector': avg_label_vector, 'avg_correct': accuracy, 'precision': precision, 'recall': recall}, ignore_index=True)\n"
     ]
    },
    {
     "data": {
      "application/vnd.jupyter.widget-view+json": {
       "model_id": "83a8151ea7e546f7a2f119cb44310357",
       "version_major": 2,
       "version_minor": 0
      },
      "text/plain": [
       "Training:   0%|          | 0/1845 [00:00<?, ?batch/s]"
      ]
     },
     "metadata": {},
     "output_type": "display_data"
    },
    {
     "name": "stderr",
     "output_type": "stream",
     "text": [
      "C:\\Users\\goupi\\AppData\\Local\\Temp\\ipykernel_14868\\410524407.py:48: RuntimeWarning: invalid value encountered in divide\n",
      "  current_avg_output_vector = avg_output_vector / total_graphs_processed\n",
      "C:\\Users\\goupi\\AppData\\Local\\Temp\\ipykernel_14868\\410524407.py:49: RuntimeWarning: invalid value encountered in divide\n",
      "  current_avg_label_vector = avg_label_vector / total_graphs_processed\n"
     ]
    },
    {
     "name": "stdout",
     "output_type": "stream",
     "text": [
      "Epoch: 75, Loss: 0.24958175\n"
     ]
    },
    {
     "name": "stderr",
     "output_type": "stream",
     "text": [
      "c:\\Users\\goupi\\.conda\\envs\\torch_geometric\\lib\\site-packages\\numpy\\lib\\function_base.py:518: RuntimeWarning: Mean of empty slice.\n",
      "  avg = a.mean(axis, **keepdims_kw)\n",
      "c:\\Users\\goupi\\.conda\\envs\\torch_geometric\\lib\\site-packages\\numpy\\core\\_methods.py:190: RuntimeWarning: invalid value encountered in double_scalars\n",
      "  ret = ret.dtype.type(ret / rcount)\n",
      "C:\\Users\\goupi\\AppData\\Local\\Temp\\ipykernel_14868\\3785573072.py:7: FutureWarning: The frame.append method is deprecated and will be removed from pandas in a future version. Use pandas.concat instead.\n",
      "  training_history = training_history.append({'epoch': epoch, 'loss': loss, 'avg_output_vector': avg_output_vector, 'avg_label_vector': avg_label_vector, 'avg_correct': accuracy, 'precision': precision, 'recall': recall}, ignore_index=True)\n"
     ]
    },
    {
     "data": {
      "application/vnd.jupyter.widget-view+json": {
       "model_id": "8d396ae472a24ff7b00ec46ae7795e69",
       "version_major": 2,
       "version_minor": 0
      },
      "text/plain": [
       "Training:   0%|          | 0/1845 [00:00<?, ?batch/s]"
      ]
     },
     "metadata": {},
     "output_type": "display_data"
    },
    {
     "name": "stderr",
     "output_type": "stream",
     "text": [
      "C:\\Users\\goupi\\AppData\\Local\\Temp\\ipykernel_14868\\410524407.py:48: RuntimeWarning: invalid value encountered in divide\n",
      "  current_avg_output_vector = avg_output_vector / total_graphs_processed\n",
      "C:\\Users\\goupi\\AppData\\Local\\Temp\\ipykernel_14868\\410524407.py:49: RuntimeWarning: invalid value encountered in divide\n",
      "  current_avg_label_vector = avg_label_vector / total_graphs_processed\n"
     ]
    },
    {
     "name": "stdout",
     "output_type": "stream",
     "text": [
      "Epoch: 76, Loss: 0.25230773\n"
     ]
    },
    {
     "name": "stderr",
     "output_type": "stream",
     "text": [
      "c:\\Users\\goupi\\.conda\\envs\\torch_geometric\\lib\\site-packages\\numpy\\lib\\function_base.py:518: RuntimeWarning: Mean of empty slice.\n",
      "  avg = a.mean(axis, **keepdims_kw)\n",
      "c:\\Users\\goupi\\.conda\\envs\\torch_geometric\\lib\\site-packages\\numpy\\core\\_methods.py:190: RuntimeWarning: invalid value encountered in double_scalars\n",
      "  ret = ret.dtype.type(ret / rcount)\n",
      "C:\\Users\\goupi\\AppData\\Local\\Temp\\ipykernel_14868\\3785573072.py:7: FutureWarning: The frame.append method is deprecated and will be removed from pandas in a future version. Use pandas.concat instead.\n",
      "  training_history = training_history.append({'epoch': epoch, 'loss': loss, 'avg_output_vector': avg_output_vector, 'avg_label_vector': avg_label_vector, 'avg_correct': accuracy, 'precision': precision, 'recall': recall}, ignore_index=True)\n"
     ]
    },
    {
     "data": {
      "application/vnd.jupyter.widget-view+json": {
       "model_id": "cf3129620d764a538baa48c3b2bc0651",
       "version_major": 2,
       "version_minor": 0
      },
      "text/plain": [
       "Training:   0%|          | 0/1845 [00:00<?, ?batch/s]"
      ]
     },
     "metadata": {},
     "output_type": "display_data"
    },
    {
     "name": "stderr",
     "output_type": "stream",
     "text": [
      "C:\\Users\\goupi\\AppData\\Local\\Temp\\ipykernel_14868\\410524407.py:48: RuntimeWarning: invalid value encountered in divide\n",
      "  current_avg_output_vector = avg_output_vector / total_graphs_processed\n",
      "C:\\Users\\goupi\\AppData\\Local\\Temp\\ipykernel_14868\\410524407.py:49: RuntimeWarning: invalid value encountered in divide\n",
      "  current_avg_label_vector = avg_label_vector / total_graphs_processed\n"
     ]
    },
    {
     "name": "stdout",
     "output_type": "stream",
     "text": [
      "Epoch: 77, Loss: 0.24807505\n"
     ]
    },
    {
     "name": "stderr",
     "output_type": "stream",
     "text": [
      "c:\\Users\\goupi\\.conda\\envs\\torch_geometric\\lib\\site-packages\\numpy\\lib\\function_base.py:518: RuntimeWarning: Mean of empty slice.\n",
      "  avg = a.mean(axis, **keepdims_kw)\n",
      "c:\\Users\\goupi\\.conda\\envs\\torch_geometric\\lib\\site-packages\\numpy\\core\\_methods.py:190: RuntimeWarning: invalid value encountered in double_scalars\n",
      "  ret = ret.dtype.type(ret / rcount)\n",
      "C:\\Users\\goupi\\AppData\\Local\\Temp\\ipykernel_14868\\3785573072.py:7: FutureWarning: The frame.append method is deprecated and will be removed from pandas in a future version. Use pandas.concat instead.\n",
      "  training_history = training_history.append({'epoch': epoch, 'loss': loss, 'avg_output_vector': avg_output_vector, 'avg_label_vector': avg_label_vector, 'avg_correct': accuracy, 'precision': precision, 'recall': recall}, ignore_index=True)\n"
     ]
    },
    {
     "data": {
      "application/vnd.jupyter.widget-view+json": {
       "model_id": "ce4b5b9795804c8ab24dd928e02dfb28",
       "version_major": 2,
       "version_minor": 0
      },
      "text/plain": [
       "Training:   0%|          | 0/1845 [00:00<?, ?batch/s]"
      ]
     },
     "metadata": {},
     "output_type": "display_data"
    },
    {
     "name": "stderr",
     "output_type": "stream",
     "text": [
      "C:\\Users\\goupi\\AppData\\Local\\Temp\\ipykernel_14868\\410524407.py:48: RuntimeWarning: invalid value encountered in divide\n",
      "  current_avg_output_vector = avg_output_vector / total_graphs_processed\n",
      "C:\\Users\\goupi\\AppData\\Local\\Temp\\ipykernel_14868\\410524407.py:49: RuntimeWarning: invalid value encountered in divide\n",
      "  current_avg_label_vector = avg_label_vector / total_graphs_processed\n"
     ]
    },
    {
     "name": "stdout",
     "output_type": "stream",
     "text": [
      "Epoch: 78, Loss: 0.25106010\n"
     ]
    },
    {
     "name": "stderr",
     "output_type": "stream",
     "text": [
      "c:\\Users\\goupi\\.conda\\envs\\torch_geometric\\lib\\site-packages\\numpy\\lib\\function_base.py:518: RuntimeWarning: Mean of empty slice.\n",
      "  avg = a.mean(axis, **keepdims_kw)\n",
      "c:\\Users\\goupi\\.conda\\envs\\torch_geometric\\lib\\site-packages\\numpy\\core\\_methods.py:190: RuntimeWarning: invalid value encountered in double_scalars\n",
      "  ret = ret.dtype.type(ret / rcount)\n",
      "C:\\Users\\goupi\\AppData\\Local\\Temp\\ipykernel_14868\\3785573072.py:7: FutureWarning: The frame.append method is deprecated and will be removed from pandas in a future version. Use pandas.concat instead.\n",
      "  training_history = training_history.append({'epoch': epoch, 'loss': loss, 'avg_output_vector': avg_output_vector, 'avg_label_vector': avg_label_vector, 'avg_correct': accuracy, 'precision': precision, 'recall': recall}, ignore_index=True)\n"
     ]
    },
    {
     "data": {
      "application/vnd.jupyter.widget-view+json": {
       "model_id": "4e9817c4314c451eb98ea8d72a8b1011",
       "version_major": 2,
       "version_minor": 0
      },
      "text/plain": [
       "Training:   0%|          | 0/1845 [00:00<?, ?batch/s]"
      ]
     },
     "metadata": {},
     "output_type": "display_data"
    },
    {
     "name": "stderr",
     "output_type": "stream",
     "text": [
      "C:\\Users\\goupi\\AppData\\Local\\Temp\\ipykernel_14868\\410524407.py:48: RuntimeWarning: invalid value encountered in divide\n",
      "  current_avg_output_vector = avg_output_vector / total_graphs_processed\n",
      "C:\\Users\\goupi\\AppData\\Local\\Temp\\ipykernel_14868\\410524407.py:49: RuntimeWarning: invalid value encountered in divide\n",
      "  current_avg_label_vector = avg_label_vector / total_graphs_processed\n"
     ]
    },
    {
     "name": "stdout",
     "output_type": "stream",
     "text": [
      "Epoch: 79, Loss: 0.25213369\n"
     ]
    },
    {
     "name": "stderr",
     "output_type": "stream",
     "text": [
      "c:\\Users\\goupi\\.conda\\envs\\torch_geometric\\lib\\site-packages\\numpy\\lib\\function_base.py:518: RuntimeWarning: Mean of empty slice.\n",
      "  avg = a.mean(axis, **keepdims_kw)\n",
      "c:\\Users\\goupi\\.conda\\envs\\torch_geometric\\lib\\site-packages\\numpy\\core\\_methods.py:190: RuntimeWarning: invalid value encountered in double_scalars\n",
      "  ret = ret.dtype.type(ret / rcount)\n",
      "C:\\Users\\goupi\\AppData\\Local\\Temp\\ipykernel_14868\\3785573072.py:7: FutureWarning: The frame.append method is deprecated and will be removed from pandas in a future version. Use pandas.concat instead.\n",
      "  training_history = training_history.append({'epoch': epoch, 'loss': loss, 'avg_output_vector': avg_output_vector, 'avg_label_vector': avg_label_vector, 'avg_correct': accuracy, 'precision': precision, 'recall': recall}, ignore_index=True)\n"
     ]
    },
    {
     "data": {
      "application/vnd.jupyter.widget-view+json": {
       "model_id": "d98dc7704a4e4163a0edfd1849c336aa",
       "version_major": 2,
       "version_minor": 0
      },
      "text/plain": [
       "Training:   0%|          | 0/1845 [00:00<?, ?batch/s]"
      ]
     },
     "metadata": {},
     "output_type": "display_data"
    },
    {
     "name": "stderr",
     "output_type": "stream",
     "text": [
      "C:\\Users\\goupi\\AppData\\Local\\Temp\\ipykernel_14868\\410524407.py:48: RuntimeWarning: invalid value encountered in divide\n",
      "  current_avg_output_vector = avg_output_vector / total_graphs_processed\n",
      "C:\\Users\\goupi\\AppData\\Local\\Temp\\ipykernel_14868\\410524407.py:49: RuntimeWarning: invalid value encountered in divide\n",
      "  current_avg_label_vector = avg_label_vector / total_graphs_processed\n"
     ]
    },
    {
     "name": "stdout",
     "output_type": "stream",
     "text": [
      "Epoch: 80, Loss: 0.25166823\n"
     ]
    },
    {
     "name": "stderr",
     "output_type": "stream",
     "text": [
      "c:\\Users\\goupi\\.conda\\envs\\torch_geometric\\lib\\site-packages\\numpy\\lib\\function_base.py:518: RuntimeWarning: Mean of empty slice.\n",
      "  avg = a.mean(axis, **keepdims_kw)\n",
      "c:\\Users\\goupi\\.conda\\envs\\torch_geometric\\lib\\site-packages\\numpy\\core\\_methods.py:190: RuntimeWarning: invalid value encountered in double_scalars\n",
      "  ret = ret.dtype.type(ret / rcount)\n",
      "C:\\Users\\goupi\\AppData\\Local\\Temp\\ipykernel_14868\\3785573072.py:7: FutureWarning: The frame.append method is deprecated and will be removed from pandas in a future version. Use pandas.concat instead.\n",
      "  training_history = training_history.append({'epoch': epoch, 'loss': loss, 'avg_output_vector': avg_output_vector, 'avg_label_vector': avg_label_vector, 'avg_correct': accuracy, 'precision': precision, 'recall': recall}, ignore_index=True)\n"
     ]
    },
    {
     "data": {
      "application/vnd.jupyter.widget-view+json": {
       "model_id": "159ee7ef7fbf4eae99c6443e5648e873",
       "version_major": 2,
       "version_minor": 0
      },
      "text/plain": [
       "Training:   0%|          | 0/1845 [00:00<?, ?batch/s]"
      ]
     },
     "metadata": {},
     "output_type": "display_data"
    },
    {
     "name": "stderr",
     "output_type": "stream",
     "text": [
      "C:\\Users\\goupi\\AppData\\Local\\Temp\\ipykernel_14868\\410524407.py:48: RuntimeWarning: invalid value encountered in divide\n",
      "  current_avg_output_vector = avg_output_vector / total_graphs_processed\n",
      "C:\\Users\\goupi\\AppData\\Local\\Temp\\ipykernel_14868\\410524407.py:49: RuntimeWarning: invalid value encountered in divide\n",
      "  current_avg_label_vector = avg_label_vector / total_graphs_processed\n"
     ]
    },
    {
     "name": "stdout",
     "output_type": "stream",
     "text": [
      "Epoch: 81, Loss: 0.24919793\n"
     ]
    },
    {
     "name": "stderr",
     "output_type": "stream",
     "text": [
      "c:\\Users\\goupi\\.conda\\envs\\torch_geometric\\lib\\site-packages\\numpy\\lib\\function_base.py:518: RuntimeWarning: Mean of empty slice.\n",
      "  avg = a.mean(axis, **keepdims_kw)\n",
      "c:\\Users\\goupi\\.conda\\envs\\torch_geometric\\lib\\site-packages\\numpy\\core\\_methods.py:190: RuntimeWarning: invalid value encountered in double_scalars\n",
      "  ret = ret.dtype.type(ret / rcount)\n",
      "C:\\Users\\goupi\\AppData\\Local\\Temp\\ipykernel_14868\\3785573072.py:7: FutureWarning: The frame.append method is deprecated and will be removed from pandas in a future version. Use pandas.concat instead.\n",
      "  training_history = training_history.append({'epoch': epoch, 'loss': loss, 'avg_output_vector': avg_output_vector, 'avg_label_vector': avg_label_vector, 'avg_correct': accuracy, 'precision': precision, 'recall': recall}, ignore_index=True)\n"
     ]
    },
    {
     "data": {
      "application/vnd.jupyter.widget-view+json": {
       "model_id": "a1bdb4e5c2c64a83bf451e94d0527ea3",
       "version_major": 2,
       "version_minor": 0
      },
      "text/plain": [
       "Training:   0%|          | 0/1845 [00:00<?, ?batch/s]"
      ]
     },
     "metadata": {},
     "output_type": "display_data"
    },
    {
     "name": "stderr",
     "output_type": "stream",
     "text": [
      "C:\\Users\\goupi\\AppData\\Local\\Temp\\ipykernel_14868\\410524407.py:48: RuntimeWarning: invalid value encountered in divide\n",
      "  current_avg_output_vector = avg_output_vector / total_graphs_processed\n",
      "C:\\Users\\goupi\\AppData\\Local\\Temp\\ipykernel_14868\\410524407.py:49: RuntimeWarning: invalid value encountered in divide\n",
      "  current_avg_label_vector = avg_label_vector / total_graphs_processed\n"
     ]
    },
    {
     "name": "stdout",
     "output_type": "stream",
     "text": [
      "Epoch: 82, Loss: 0.25120498\n"
     ]
    },
    {
     "name": "stderr",
     "output_type": "stream",
     "text": [
      "c:\\Users\\goupi\\.conda\\envs\\torch_geometric\\lib\\site-packages\\numpy\\lib\\function_base.py:518: RuntimeWarning: Mean of empty slice.\n",
      "  avg = a.mean(axis, **keepdims_kw)\n",
      "c:\\Users\\goupi\\.conda\\envs\\torch_geometric\\lib\\site-packages\\numpy\\core\\_methods.py:190: RuntimeWarning: invalid value encountered in double_scalars\n",
      "  ret = ret.dtype.type(ret / rcount)\n",
      "C:\\Users\\goupi\\AppData\\Local\\Temp\\ipykernel_14868\\3785573072.py:7: FutureWarning: The frame.append method is deprecated and will be removed from pandas in a future version. Use pandas.concat instead.\n",
      "  training_history = training_history.append({'epoch': epoch, 'loss': loss, 'avg_output_vector': avg_output_vector, 'avg_label_vector': avg_label_vector, 'avg_correct': accuracy, 'precision': precision, 'recall': recall}, ignore_index=True)\n"
     ]
    },
    {
     "data": {
      "application/vnd.jupyter.widget-view+json": {
       "model_id": "5ca4a698ce414f2290f19bd5ba14a4ac",
       "version_major": 2,
       "version_minor": 0
      },
      "text/plain": [
       "Training:   0%|          | 0/1845 [00:00<?, ?batch/s]"
      ]
     },
     "metadata": {},
     "output_type": "display_data"
    },
    {
     "name": "stderr",
     "output_type": "stream",
     "text": [
      "C:\\Users\\goupi\\AppData\\Local\\Temp\\ipykernel_14868\\410524407.py:48: RuntimeWarning: invalid value encountered in divide\n",
      "  current_avg_output_vector = avg_output_vector / total_graphs_processed\n",
      "C:\\Users\\goupi\\AppData\\Local\\Temp\\ipykernel_14868\\410524407.py:49: RuntimeWarning: invalid value encountered in divide\n",
      "  current_avg_label_vector = avg_label_vector / total_graphs_processed\n"
     ]
    },
    {
     "name": "stdout",
     "output_type": "stream",
     "text": [
      "Epoch: 83, Loss: 0.25011669\n"
     ]
    },
    {
     "name": "stderr",
     "output_type": "stream",
     "text": [
      "c:\\Users\\goupi\\.conda\\envs\\torch_geometric\\lib\\site-packages\\numpy\\lib\\function_base.py:518: RuntimeWarning: Mean of empty slice.\n",
      "  avg = a.mean(axis, **keepdims_kw)\n",
      "c:\\Users\\goupi\\.conda\\envs\\torch_geometric\\lib\\site-packages\\numpy\\core\\_methods.py:190: RuntimeWarning: invalid value encountered in double_scalars\n",
      "  ret = ret.dtype.type(ret / rcount)\n",
      "C:\\Users\\goupi\\AppData\\Local\\Temp\\ipykernel_14868\\3785573072.py:7: FutureWarning: The frame.append method is deprecated and will be removed from pandas in a future version. Use pandas.concat instead.\n",
      "  training_history = training_history.append({'epoch': epoch, 'loss': loss, 'avg_output_vector': avg_output_vector, 'avg_label_vector': avg_label_vector, 'avg_correct': accuracy, 'precision': precision, 'recall': recall}, ignore_index=True)\n"
     ]
    },
    {
     "data": {
      "application/vnd.jupyter.widget-view+json": {
       "model_id": "fef259a6dd0a42088d05846bf4bab8f1",
       "version_major": 2,
       "version_minor": 0
      },
      "text/plain": [
       "Training:   0%|          | 0/1845 [00:00<?, ?batch/s]"
      ]
     },
     "metadata": {},
     "output_type": "display_data"
    },
    {
     "name": "stderr",
     "output_type": "stream",
     "text": [
      "C:\\Users\\goupi\\AppData\\Local\\Temp\\ipykernel_14868\\410524407.py:48: RuntimeWarning: invalid value encountered in divide\n",
      "  current_avg_output_vector = avg_output_vector / total_graphs_processed\n",
      "C:\\Users\\goupi\\AppData\\Local\\Temp\\ipykernel_14868\\410524407.py:49: RuntimeWarning: invalid value encountered in divide\n",
      "  current_avg_label_vector = avg_label_vector / total_graphs_processed\n"
     ]
    },
    {
     "name": "stdout",
     "output_type": "stream",
     "text": [
      "Epoch: 84, Loss: 0.24764285\n"
     ]
    },
    {
     "name": "stderr",
     "output_type": "stream",
     "text": [
      "c:\\Users\\goupi\\.conda\\envs\\torch_geometric\\lib\\site-packages\\numpy\\lib\\function_base.py:518: RuntimeWarning: Mean of empty slice.\n",
      "  avg = a.mean(axis, **keepdims_kw)\n",
      "c:\\Users\\goupi\\.conda\\envs\\torch_geometric\\lib\\site-packages\\numpy\\core\\_methods.py:190: RuntimeWarning: invalid value encountered in double_scalars\n",
      "  ret = ret.dtype.type(ret / rcount)\n",
      "C:\\Users\\goupi\\AppData\\Local\\Temp\\ipykernel_14868\\3785573072.py:7: FutureWarning: The frame.append method is deprecated and will be removed from pandas in a future version. Use pandas.concat instead.\n",
      "  training_history = training_history.append({'epoch': epoch, 'loss': loss, 'avg_output_vector': avg_output_vector, 'avg_label_vector': avg_label_vector, 'avg_correct': accuracy, 'precision': precision, 'recall': recall}, ignore_index=True)\n"
     ]
    },
    {
     "data": {
      "application/vnd.jupyter.widget-view+json": {
       "model_id": "df9c242e13554576966b1dfd6b99682d",
       "version_major": 2,
       "version_minor": 0
      },
      "text/plain": [
       "Training:   0%|          | 0/1845 [00:00<?, ?batch/s]"
      ]
     },
     "metadata": {},
     "output_type": "display_data"
    },
    {
     "name": "stderr",
     "output_type": "stream",
     "text": [
      "C:\\Users\\goupi\\AppData\\Local\\Temp\\ipykernel_14868\\410524407.py:48: RuntimeWarning: invalid value encountered in divide\n",
      "  current_avg_output_vector = avg_output_vector / total_graphs_processed\n",
      "C:\\Users\\goupi\\AppData\\Local\\Temp\\ipykernel_14868\\410524407.py:49: RuntimeWarning: invalid value encountered in divide\n",
      "  current_avg_label_vector = avg_label_vector / total_graphs_processed\n"
     ]
    },
    {
     "name": "stdout",
     "output_type": "stream",
     "text": [
      "Epoch: 85, Loss: 0.24937739\n"
     ]
    },
    {
     "name": "stderr",
     "output_type": "stream",
     "text": [
      "c:\\Users\\goupi\\.conda\\envs\\torch_geometric\\lib\\site-packages\\numpy\\lib\\function_base.py:518: RuntimeWarning: Mean of empty slice.\n",
      "  avg = a.mean(axis, **keepdims_kw)\n",
      "c:\\Users\\goupi\\.conda\\envs\\torch_geometric\\lib\\site-packages\\numpy\\core\\_methods.py:190: RuntimeWarning: invalid value encountered in double_scalars\n",
      "  ret = ret.dtype.type(ret / rcount)\n",
      "C:\\Users\\goupi\\AppData\\Local\\Temp\\ipykernel_14868\\3785573072.py:7: FutureWarning: The frame.append method is deprecated and will be removed from pandas in a future version. Use pandas.concat instead.\n",
      "  training_history = training_history.append({'epoch': epoch, 'loss': loss, 'avg_output_vector': avg_output_vector, 'avg_label_vector': avg_label_vector, 'avg_correct': accuracy, 'precision': precision, 'recall': recall}, ignore_index=True)\n"
     ]
    },
    {
     "data": {
      "application/vnd.jupyter.widget-view+json": {
       "model_id": "5386ff921e6742d6936c89767bdea5ff",
       "version_major": 2,
       "version_minor": 0
      },
      "text/plain": [
       "Training:   0%|          | 0/1845 [00:00<?, ?batch/s]"
      ]
     },
     "metadata": {},
     "output_type": "display_data"
    },
    {
     "name": "stderr",
     "output_type": "stream",
     "text": [
      "C:\\Users\\goupi\\AppData\\Local\\Temp\\ipykernel_14868\\410524407.py:48: RuntimeWarning: invalid value encountered in divide\n",
      "  current_avg_output_vector = avg_output_vector / total_graphs_processed\n",
      "C:\\Users\\goupi\\AppData\\Local\\Temp\\ipykernel_14868\\410524407.py:49: RuntimeWarning: invalid value encountered in divide\n",
      "  current_avg_label_vector = avg_label_vector / total_graphs_processed\n"
     ]
    },
    {
     "name": "stdout",
     "output_type": "stream",
     "text": [
      "Epoch: 86, Loss: 0.24697308\n"
     ]
    },
    {
     "name": "stderr",
     "output_type": "stream",
     "text": [
      "c:\\Users\\goupi\\.conda\\envs\\torch_geometric\\lib\\site-packages\\numpy\\lib\\function_base.py:518: RuntimeWarning: Mean of empty slice.\n",
      "  avg = a.mean(axis, **keepdims_kw)\n",
      "c:\\Users\\goupi\\.conda\\envs\\torch_geometric\\lib\\site-packages\\numpy\\core\\_methods.py:190: RuntimeWarning: invalid value encountered in double_scalars\n",
      "  ret = ret.dtype.type(ret / rcount)\n",
      "C:\\Users\\goupi\\AppData\\Local\\Temp\\ipykernel_14868\\3785573072.py:7: FutureWarning: The frame.append method is deprecated and will be removed from pandas in a future version. Use pandas.concat instead.\n",
      "  training_history = training_history.append({'epoch': epoch, 'loss': loss, 'avg_output_vector': avg_output_vector, 'avg_label_vector': avg_label_vector, 'avg_correct': accuracy, 'precision': precision, 'recall': recall}, ignore_index=True)\n"
     ]
    },
    {
     "data": {
      "application/vnd.jupyter.widget-view+json": {
       "model_id": "1f7b6c45cd8a428f9567fee020855759",
       "version_major": 2,
       "version_minor": 0
      },
      "text/plain": [
       "Training:   0%|          | 0/1845 [00:00<?, ?batch/s]"
      ]
     },
     "metadata": {},
     "output_type": "display_data"
    },
    {
     "name": "stderr",
     "output_type": "stream",
     "text": [
      "C:\\Users\\goupi\\AppData\\Local\\Temp\\ipykernel_14868\\410524407.py:48: RuntimeWarning: invalid value encountered in divide\n",
      "  current_avg_output_vector = avg_output_vector / total_graphs_processed\n",
      "C:\\Users\\goupi\\AppData\\Local\\Temp\\ipykernel_14868\\410524407.py:49: RuntimeWarning: invalid value encountered in divide\n",
      "  current_avg_label_vector = avg_label_vector / total_graphs_processed\n"
     ]
    },
    {
     "name": "stdout",
     "output_type": "stream",
     "text": [
      "Epoch: 87, Loss: 0.24639689\n"
     ]
    },
    {
     "name": "stderr",
     "output_type": "stream",
     "text": [
      "c:\\Users\\goupi\\.conda\\envs\\torch_geometric\\lib\\site-packages\\numpy\\lib\\function_base.py:518: RuntimeWarning: Mean of empty slice.\n",
      "  avg = a.mean(axis, **keepdims_kw)\n",
      "c:\\Users\\goupi\\.conda\\envs\\torch_geometric\\lib\\site-packages\\numpy\\core\\_methods.py:190: RuntimeWarning: invalid value encountered in double_scalars\n",
      "  ret = ret.dtype.type(ret / rcount)\n",
      "C:\\Users\\goupi\\AppData\\Local\\Temp\\ipykernel_14868\\3785573072.py:7: FutureWarning: The frame.append method is deprecated and will be removed from pandas in a future version. Use pandas.concat instead.\n",
      "  training_history = training_history.append({'epoch': epoch, 'loss': loss, 'avg_output_vector': avg_output_vector, 'avg_label_vector': avg_label_vector, 'avg_correct': accuracy, 'precision': precision, 'recall': recall}, ignore_index=True)\n"
     ]
    },
    {
     "data": {
      "application/vnd.jupyter.widget-view+json": {
       "model_id": "76094fa1b66c4fd3868ada4f73d79810",
       "version_major": 2,
       "version_minor": 0
      },
      "text/plain": [
       "Training:   0%|          | 0/1845 [00:00<?, ?batch/s]"
      ]
     },
     "metadata": {},
     "output_type": "display_data"
    },
    {
     "name": "stderr",
     "output_type": "stream",
     "text": [
      "C:\\Users\\goupi\\AppData\\Local\\Temp\\ipykernel_14868\\410524407.py:48: RuntimeWarning: invalid value encountered in divide\n",
      "  current_avg_output_vector = avg_output_vector / total_graphs_processed\n",
      "C:\\Users\\goupi\\AppData\\Local\\Temp\\ipykernel_14868\\410524407.py:49: RuntimeWarning: invalid value encountered in divide\n",
      "  current_avg_label_vector = avg_label_vector / total_graphs_processed\n"
     ]
    },
    {
     "name": "stdout",
     "output_type": "stream",
     "text": [
      "Epoch: 88, Loss: 0.24909098\n"
     ]
    },
    {
     "name": "stderr",
     "output_type": "stream",
     "text": [
      "c:\\Users\\goupi\\.conda\\envs\\torch_geometric\\lib\\site-packages\\numpy\\lib\\function_base.py:518: RuntimeWarning: Mean of empty slice.\n",
      "  avg = a.mean(axis, **keepdims_kw)\n",
      "c:\\Users\\goupi\\.conda\\envs\\torch_geometric\\lib\\site-packages\\numpy\\core\\_methods.py:190: RuntimeWarning: invalid value encountered in double_scalars\n",
      "  ret = ret.dtype.type(ret / rcount)\n",
      "C:\\Users\\goupi\\AppData\\Local\\Temp\\ipykernel_14868\\3785573072.py:7: FutureWarning: The frame.append method is deprecated and will be removed from pandas in a future version. Use pandas.concat instead.\n",
      "  training_history = training_history.append({'epoch': epoch, 'loss': loss, 'avg_output_vector': avg_output_vector, 'avg_label_vector': avg_label_vector, 'avg_correct': accuracy, 'precision': precision, 'recall': recall}, ignore_index=True)\n"
     ]
    },
    {
     "data": {
      "application/vnd.jupyter.widget-view+json": {
       "model_id": "4094f377dac94fd8930df2c91ae89d49",
       "version_major": 2,
       "version_minor": 0
      },
      "text/plain": [
       "Training:   0%|          | 0/1845 [00:00<?, ?batch/s]"
      ]
     },
     "metadata": {},
     "output_type": "display_data"
    },
    {
     "name": "stderr",
     "output_type": "stream",
     "text": [
      "C:\\Users\\goupi\\AppData\\Local\\Temp\\ipykernel_14868\\410524407.py:48: RuntimeWarning: invalid value encountered in divide\n",
      "  current_avg_output_vector = avg_output_vector / total_graphs_processed\n",
      "C:\\Users\\goupi\\AppData\\Local\\Temp\\ipykernel_14868\\410524407.py:49: RuntimeWarning: invalid value encountered in divide\n",
      "  current_avg_label_vector = avg_label_vector / total_graphs_processed\n"
     ]
    },
    {
     "name": "stdout",
     "output_type": "stream",
     "text": [
      "Epoch: 89, Loss: 0.24884819\n"
     ]
    },
    {
     "name": "stderr",
     "output_type": "stream",
     "text": [
      "c:\\Users\\goupi\\.conda\\envs\\torch_geometric\\lib\\site-packages\\numpy\\lib\\function_base.py:518: RuntimeWarning: Mean of empty slice.\n",
      "  avg = a.mean(axis, **keepdims_kw)\n",
      "c:\\Users\\goupi\\.conda\\envs\\torch_geometric\\lib\\site-packages\\numpy\\core\\_methods.py:190: RuntimeWarning: invalid value encountered in double_scalars\n",
      "  ret = ret.dtype.type(ret / rcount)\n",
      "C:\\Users\\goupi\\AppData\\Local\\Temp\\ipykernel_14868\\3785573072.py:7: FutureWarning: The frame.append method is deprecated and will be removed from pandas in a future version. Use pandas.concat instead.\n",
      "  training_history = training_history.append({'epoch': epoch, 'loss': loss, 'avg_output_vector': avg_output_vector, 'avg_label_vector': avg_label_vector, 'avg_correct': accuracy, 'precision': precision, 'recall': recall}, ignore_index=True)\n"
     ]
    },
    {
     "data": {
      "application/vnd.jupyter.widget-view+json": {
       "model_id": "2380ddfaf9de4bb89ec7c88d99a05724",
       "version_major": 2,
       "version_minor": 0
      },
      "text/plain": [
       "Training:   0%|          | 0/1845 [00:00<?, ?batch/s]"
      ]
     },
     "metadata": {},
     "output_type": "display_data"
    },
    {
     "name": "stderr",
     "output_type": "stream",
     "text": [
      "C:\\Users\\goupi\\AppData\\Local\\Temp\\ipykernel_14868\\410524407.py:48: RuntimeWarning: invalid value encountered in divide\n",
      "  current_avg_output_vector = avg_output_vector / total_graphs_processed\n",
      "C:\\Users\\goupi\\AppData\\Local\\Temp\\ipykernel_14868\\410524407.py:49: RuntimeWarning: invalid value encountered in divide\n",
      "  current_avg_label_vector = avg_label_vector / total_graphs_processed\n"
     ]
    },
    {
     "name": "stdout",
     "output_type": "stream",
     "text": [
      "Epoch: 90, Loss: 0.24829273\n"
     ]
    },
    {
     "name": "stderr",
     "output_type": "stream",
     "text": [
      "c:\\Users\\goupi\\.conda\\envs\\torch_geometric\\lib\\site-packages\\numpy\\lib\\function_base.py:518: RuntimeWarning: Mean of empty slice.\n",
      "  avg = a.mean(axis, **keepdims_kw)\n",
      "c:\\Users\\goupi\\.conda\\envs\\torch_geometric\\lib\\site-packages\\numpy\\core\\_methods.py:190: RuntimeWarning: invalid value encountered in double_scalars\n",
      "  ret = ret.dtype.type(ret / rcount)\n",
      "C:\\Users\\goupi\\AppData\\Local\\Temp\\ipykernel_14868\\3785573072.py:7: FutureWarning: The frame.append method is deprecated and will be removed from pandas in a future version. Use pandas.concat instead.\n",
      "  training_history = training_history.append({'epoch': epoch, 'loss': loss, 'avg_output_vector': avg_output_vector, 'avg_label_vector': avg_label_vector, 'avg_correct': accuracy, 'precision': precision, 'recall': recall}, ignore_index=True)\n"
     ]
    },
    {
     "data": {
      "application/vnd.jupyter.widget-view+json": {
       "model_id": "565eede75e034a3dbdef3482fd284d8c",
       "version_major": 2,
       "version_minor": 0
      },
      "text/plain": [
       "Training:   0%|          | 0/1845 [00:00<?, ?batch/s]"
      ]
     },
     "metadata": {},
     "output_type": "display_data"
    },
    {
     "name": "stderr",
     "output_type": "stream",
     "text": [
      "C:\\Users\\goupi\\AppData\\Local\\Temp\\ipykernel_14868\\410524407.py:48: RuntimeWarning: invalid value encountered in divide\n",
      "  current_avg_output_vector = avg_output_vector / total_graphs_processed\n",
      "C:\\Users\\goupi\\AppData\\Local\\Temp\\ipykernel_14868\\410524407.py:49: RuntimeWarning: invalid value encountered in divide\n",
      "  current_avg_label_vector = avg_label_vector / total_graphs_processed\n"
     ]
    },
    {
     "name": "stdout",
     "output_type": "stream",
     "text": [
      "Epoch: 91, Loss: 0.24899196\n"
     ]
    },
    {
     "name": "stderr",
     "output_type": "stream",
     "text": [
      "c:\\Users\\goupi\\.conda\\envs\\torch_geometric\\lib\\site-packages\\numpy\\lib\\function_base.py:518: RuntimeWarning: Mean of empty slice.\n",
      "  avg = a.mean(axis, **keepdims_kw)\n",
      "c:\\Users\\goupi\\.conda\\envs\\torch_geometric\\lib\\site-packages\\numpy\\core\\_methods.py:190: RuntimeWarning: invalid value encountered in double_scalars\n",
      "  ret = ret.dtype.type(ret / rcount)\n",
      "C:\\Users\\goupi\\AppData\\Local\\Temp\\ipykernel_14868\\3785573072.py:7: FutureWarning: The frame.append method is deprecated and will be removed from pandas in a future version. Use pandas.concat instead.\n",
      "  training_history = training_history.append({'epoch': epoch, 'loss': loss, 'avg_output_vector': avg_output_vector, 'avg_label_vector': avg_label_vector, 'avg_correct': accuracy, 'precision': precision, 'recall': recall}, ignore_index=True)\n"
     ]
    },
    {
     "data": {
      "application/vnd.jupyter.widget-view+json": {
       "model_id": "72e87d5519bd48468a5db80f1f80366c",
       "version_major": 2,
       "version_minor": 0
      },
      "text/plain": [
       "Training:   0%|          | 0/1845 [00:00<?, ?batch/s]"
      ]
     },
     "metadata": {},
     "output_type": "display_data"
    },
    {
     "name": "stderr",
     "output_type": "stream",
     "text": [
      "C:\\Users\\goupi\\AppData\\Local\\Temp\\ipykernel_14868\\410524407.py:48: RuntimeWarning: invalid value encountered in divide\n",
      "  current_avg_output_vector = avg_output_vector / total_graphs_processed\n",
      "C:\\Users\\goupi\\AppData\\Local\\Temp\\ipykernel_14868\\410524407.py:49: RuntimeWarning: invalid value encountered in divide\n",
      "  current_avg_label_vector = avg_label_vector / total_graphs_processed\n"
     ]
    },
    {
     "name": "stdout",
     "output_type": "stream",
     "text": [
      "Epoch: 92, Loss: 0.24905674\n"
     ]
    },
    {
     "name": "stderr",
     "output_type": "stream",
     "text": [
      "c:\\Users\\goupi\\.conda\\envs\\torch_geometric\\lib\\site-packages\\numpy\\lib\\function_base.py:518: RuntimeWarning: Mean of empty slice.\n",
      "  avg = a.mean(axis, **keepdims_kw)\n",
      "c:\\Users\\goupi\\.conda\\envs\\torch_geometric\\lib\\site-packages\\numpy\\core\\_methods.py:190: RuntimeWarning: invalid value encountered in double_scalars\n",
      "  ret = ret.dtype.type(ret / rcount)\n",
      "C:\\Users\\goupi\\AppData\\Local\\Temp\\ipykernel_14868\\3785573072.py:7: FutureWarning: The frame.append method is deprecated and will be removed from pandas in a future version. Use pandas.concat instead.\n",
      "  training_history = training_history.append({'epoch': epoch, 'loss': loss, 'avg_output_vector': avg_output_vector, 'avg_label_vector': avg_label_vector, 'avg_correct': accuracy, 'precision': precision, 'recall': recall}, ignore_index=True)\n"
     ]
    },
    {
     "data": {
      "application/vnd.jupyter.widget-view+json": {
       "model_id": "f28d213f29454d8c91846693cccd0f7d",
       "version_major": 2,
       "version_minor": 0
      },
      "text/plain": [
       "Training:   0%|          | 0/1845 [00:00<?, ?batch/s]"
      ]
     },
     "metadata": {},
     "output_type": "display_data"
    },
    {
     "name": "stderr",
     "output_type": "stream",
     "text": [
      "C:\\Users\\goupi\\AppData\\Local\\Temp\\ipykernel_14868\\410524407.py:48: RuntimeWarning: invalid value encountered in divide\n",
      "  current_avg_output_vector = avg_output_vector / total_graphs_processed\n",
      "C:\\Users\\goupi\\AppData\\Local\\Temp\\ipykernel_14868\\410524407.py:49: RuntimeWarning: invalid value encountered in divide\n",
      "  current_avg_label_vector = avg_label_vector / total_graphs_processed\n"
     ]
    },
    {
     "name": "stdout",
     "output_type": "stream",
     "text": [
      "Epoch: 93, Loss: 0.24794381\n"
     ]
    },
    {
     "name": "stderr",
     "output_type": "stream",
     "text": [
      "c:\\Users\\goupi\\.conda\\envs\\torch_geometric\\lib\\site-packages\\numpy\\lib\\function_base.py:518: RuntimeWarning: Mean of empty slice.\n",
      "  avg = a.mean(axis, **keepdims_kw)\n",
      "c:\\Users\\goupi\\.conda\\envs\\torch_geometric\\lib\\site-packages\\numpy\\core\\_methods.py:190: RuntimeWarning: invalid value encountered in double_scalars\n",
      "  ret = ret.dtype.type(ret / rcount)\n",
      "C:\\Users\\goupi\\AppData\\Local\\Temp\\ipykernel_14868\\3785573072.py:7: FutureWarning: The frame.append method is deprecated and will be removed from pandas in a future version. Use pandas.concat instead.\n",
      "  training_history = training_history.append({'epoch': epoch, 'loss': loss, 'avg_output_vector': avg_output_vector, 'avg_label_vector': avg_label_vector, 'avg_correct': accuracy, 'precision': precision, 'recall': recall}, ignore_index=True)\n"
     ]
    },
    {
     "data": {
      "application/vnd.jupyter.widget-view+json": {
       "model_id": "908b6fa8ad5e428c8b7a6e435c7bf717",
       "version_major": 2,
       "version_minor": 0
      },
      "text/plain": [
       "Training:   0%|          | 0/1845 [00:00<?, ?batch/s]"
      ]
     },
     "metadata": {},
     "output_type": "display_data"
    },
    {
     "name": "stderr",
     "output_type": "stream",
     "text": [
      "C:\\Users\\goupi\\AppData\\Local\\Temp\\ipykernel_14868\\410524407.py:48: RuntimeWarning: invalid value encountered in divide\n",
      "  current_avg_output_vector = avg_output_vector / total_graphs_processed\n",
      "C:\\Users\\goupi\\AppData\\Local\\Temp\\ipykernel_14868\\410524407.py:49: RuntimeWarning: invalid value encountered in divide\n",
      "  current_avg_label_vector = avg_label_vector / total_graphs_processed\n"
     ]
    },
    {
     "name": "stdout",
     "output_type": "stream",
     "text": [
      "Epoch: 94, Loss: 0.24729914\n"
     ]
    },
    {
     "name": "stderr",
     "output_type": "stream",
     "text": [
      "c:\\Users\\goupi\\.conda\\envs\\torch_geometric\\lib\\site-packages\\numpy\\lib\\function_base.py:518: RuntimeWarning: Mean of empty slice.\n",
      "  avg = a.mean(axis, **keepdims_kw)\n",
      "c:\\Users\\goupi\\.conda\\envs\\torch_geometric\\lib\\site-packages\\numpy\\core\\_methods.py:190: RuntimeWarning: invalid value encountered in double_scalars\n",
      "  ret = ret.dtype.type(ret / rcount)\n",
      "C:\\Users\\goupi\\AppData\\Local\\Temp\\ipykernel_14868\\3785573072.py:7: FutureWarning: The frame.append method is deprecated and will be removed from pandas in a future version. Use pandas.concat instead.\n",
      "  training_history = training_history.append({'epoch': epoch, 'loss': loss, 'avg_output_vector': avg_output_vector, 'avg_label_vector': avg_label_vector, 'avg_correct': accuracy, 'precision': precision, 'recall': recall}, ignore_index=True)\n"
     ]
    },
    {
     "data": {
      "application/vnd.jupyter.widget-view+json": {
       "model_id": "cec8a0132b884891a711fb83a432cd54",
       "version_major": 2,
       "version_minor": 0
      },
      "text/plain": [
       "Training:   0%|          | 0/1845 [00:00<?, ?batch/s]"
      ]
     },
     "metadata": {},
     "output_type": "display_data"
    },
    {
     "name": "stderr",
     "output_type": "stream",
     "text": [
      "C:\\Users\\goupi\\AppData\\Local\\Temp\\ipykernel_14868\\410524407.py:48: RuntimeWarning: invalid value encountered in divide\n",
      "  current_avg_output_vector = avg_output_vector / total_graphs_processed\n",
      "C:\\Users\\goupi\\AppData\\Local\\Temp\\ipykernel_14868\\410524407.py:49: RuntimeWarning: invalid value encountered in divide\n",
      "  current_avg_label_vector = avg_label_vector / total_graphs_processed\n"
     ]
    },
    {
     "name": "stdout",
     "output_type": "stream",
     "text": [
      "Epoch: 95, Loss: 0.24597687\n"
     ]
    },
    {
     "name": "stderr",
     "output_type": "stream",
     "text": [
      "c:\\Users\\goupi\\.conda\\envs\\torch_geometric\\lib\\site-packages\\numpy\\lib\\function_base.py:518: RuntimeWarning: Mean of empty slice.\n",
      "  avg = a.mean(axis, **keepdims_kw)\n",
      "c:\\Users\\goupi\\.conda\\envs\\torch_geometric\\lib\\site-packages\\numpy\\core\\_methods.py:190: RuntimeWarning: invalid value encountered in double_scalars\n",
      "  ret = ret.dtype.type(ret / rcount)\n",
      "C:\\Users\\goupi\\AppData\\Local\\Temp\\ipykernel_14868\\3785573072.py:7: FutureWarning: The frame.append method is deprecated and will be removed from pandas in a future version. Use pandas.concat instead.\n",
      "  training_history = training_history.append({'epoch': epoch, 'loss': loss, 'avg_output_vector': avg_output_vector, 'avg_label_vector': avg_label_vector, 'avg_correct': accuracy, 'precision': precision, 'recall': recall}, ignore_index=True)\n"
     ]
    },
    {
     "data": {
      "application/vnd.jupyter.widget-view+json": {
       "model_id": "a10ae8e2e5c34739a9d74d4858e82a95",
       "version_major": 2,
       "version_minor": 0
      },
      "text/plain": [
       "Training:   0%|          | 0/1845 [00:00<?, ?batch/s]"
      ]
     },
     "metadata": {},
     "output_type": "display_data"
    },
    {
     "name": "stderr",
     "output_type": "stream",
     "text": [
      "C:\\Users\\goupi\\AppData\\Local\\Temp\\ipykernel_14868\\410524407.py:48: RuntimeWarning: invalid value encountered in divide\n",
      "  current_avg_output_vector = avg_output_vector / total_graphs_processed\n",
      "C:\\Users\\goupi\\AppData\\Local\\Temp\\ipykernel_14868\\410524407.py:49: RuntimeWarning: invalid value encountered in divide\n",
      "  current_avg_label_vector = avg_label_vector / total_graphs_processed\n"
     ]
    },
    {
     "name": "stdout",
     "output_type": "stream",
     "text": [
      "Epoch: 96, Loss: 0.24876961\n"
     ]
    },
    {
     "name": "stderr",
     "output_type": "stream",
     "text": [
      "c:\\Users\\goupi\\.conda\\envs\\torch_geometric\\lib\\site-packages\\numpy\\lib\\function_base.py:518: RuntimeWarning: Mean of empty slice.\n",
      "  avg = a.mean(axis, **keepdims_kw)\n",
      "c:\\Users\\goupi\\.conda\\envs\\torch_geometric\\lib\\site-packages\\numpy\\core\\_methods.py:190: RuntimeWarning: invalid value encountered in double_scalars\n",
      "  ret = ret.dtype.type(ret / rcount)\n",
      "C:\\Users\\goupi\\AppData\\Local\\Temp\\ipykernel_14868\\3785573072.py:7: FutureWarning: The frame.append method is deprecated and will be removed from pandas in a future version. Use pandas.concat instead.\n",
      "  training_history = training_history.append({'epoch': epoch, 'loss': loss, 'avg_output_vector': avg_output_vector, 'avg_label_vector': avg_label_vector, 'avg_correct': accuracy, 'precision': precision, 'recall': recall}, ignore_index=True)\n"
     ]
    },
    {
     "data": {
      "application/vnd.jupyter.widget-view+json": {
       "model_id": "7ccd9c800d6e403ab152b92742bc6ae4",
       "version_major": 2,
       "version_minor": 0
      },
      "text/plain": [
       "Training:   0%|          | 0/1845 [00:00<?, ?batch/s]"
      ]
     },
     "metadata": {},
     "output_type": "display_data"
    },
    {
     "name": "stderr",
     "output_type": "stream",
     "text": [
      "C:\\Users\\goupi\\AppData\\Local\\Temp\\ipykernel_14868\\410524407.py:48: RuntimeWarning: invalid value encountered in divide\n",
      "  current_avg_output_vector = avg_output_vector / total_graphs_processed\n",
      "C:\\Users\\goupi\\AppData\\Local\\Temp\\ipykernel_14868\\410524407.py:49: RuntimeWarning: invalid value encountered in divide\n",
      "  current_avg_label_vector = avg_label_vector / total_graphs_processed\n"
     ]
    },
    {
     "name": "stdout",
     "output_type": "stream",
     "text": [
      "Epoch: 97, Loss: 0.24784813\n"
     ]
    },
    {
     "name": "stderr",
     "output_type": "stream",
     "text": [
      "c:\\Users\\goupi\\.conda\\envs\\torch_geometric\\lib\\site-packages\\numpy\\lib\\function_base.py:518: RuntimeWarning: Mean of empty slice.\n",
      "  avg = a.mean(axis, **keepdims_kw)\n",
      "c:\\Users\\goupi\\.conda\\envs\\torch_geometric\\lib\\site-packages\\numpy\\core\\_methods.py:190: RuntimeWarning: invalid value encountered in double_scalars\n",
      "  ret = ret.dtype.type(ret / rcount)\n",
      "C:\\Users\\goupi\\AppData\\Local\\Temp\\ipykernel_14868\\3785573072.py:7: FutureWarning: The frame.append method is deprecated and will be removed from pandas in a future version. Use pandas.concat instead.\n",
      "  training_history = training_history.append({'epoch': epoch, 'loss': loss, 'avg_output_vector': avg_output_vector, 'avg_label_vector': avg_label_vector, 'avg_correct': accuracy, 'precision': precision, 'recall': recall}, ignore_index=True)\n"
     ]
    },
    {
     "data": {
      "application/vnd.jupyter.widget-view+json": {
       "model_id": "85a80a619d894bea8a02fdb452a0ba34",
       "version_major": 2,
       "version_minor": 0
      },
      "text/plain": [
       "Training:   0%|          | 0/1845 [00:00<?, ?batch/s]"
      ]
     },
     "metadata": {},
     "output_type": "display_data"
    },
    {
     "name": "stderr",
     "output_type": "stream",
     "text": [
      "C:\\Users\\goupi\\AppData\\Local\\Temp\\ipykernel_14868\\410524407.py:48: RuntimeWarning: invalid value encountered in divide\n",
      "  current_avg_output_vector = avg_output_vector / total_graphs_processed\n",
      "C:\\Users\\goupi\\AppData\\Local\\Temp\\ipykernel_14868\\410524407.py:49: RuntimeWarning: invalid value encountered in divide\n",
      "  current_avg_label_vector = avg_label_vector / total_graphs_processed\n"
     ]
    },
    {
     "name": "stdout",
     "output_type": "stream",
     "text": [
      "Epoch: 98, Loss: 0.24792687\n"
     ]
    },
    {
     "name": "stderr",
     "output_type": "stream",
     "text": [
      "c:\\Users\\goupi\\.conda\\envs\\torch_geometric\\lib\\site-packages\\numpy\\lib\\function_base.py:518: RuntimeWarning: Mean of empty slice.\n",
      "  avg = a.mean(axis, **keepdims_kw)\n",
      "c:\\Users\\goupi\\.conda\\envs\\torch_geometric\\lib\\site-packages\\numpy\\core\\_methods.py:190: RuntimeWarning: invalid value encountered in double_scalars\n",
      "  ret = ret.dtype.type(ret / rcount)\n",
      "C:\\Users\\goupi\\AppData\\Local\\Temp\\ipykernel_14868\\3785573072.py:7: FutureWarning: The frame.append method is deprecated and will be removed from pandas in a future version. Use pandas.concat instead.\n",
      "  training_history = training_history.append({'epoch': epoch, 'loss': loss, 'avg_output_vector': avg_output_vector, 'avg_label_vector': avg_label_vector, 'avg_correct': accuracy, 'precision': precision, 'recall': recall}, ignore_index=True)\n"
     ]
    },
    {
     "data": {
      "application/vnd.jupyter.widget-view+json": {
       "model_id": "392626e0f64e4b1890086bda9cb25c39",
       "version_major": 2,
       "version_minor": 0
      },
      "text/plain": [
       "Training:   0%|          | 0/1845 [00:00<?, ?batch/s]"
      ]
     },
     "metadata": {},
     "output_type": "display_data"
    },
    {
     "name": "stderr",
     "output_type": "stream",
     "text": [
      "C:\\Users\\goupi\\AppData\\Local\\Temp\\ipykernel_14868\\410524407.py:48: RuntimeWarning: invalid value encountered in divide\n",
      "  current_avg_output_vector = avg_output_vector / total_graphs_processed\n",
      "C:\\Users\\goupi\\AppData\\Local\\Temp\\ipykernel_14868\\410524407.py:49: RuntimeWarning: invalid value encountered in divide\n",
      "  current_avg_label_vector = avg_label_vector / total_graphs_processed\n"
     ]
    },
    {
     "name": "stdout",
     "output_type": "stream",
     "text": [
      "Epoch: 99, Loss: 0.24935323\n"
     ]
    },
    {
     "name": "stderr",
     "output_type": "stream",
     "text": [
      "c:\\Users\\goupi\\.conda\\envs\\torch_geometric\\lib\\site-packages\\numpy\\lib\\function_base.py:518: RuntimeWarning: Mean of empty slice.\n",
      "  avg = a.mean(axis, **keepdims_kw)\n",
      "c:\\Users\\goupi\\.conda\\envs\\torch_geometric\\lib\\site-packages\\numpy\\core\\_methods.py:190: RuntimeWarning: invalid value encountered in double_scalars\n",
      "  ret = ret.dtype.type(ret / rcount)\n",
      "C:\\Users\\goupi\\AppData\\Local\\Temp\\ipykernel_14868\\3785573072.py:7: FutureWarning: The frame.append method is deprecated and will be removed from pandas in a future version. Use pandas.concat instead.\n",
      "  training_history = training_history.append({'epoch': epoch, 'loss': loss, 'avg_output_vector': avg_output_vector, 'avg_label_vector': avg_label_vector, 'avg_correct': accuracy, 'precision': precision, 'recall': recall}, ignore_index=True)\n"
     ]
    },
    {
     "data": {
      "application/vnd.jupyter.widget-view+json": {
       "model_id": "55bfe0c510dc43d899818d3d77d5175b",
       "version_major": 2,
       "version_minor": 0
      },
      "text/plain": [
       "Training:   0%|          | 0/1845 [00:00<?, ?batch/s]"
      ]
     },
     "metadata": {},
     "output_type": "display_data"
    },
    {
     "name": "stderr",
     "output_type": "stream",
     "text": [
      "C:\\Users\\goupi\\AppData\\Local\\Temp\\ipykernel_14868\\410524407.py:48: RuntimeWarning: invalid value encountered in divide\n",
      "  current_avg_output_vector = avg_output_vector / total_graphs_processed\n",
      "C:\\Users\\goupi\\AppData\\Local\\Temp\\ipykernel_14868\\410524407.py:49: RuntimeWarning: invalid value encountered in divide\n",
      "  current_avg_label_vector = avg_label_vector / total_graphs_processed\n"
     ]
    },
    {
     "name": "stdout",
     "output_type": "stream",
     "text": [
      "Epoch: 100, Loss: 0.24749926\n"
     ]
    },
    {
     "name": "stderr",
     "output_type": "stream",
     "text": [
      "c:\\Users\\goupi\\.conda\\envs\\torch_geometric\\lib\\site-packages\\numpy\\lib\\function_base.py:518: RuntimeWarning: Mean of empty slice.\n",
      "  avg = a.mean(axis, **keepdims_kw)\n",
      "c:\\Users\\goupi\\.conda\\envs\\torch_geometric\\lib\\site-packages\\numpy\\core\\_methods.py:190: RuntimeWarning: invalid value encountered in double_scalars\n",
      "  ret = ret.dtype.type(ret / rcount)\n",
      "C:\\Users\\goupi\\AppData\\Local\\Temp\\ipykernel_14868\\3785573072.py:7: FutureWarning: The frame.append method is deprecated and will be removed from pandas in a future version. Use pandas.concat instead.\n",
      "  training_history = training_history.append({'epoch': epoch, 'loss': loss, 'avg_output_vector': avg_output_vector, 'avg_label_vector': avg_label_vector, 'avg_correct': accuracy, 'precision': precision, 'recall': recall}, ignore_index=True)\n"
     ]
    },
    {
     "data": {
      "application/vnd.jupyter.widget-view+json": {
       "model_id": "a63a8ba5d4d94586b24a1eb65880bba0",
       "version_major": 2,
       "version_minor": 0
      },
      "text/plain": [
       "Training:   0%|          | 0/1845 [00:00<?, ?batch/s]"
      ]
     },
     "metadata": {},
     "output_type": "display_data"
    },
    {
     "name": "stderr",
     "output_type": "stream",
     "text": [
      "C:\\Users\\goupi\\AppData\\Local\\Temp\\ipykernel_14868\\410524407.py:48: RuntimeWarning: invalid value encountered in divide\n",
      "  current_avg_output_vector = avg_output_vector / total_graphs_processed\n",
      "C:\\Users\\goupi\\AppData\\Local\\Temp\\ipykernel_14868\\410524407.py:49: RuntimeWarning: invalid value encountered in divide\n",
      "  current_avg_label_vector = avg_label_vector / total_graphs_processed\n"
     ]
    },
    {
     "name": "stdout",
     "output_type": "stream",
     "text": [
      "Epoch: 101, Loss: 0.24867838\n"
     ]
    },
    {
     "name": "stderr",
     "output_type": "stream",
     "text": [
      "c:\\Users\\goupi\\.conda\\envs\\torch_geometric\\lib\\site-packages\\numpy\\lib\\function_base.py:518: RuntimeWarning: Mean of empty slice.\n",
      "  avg = a.mean(axis, **keepdims_kw)\n",
      "c:\\Users\\goupi\\.conda\\envs\\torch_geometric\\lib\\site-packages\\numpy\\core\\_methods.py:190: RuntimeWarning: invalid value encountered in double_scalars\n",
      "  ret = ret.dtype.type(ret / rcount)\n",
      "C:\\Users\\goupi\\AppData\\Local\\Temp\\ipykernel_14868\\3785573072.py:7: FutureWarning: The frame.append method is deprecated and will be removed from pandas in a future version. Use pandas.concat instead.\n",
      "  training_history = training_history.append({'epoch': epoch, 'loss': loss, 'avg_output_vector': avg_output_vector, 'avg_label_vector': avg_label_vector, 'avg_correct': accuracy, 'precision': precision, 'recall': recall}, ignore_index=True)\n"
     ]
    },
    {
     "data": {
      "application/vnd.jupyter.widget-view+json": {
       "model_id": "c0c70c31e5e547b3ab63f77d862f7e25",
       "version_major": 2,
       "version_minor": 0
      },
      "text/plain": [
       "Training:   0%|          | 0/1845 [00:00<?, ?batch/s]"
      ]
     },
     "metadata": {},
     "output_type": "display_data"
    },
    {
     "name": "stderr",
     "output_type": "stream",
     "text": [
      "C:\\Users\\goupi\\AppData\\Local\\Temp\\ipykernel_14868\\410524407.py:48: RuntimeWarning: invalid value encountered in divide\n",
      "  current_avg_output_vector = avg_output_vector / total_graphs_processed\n",
      "C:\\Users\\goupi\\AppData\\Local\\Temp\\ipykernel_14868\\410524407.py:49: RuntimeWarning: invalid value encountered in divide\n",
      "  current_avg_label_vector = avg_label_vector / total_graphs_processed\n"
     ]
    },
    {
     "name": "stdout",
     "output_type": "stream",
     "text": [
      "Epoch: 102, Loss: 0.24843259\n"
     ]
    },
    {
     "name": "stderr",
     "output_type": "stream",
     "text": [
      "c:\\Users\\goupi\\.conda\\envs\\torch_geometric\\lib\\site-packages\\numpy\\lib\\function_base.py:518: RuntimeWarning: Mean of empty slice.\n",
      "  avg = a.mean(axis, **keepdims_kw)\n",
      "c:\\Users\\goupi\\.conda\\envs\\torch_geometric\\lib\\site-packages\\numpy\\core\\_methods.py:190: RuntimeWarning: invalid value encountered in double_scalars\n",
      "  ret = ret.dtype.type(ret / rcount)\n",
      "C:\\Users\\goupi\\AppData\\Local\\Temp\\ipykernel_14868\\3785573072.py:7: FutureWarning: The frame.append method is deprecated and will be removed from pandas in a future version. Use pandas.concat instead.\n",
      "  training_history = training_history.append({'epoch': epoch, 'loss': loss, 'avg_output_vector': avg_output_vector, 'avg_label_vector': avg_label_vector, 'avg_correct': accuracy, 'precision': precision, 'recall': recall}, ignore_index=True)\n"
     ]
    },
    {
     "data": {
      "application/vnd.jupyter.widget-view+json": {
       "model_id": "54c4cb96c69f43cc81d626f9ee6a92d7",
       "version_major": 2,
       "version_minor": 0
      },
      "text/plain": [
       "Training:   0%|          | 0/1845 [00:00<?, ?batch/s]"
      ]
     },
     "metadata": {},
     "output_type": "display_data"
    },
    {
     "name": "stderr",
     "output_type": "stream",
     "text": [
      "C:\\Users\\goupi\\AppData\\Local\\Temp\\ipykernel_14868\\410524407.py:48: RuntimeWarning: invalid value encountered in divide\n",
      "  current_avg_output_vector = avg_output_vector / total_graphs_processed\n",
      "C:\\Users\\goupi\\AppData\\Local\\Temp\\ipykernel_14868\\410524407.py:49: RuntimeWarning: invalid value encountered in divide\n",
      "  current_avg_label_vector = avg_label_vector / total_graphs_processed\n"
     ]
    },
    {
     "name": "stdout",
     "output_type": "stream",
     "text": [
      "Epoch: 103, Loss: 0.24715452\n"
     ]
    },
    {
     "name": "stderr",
     "output_type": "stream",
     "text": [
      "c:\\Users\\goupi\\.conda\\envs\\torch_geometric\\lib\\site-packages\\numpy\\lib\\function_base.py:518: RuntimeWarning: Mean of empty slice.\n",
      "  avg = a.mean(axis, **keepdims_kw)\n",
      "c:\\Users\\goupi\\.conda\\envs\\torch_geometric\\lib\\site-packages\\numpy\\core\\_methods.py:190: RuntimeWarning: invalid value encountered in double_scalars\n",
      "  ret = ret.dtype.type(ret / rcount)\n",
      "C:\\Users\\goupi\\AppData\\Local\\Temp\\ipykernel_14868\\3785573072.py:7: FutureWarning: The frame.append method is deprecated and will be removed from pandas in a future version. Use pandas.concat instead.\n",
      "  training_history = training_history.append({'epoch': epoch, 'loss': loss, 'avg_output_vector': avg_output_vector, 'avg_label_vector': avg_label_vector, 'avg_correct': accuracy, 'precision': precision, 'recall': recall}, ignore_index=True)\n"
     ]
    },
    {
     "data": {
      "application/vnd.jupyter.widget-view+json": {
       "model_id": "4a078e12d0b24f0e8288c8d542e33dcb",
       "version_major": 2,
       "version_minor": 0
      },
      "text/plain": [
       "Training:   0%|          | 0/1845 [00:00<?, ?batch/s]"
      ]
     },
     "metadata": {},
     "output_type": "display_data"
    },
    {
     "name": "stderr",
     "output_type": "stream",
     "text": [
      "C:\\Users\\goupi\\AppData\\Local\\Temp\\ipykernel_14868\\410524407.py:48: RuntimeWarning: invalid value encountered in divide\n",
      "  current_avg_output_vector = avg_output_vector / total_graphs_processed\n",
      "C:\\Users\\goupi\\AppData\\Local\\Temp\\ipykernel_14868\\410524407.py:49: RuntimeWarning: invalid value encountered in divide\n",
      "  current_avg_label_vector = avg_label_vector / total_graphs_processed\n"
     ]
    },
    {
     "name": "stdout",
     "output_type": "stream",
     "text": [
      "Epoch: 104, Loss: 0.24669143\n"
     ]
    },
    {
     "name": "stderr",
     "output_type": "stream",
     "text": [
      "c:\\Users\\goupi\\.conda\\envs\\torch_geometric\\lib\\site-packages\\numpy\\lib\\function_base.py:518: RuntimeWarning: Mean of empty slice.\n",
      "  avg = a.mean(axis, **keepdims_kw)\n",
      "c:\\Users\\goupi\\.conda\\envs\\torch_geometric\\lib\\site-packages\\numpy\\core\\_methods.py:190: RuntimeWarning: invalid value encountered in double_scalars\n",
      "  ret = ret.dtype.type(ret / rcount)\n",
      "C:\\Users\\goupi\\AppData\\Local\\Temp\\ipykernel_14868\\3785573072.py:7: FutureWarning: The frame.append method is deprecated and will be removed from pandas in a future version. Use pandas.concat instead.\n",
      "  training_history = training_history.append({'epoch': epoch, 'loss': loss, 'avg_output_vector': avg_output_vector, 'avg_label_vector': avg_label_vector, 'avg_correct': accuracy, 'precision': precision, 'recall': recall}, ignore_index=True)\n"
     ]
    },
    {
     "data": {
      "application/vnd.jupyter.widget-view+json": {
       "model_id": "1718eb11eb8c47e6b4f1f07573a98bd8",
       "version_major": 2,
       "version_minor": 0
      },
      "text/plain": [
       "Training:   0%|          | 0/1845 [00:00<?, ?batch/s]"
      ]
     },
     "metadata": {},
     "output_type": "display_data"
    },
    {
     "name": "stderr",
     "output_type": "stream",
     "text": [
      "C:\\Users\\goupi\\AppData\\Local\\Temp\\ipykernel_14868\\410524407.py:48: RuntimeWarning: invalid value encountered in divide\n",
      "  current_avg_output_vector = avg_output_vector / total_graphs_processed\n",
      "C:\\Users\\goupi\\AppData\\Local\\Temp\\ipykernel_14868\\410524407.py:49: RuntimeWarning: invalid value encountered in divide\n",
      "  current_avg_label_vector = avg_label_vector / total_graphs_processed\n"
     ]
    },
    {
     "name": "stdout",
     "output_type": "stream",
     "text": [
      "Epoch: 105, Loss: 0.24685132\n"
     ]
    },
    {
     "name": "stderr",
     "output_type": "stream",
     "text": [
      "c:\\Users\\goupi\\.conda\\envs\\torch_geometric\\lib\\site-packages\\numpy\\lib\\function_base.py:518: RuntimeWarning: Mean of empty slice.\n",
      "  avg = a.mean(axis, **keepdims_kw)\n",
      "c:\\Users\\goupi\\.conda\\envs\\torch_geometric\\lib\\site-packages\\numpy\\core\\_methods.py:190: RuntimeWarning: invalid value encountered in double_scalars\n",
      "  ret = ret.dtype.type(ret / rcount)\n",
      "C:\\Users\\goupi\\AppData\\Local\\Temp\\ipykernel_14868\\3785573072.py:7: FutureWarning: The frame.append method is deprecated and will be removed from pandas in a future version. Use pandas.concat instead.\n",
      "  training_history = training_history.append({'epoch': epoch, 'loss': loss, 'avg_output_vector': avg_output_vector, 'avg_label_vector': avg_label_vector, 'avg_correct': accuracy, 'precision': precision, 'recall': recall}, ignore_index=True)\n"
     ]
    },
    {
     "data": {
      "application/vnd.jupyter.widget-view+json": {
       "model_id": "a03ab704ab2648d1aca4ee76585423d4",
       "version_major": 2,
       "version_minor": 0
      },
      "text/plain": [
       "Training:   0%|          | 0/1845 [00:00<?, ?batch/s]"
      ]
     },
     "metadata": {},
     "output_type": "display_data"
    },
    {
     "name": "stderr",
     "output_type": "stream",
     "text": [
      "C:\\Users\\goupi\\AppData\\Local\\Temp\\ipykernel_14868\\410524407.py:48: RuntimeWarning: invalid value encountered in divide\n",
      "  current_avg_output_vector = avg_output_vector / total_graphs_processed\n",
      "C:\\Users\\goupi\\AppData\\Local\\Temp\\ipykernel_14868\\410524407.py:49: RuntimeWarning: invalid value encountered in divide\n",
      "  current_avg_label_vector = avg_label_vector / total_graphs_processed\n"
     ]
    },
    {
     "name": "stdout",
     "output_type": "stream",
     "text": [
      "Epoch: 106, Loss: 0.24718726\n"
     ]
    },
    {
     "name": "stderr",
     "output_type": "stream",
     "text": [
      "c:\\Users\\goupi\\.conda\\envs\\torch_geometric\\lib\\site-packages\\numpy\\lib\\function_base.py:518: RuntimeWarning: Mean of empty slice.\n",
      "  avg = a.mean(axis, **keepdims_kw)\n",
      "c:\\Users\\goupi\\.conda\\envs\\torch_geometric\\lib\\site-packages\\numpy\\core\\_methods.py:190: RuntimeWarning: invalid value encountered in double_scalars\n",
      "  ret = ret.dtype.type(ret / rcount)\n",
      "C:\\Users\\goupi\\AppData\\Local\\Temp\\ipykernel_14868\\3785573072.py:7: FutureWarning: The frame.append method is deprecated and will be removed from pandas in a future version. Use pandas.concat instead.\n",
      "  training_history = training_history.append({'epoch': epoch, 'loss': loss, 'avg_output_vector': avg_output_vector, 'avg_label_vector': avg_label_vector, 'avg_correct': accuracy, 'precision': precision, 'recall': recall}, ignore_index=True)\n"
     ]
    },
    {
     "data": {
      "application/vnd.jupyter.widget-view+json": {
       "model_id": "d02a7372795c4563983330ba5bc06746",
       "version_major": 2,
       "version_minor": 0
      },
      "text/plain": [
       "Training:   0%|          | 0/1845 [00:00<?, ?batch/s]"
      ]
     },
     "metadata": {},
     "output_type": "display_data"
    },
    {
     "name": "stderr",
     "output_type": "stream",
     "text": [
      "C:\\Users\\goupi\\AppData\\Local\\Temp\\ipykernel_14868\\410524407.py:48: RuntimeWarning: invalid value encountered in divide\n",
      "  current_avg_output_vector = avg_output_vector / total_graphs_processed\n",
      "C:\\Users\\goupi\\AppData\\Local\\Temp\\ipykernel_14868\\410524407.py:49: RuntimeWarning: invalid value encountered in divide\n",
      "  current_avg_label_vector = avg_label_vector / total_graphs_processed\n"
     ]
    },
    {
     "name": "stdout",
     "output_type": "stream",
     "text": [
      "Epoch: 107, Loss: 0.24808007\n"
     ]
    },
    {
     "name": "stderr",
     "output_type": "stream",
     "text": [
      "c:\\Users\\goupi\\.conda\\envs\\torch_geometric\\lib\\site-packages\\numpy\\lib\\function_base.py:518: RuntimeWarning: Mean of empty slice.\n",
      "  avg = a.mean(axis, **keepdims_kw)\n",
      "c:\\Users\\goupi\\.conda\\envs\\torch_geometric\\lib\\site-packages\\numpy\\core\\_methods.py:190: RuntimeWarning: invalid value encountered in double_scalars\n",
      "  ret = ret.dtype.type(ret / rcount)\n",
      "C:\\Users\\goupi\\AppData\\Local\\Temp\\ipykernel_14868\\3785573072.py:7: FutureWarning: The frame.append method is deprecated and will be removed from pandas in a future version. Use pandas.concat instead.\n",
      "  training_history = training_history.append({'epoch': epoch, 'loss': loss, 'avg_output_vector': avg_output_vector, 'avg_label_vector': avg_label_vector, 'avg_correct': accuracy, 'precision': precision, 'recall': recall}, ignore_index=True)\n"
     ]
    },
    {
     "data": {
      "application/vnd.jupyter.widget-view+json": {
       "model_id": "b825b648cc924997909b73f6271b020f",
       "version_major": 2,
       "version_minor": 0
      },
      "text/plain": [
       "Training:   0%|          | 0/1845 [00:00<?, ?batch/s]"
      ]
     },
     "metadata": {},
     "output_type": "display_data"
    },
    {
     "name": "stderr",
     "output_type": "stream",
     "text": [
      "C:\\Users\\goupi\\AppData\\Local\\Temp\\ipykernel_14868\\410524407.py:48: RuntimeWarning: invalid value encountered in divide\n",
      "  current_avg_output_vector = avg_output_vector / total_graphs_processed\n",
      "C:\\Users\\goupi\\AppData\\Local\\Temp\\ipykernel_14868\\410524407.py:49: RuntimeWarning: invalid value encountered in divide\n",
      "  current_avg_label_vector = avg_label_vector / total_graphs_processed\n"
     ]
    },
    {
     "name": "stdout",
     "output_type": "stream",
     "text": [
      "Epoch: 108, Loss: 0.24834314\n"
     ]
    },
    {
     "name": "stderr",
     "output_type": "stream",
     "text": [
      "c:\\Users\\goupi\\.conda\\envs\\torch_geometric\\lib\\site-packages\\numpy\\lib\\function_base.py:518: RuntimeWarning: Mean of empty slice.\n",
      "  avg = a.mean(axis, **keepdims_kw)\n",
      "c:\\Users\\goupi\\.conda\\envs\\torch_geometric\\lib\\site-packages\\numpy\\core\\_methods.py:190: RuntimeWarning: invalid value encountered in double_scalars\n",
      "  ret = ret.dtype.type(ret / rcount)\n",
      "C:\\Users\\goupi\\AppData\\Local\\Temp\\ipykernel_14868\\3785573072.py:7: FutureWarning: The frame.append method is deprecated and will be removed from pandas in a future version. Use pandas.concat instead.\n",
      "  training_history = training_history.append({'epoch': epoch, 'loss': loss, 'avg_output_vector': avg_output_vector, 'avg_label_vector': avg_label_vector, 'avg_correct': accuracy, 'precision': precision, 'recall': recall}, ignore_index=True)\n"
     ]
    },
    {
     "data": {
      "application/vnd.jupyter.widget-view+json": {
       "model_id": "85e2f3ae0e244993a9219b6c4efbccc4",
       "version_major": 2,
       "version_minor": 0
      },
      "text/plain": [
       "Training:   0%|          | 0/1845 [00:00<?, ?batch/s]"
      ]
     },
     "metadata": {},
     "output_type": "display_data"
    },
    {
     "name": "stderr",
     "output_type": "stream",
     "text": [
      "C:\\Users\\goupi\\AppData\\Local\\Temp\\ipykernel_14868\\410524407.py:48: RuntimeWarning: invalid value encountered in divide\n",
      "  current_avg_output_vector = avg_output_vector / total_graphs_processed\n",
      "C:\\Users\\goupi\\AppData\\Local\\Temp\\ipykernel_14868\\410524407.py:49: RuntimeWarning: invalid value encountered in divide\n",
      "  current_avg_label_vector = avg_label_vector / total_graphs_processed\n"
     ]
    },
    {
     "name": "stdout",
     "output_type": "stream",
     "text": [
      "Epoch: 109, Loss: 0.24706093\n"
     ]
    },
    {
     "name": "stderr",
     "output_type": "stream",
     "text": [
      "c:\\Users\\goupi\\.conda\\envs\\torch_geometric\\lib\\site-packages\\numpy\\lib\\function_base.py:518: RuntimeWarning: Mean of empty slice.\n",
      "  avg = a.mean(axis, **keepdims_kw)\n",
      "c:\\Users\\goupi\\.conda\\envs\\torch_geometric\\lib\\site-packages\\numpy\\core\\_methods.py:190: RuntimeWarning: invalid value encountered in double_scalars\n",
      "  ret = ret.dtype.type(ret / rcount)\n",
      "C:\\Users\\goupi\\AppData\\Local\\Temp\\ipykernel_14868\\3785573072.py:7: FutureWarning: The frame.append method is deprecated and will be removed from pandas in a future version. Use pandas.concat instead.\n",
      "  training_history = training_history.append({'epoch': epoch, 'loss': loss, 'avg_output_vector': avg_output_vector, 'avg_label_vector': avg_label_vector, 'avg_correct': accuracy, 'precision': precision, 'recall': recall}, ignore_index=True)\n"
     ]
    },
    {
     "data": {
      "application/vnd.jupyter.widget-view+json": {
       "model_id": "023cce69755342069a9682500301d084",
       "version_major": 2,
       "version_minor": 0
      },
      "text/plain": [
       "Training:   0%|          | 0/1845 [00:00<?, ?batch/s]"
      ]
     },
     "metadata": {},
     "output_type": "display_data"
    },
    {
     "name": "stderr",
     "output_type": "stream",
     "text": [
      "C:\\Users\\goupi\\AppData\\Local\\Temp\\ipykernel_14868\\410524407.py:48: RuntimeWarning: invalid value encountered in divide\n",
      "  current_avg_output_vector = avg_output_vector / total_graphs_processed\n",
      "C:\\Users\\goupi\\AppData\\Local\\Temp\\ipykernel_14868\\410524407.py:49: RuntimeWarning: invalid value encountered in divide\n",
      "  current_avg_label_vector = avg_label_vector / total_graphs_processed\n"
     ]
    },
    {
     "name": "stdout",
     "output_type": "stream",
     "text": [
      "Epoch: 110, Loss: 0.24925687\n"
     ]
    },
    {
     "name": "stderr",
     "output_type": "stream",
     "text": [
      "c:\\Users\\goupi\\.conda\\envs\\torch_geometric\\lib\\site-packages\\numpy\\lib\\function_base.py:518: RuntimeWarning: Mean of empty slice.\n",
      "  avg = a.mean(axis, **keepdims_kw)\n",
      "c:\\Users\\goupi\\.conda\\envs\\torch_geometric\\lib\\site-packages\\numpy\\core\\_methods.py:190: RuntimeWarning: invalid value encountered in double_scalars\n",
      "  ret = ret.dtype.type(ret / rcount)\n",
      "C:\\Users\\goupi\\AppData\\Local\\Temp\\ipykernel_14868\\3785573072.py:7: FutureWarning: The frame.append method is deprecated and will be removed from pandas in a future version. Use pandas.concat instead.\n",
      "  training_history = training_history.append({'epoch': epoch, 'loss': loss, 'avg_output_vector': avg_output_vector, 'avg_label_vector': avg_label_vector, 'avg_correct': accuracy, 'precision': precision, 'recall': recall}, ignore_index=True)\n"
     ]
    },
    {
     "data": {
      "application/vnd.jupyter.widget-view+json": {
       "model_id": "cb3c2609d9b14db5baf303328b0baaa5",
       "version_major": 2,
       "version_minor": 0
      },
      "text/plain": [
       "Training:   0%|          | 0/1845 [00:00<?, ?batch/s]"
      ]
     },
     "metadata": {},
     "output_type": "display_data"
    },
    {
     "name": "stderr",
     "output_type": "stream",
     "text": [
      "C:\\Users\\goupi\\AppData\\Local\\Temp\\ipykernel_14868\\410524407.py:48: RuntimeWarning: invalid value encountered in divide\n",
      "  current_avg_output_vector = avg_output_vector / total_graphs_processed\n",
      "C:\\Users\\goupi\\AppData\\Local\\Temp\\ipykernel_14868\\410524407.py:49: RuntimeWarning: invalid value encountered in divide\n",
      "  current_avg_label_vector = avg_label_vector / total_graphs_processed\n"
     ]
    }
   ],
   "source": [
    "training_history = pd.DataFrame(columns=['epoch', 'loss', 'avg_output_vector', 'avg_label_vector', 'avg_correct', 'precision', 'recall'])\n",
    "\n",
    "n_epochs = 1000\n",
    "for epoch in range(1, n_epochs+1):\n",
    "    loss, avg_label_vector, avg_output_vector, avg_correct = train(loader, epoch)\n",
    "    # Convert tensors to numpy arrays or single values for storage in the dataframe\n",
    "    loss = loss.item() if torch.is_tensor(loss) else loss\n",
    "    avg_output_vector = avg_output_vector.numpy() if torch.is_tensor(avg_output_vector) else avg_output_vector\n",
    "    avg_label_vector = avg_label_vector.numpy() if torch.is_tensor(avg_label_vector) else avg_label_vector\n",
    "    avg_correct = avg_correct.item() if torch.is_tensor(avg_correct) else avg_correct\n",
    "\n",
    "    # Assuming precision and recall are calculated somewhere in your train function\n",
    "    # Convert them to numpy or single values as well\n",
    "    precision = precision.numpy() if torch.is_tensor(precision) else precision\n",
    "    recall = recall.numpy() if torch.is_tensor(recall) else recall\n",
    "\n",
    "    training_history.loc[epoch] = [epoch, loss, avg_output_vector, avg_label_vector, avg_correct, precision, recall]\n",
    "\n",
    "    save_every_n_epochs = 5\n",
    "    if (epoch) % save_every_n_epochs == 0:\n",
    "        checkpoint = {\n",
    "            'epoch': epoch,\n",
    "            'model_state_dict': model.state_dict(),\n",
    "            'optimizer_state_dict': optimizer.state_dict(),\n",
    "            # Add any other relevant information you want to save here\n",
    "        }\n",
    "        torch.save(checkpoint, f'checkpoint_epoch_{epoch+1}_{name}.pt')\n",
    "        \n",
    "    # Save the training history every 1 epochs\n",
    "    if epoch % 1 == 0:\n",
    "        training_history.to_csv(f\"training_history_{name}.csv\", index=False)\n",
    "    print(f'Epoch: {epoch}, Loss: {loss:.8f}')"
   ]
  },
  {
   "cell_type": "code",
   "execution_count": null,
   "metadata": {},
   "outputs": [],
   "source": []
  },
  {
   "cell_type": "code",
   "execution_count": null,
   "metadata": {},
   "outputs": [],
   "source": []
  }
 ],
 "metadata": {
  "kernelspec": {
   "display_name": "torch_geometric",
   "language": "python",
   "name": "python3"
  },
  "language_info": {
   "codemirror_mode": {
    "name": "ipython",
    "version": 3
   },
   "file_extension": ".py",
   "mimetype": "text/x-python",
   "name": "python",
   "nbconvert_exporter": "python",
   "pygments_lexer": "ipython3",
   "version": "3.10.9"
  },
  "orig_nbformat": 4
 },
 "nbformat": 4,
 "nbformat_minor": 2
}
