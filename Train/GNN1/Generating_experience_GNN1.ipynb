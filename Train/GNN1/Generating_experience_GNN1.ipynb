{
 "cells": [
  {
   "cell_type": "code",
   "execution_count": 1,
   "metadata": {},
   "outputs": [],
   "source": [
    "from training_pipe_GNN1_utils import TrainGNN1\n",
    "from pathlib import Path\n",
    "import argparse\n",
    "import torch\n",
    "import json\n",
    "from visualize import plot_history_GNN3\n",
    "import torch.multiprocessing as mp\n",
    "import pyinstrument"
   ]
  },
  {
   "cell_type": "code",
   "execution_count": 2,
   "metadata": {},
   "outputs": [],
   "source": [
    "CONFIG_PATH = Path('config_GNN1.json')\n",
    "\n",
    "with open(CONFIG_PATH, 'r') as f:\n",
    "        config = json.load(f)"
   ]
  },
  {
   "cell_type": "code",
   "execution_count": 3,
   "metadata": {},
   "outputs": [
    {
     "name": "stdout",
     "output_type": "stream",
     "text": [
      "Training on cuda\n",
      "Loading data...\n",
      "Dataset encoded with size 13\n",
      "Dataset encoded with size 13\n",
      "Data loaded\n",
      "The 'GNN1_test_mem_leak' directory has been successfully created in the 'experiments' directory.\n"
     ]
    }
   ],
   "source": [
    "# Call the train_GNN3 function with the provided arguments\n",
    "mp.set_sharing_strategy('file_system') # Can cause memory leak\n",
    "\n",
    "TrainingGNN1 = TrainGNN1(config)"
   ]
  },
  {
   "cell_type": "code",
   "execution_count": 4,
   "metadata": {},
   "outputs": [
    {
     "name": "stderr",
     "output_type": "stream",
     "text": [
      "Training: 100%|██████████| 1559/1559 [07:48<00:00,  3.32batch/s]\n",
      "100%|██████████| 1/1 [00:42<00:00, 42.92s/it]\n",
      "Training: 100%|██████████| 1559/1559 [06:18<00:00,  4.12batch/s]\n",
      "100%|██████████| 2/2 [15:26<00:00, 463.03s/it]\n"
     ]
    },
    {
     "name": "stdout",
     "output_type": "stream",
     "text": [
      "\n",
      "  _     ._   __/__   _ _  _  _ _/_   Recorded: 12:50:25  Samples:  694670\n",
      " /_//_/// /_\\ / //_// / //_'/ //     Duration: 926.093   CPU time: 526.859\n",
      "/   _/                      v4.4.0\n",
      "\n",
      "Program: c:\\Users\\goupi\\.conda\\envs\\torch_geometric\\lib\\site-packages\\ipykernel_launcher.py --ip=127.0.0.1 --stdin=9023 --control=9021 --hb=9020 --Session.signature_scheme=\"hmac-sha256\" --Session.key=b\"0f124f18-38b8-4f92-bc5a-f6433250d929\" --shell=9022 --transport=\"tcp\" --iopub=9024 --f=c:\\Users\\goupi\\AppData\\Roaming\\jupyter\\runtime\\kernel-v2-17988GkL11H1XwewY.json\n",
      "\n",
      "\u001b[31m926.099\u001b[0m ZMQInteractiveShell.run_ast_nodes\u001b[0m  \u001b[2mIPython\\core\\interactiveshell.py:3301\u001b[0m\n",
      "└─ \u001b[31m926.094\u001b[0m \u001b[48;5;24m\u001b[38;5;15m<module>\u001b[0m  \u001b[2m..\\..\\..\\AppData\\Local\\Temp\\ipykernel_3740\\2814130182.py:1\u001b[0m\n",
      "   └─ \u001b[31m926.093\u001b[0m \u001b[48;5;24m\u001b[38;5;15mTrainGNN1.train\u001b[0m  \u001b[2mtraining_pipe_GNN1_utils.py:283\u001b[0m\n",
      "      ├─ \u001b[31m846.973\u001b[0m \u001b[48;5;24m\u001b[38;5;15mtrain_one_epoch\u001b[0m  \u001b[2mtraining_pipe_GNN1_utils.py:39\u001b[0m\n",
      "      │  ├─ \u001b[31m637.750\u001b[0m tqdm.__iter__\u001b[0m  \u001b[2mtqdm\\std.py:1174\u001b[0m\n",
      "      │  │     [310 frames hidden]  \u001b[2mtqdm, torch, <built-in>, ipykernel, t...\u001b[0m\n",
      "      │  │        \u001b[31m623.803\u001b[0m _MapDatasetFetcher.fetch\u001b[0m  \u001b[2mtorch\\utils\\data\\_utils\\fetch.py:53\u001b[0m\n",
      "      │  │        ├─ \u001b[31m602.101\u001b[0m <listcomp>\u001b[0m  \u001b[2mtorch\\utils\\data\\_utils\\fetch.py:58\u001b[0m\n",
      "      │  │        │  └─ \u001b[31m600.158\u001b[0m \u001b[48;5;24m\u001b[38;5;15mZincSubgraphDatasetStep.__getitem__\u001b[0m  \u001b[2mDataPipeline\\dataset.py:72\u001b[0m\n",
      "      │  │        │     ├─ \u001b[33m475.927\u001b[0m \u001b[48;5;24m\u001b[38;5;15mget_subgraph_with_terminal_nodes_step\u001b[0m  \u001b[2mDataPipeline\\preprocessing.py:194\u001b[0m\n",
      "      │  │        │     │  ├─ \u001b[33m210.163\u001b[0m [self]\u001b[0m  \u001b[2mNone\u001b[0m\n",
      "      │  │        │     │  ├─ \u001b[33m204.793\u001b[0m \u001b[48;5;24m\u001b[38;5;15mget_subgraph\u001b[0m  \u001b[2mDataPipeline\\preprocessing.py:155\u001b[0m\n",
      "      │  │        │     │  │  ├─ \u001b[32m115.102\u001b[0m [self]\u001b[0m  \u001b[2mNone\u001b[0m\n",
      "      │  │        │     │  │  ├─ \u001b[92m\u001b[2m26.862\u001b[0m Data.__init__\u001b[0m  \u001b[2mtorch_geometric\\data\\data.py:407\u001b[0m\n",
      "      │  │        │     │  │  │     [52 frames hidden]  \u001b[2mtorch_geometric, <built-in>\u001b[0m\n",
      "      │  │        │     │  │  ├─ \u001b[92m\u001b[2m12.735\u001b[0m _VariableFunctionsClass.tensor\u001b[0m  \u001b[2mNone\u001b[0m\n",
      "      │  │        │     │  │  │     [2 frames hidden]  \u001b[2m<built-in>\u001b[0m\n",
      "      │  │        │     │  │  ├─ \u001b[92m\u001b[2m11.889\u001b[0m \u001b[48;5;24m\u001b[38;5;15m<listcomp>\u001b[0m  \u001b[2mDataPipeline\\preprocessing.py:183\u001b[0m\n",
      "      │  │        │     │  │  └─ \u001b[92m\u001b[2m9.739\u001b[0m Data.x\u001b[0m  \u001b[2mtorch_geometric\\data\\data.py:807\u001b[0m\n",
      "      │  │        │     │  │        [10 frames hidden]  \u001b[2mtorch_geometric, _collections_abc\u001b[0m\n",
      "      │  │        │     │  ├─ \u001b[92m\u001b[2m16.922\u001b[0m Data.edge_index\u001b[0m  \u001b[2mtorch_geometric\\data\\data.py:811\u001b[0m\n",
      "      │  │        │     │  │     [10 frames hidden]  \u001b[2mtorch_geometric, _collections_abc\u001b[0m\n",
      "      │  │        │     │  ├─ \u001b[92m\u001b[2m12.397\u001b[0m Data.num_nodes\u001b[0m  \u001b[2mtorch_geometric\\data\\data.py:154\u001b[0m\n",
      "      │  │        │     │  │     [32 frames hidden]  \u001b[2mtorch_geometric, <built-in>, _collect...\u001b[0m\n",
      "      │  │        │     │  └─ \u001b[92m\u001b[2m9.956\u001b[0m Random.shuffle\u001b[0m  \u001b[2mrandom.py:380\u001b[0m\n",
      "      │  │        │     │        [10 frames hidden]  \u001b[2mrandom, <built-in>\u001b[0m\n",
      "      │  │        │     ├─ \u001b[92m\u001b[2m32.386\u001b[0m [self]\u001b[0m  \u001b[2mNone\u001b[0m\n",
      "      │  │        │     ├─ \u001b[92m\u001b[2m20.992\u001b[0m Data.__setattr__\u001b[0m  \u001b[2mtorch_geometric\\data\\data.py:443\u001b[0m\n",
      "      │  │        │     │     [32 frames hidden]  \u001b[2mtorch_geometric, <built-in>\u001b[0m\n",
      "      │  │        │     ├─ \u001b[92m\u001b[2m19.561\u001b[0m Data.x\u001b[0m  \u001b[2mtorch_geometric\\data\\data.py:807\u001b[0m\n",
      "      │  │        │     │     [10 frames hidden]  \u001b[2mtorch_geometric, _collections_abc\u001b[0m\n",
      "      │  │        │     └─ \u001b[92m\u001b[2m11.413\u001b[0m Tensor.repeat\u001b[0m  \u001b[2mNone\u001b[0m\n",
      "      │  │        │           [2 frames hidden]  \u001b[2m<built-in>\u001b[0m\n",
      "      │  │        └─ \u001b[92m\u001b[2m21.673\u001b[0m \u001b[48;5;24m\u001b[38;5;15mcustom_collate_GNN1\u001b[0m  \u001b[2mDataPipeline\\dataset.py:219\u001b[0m\n",
      "      │  │           └─ \u001b[92m\u001b[2m20.571\u001b[0m Batch.from_data_list\u001b[0m  \u001b[2mtorch_geometric\\data\\batch.py:64\u001b[0m\n",
      "      │  │                 [322 frames hidden]  \u001b[2mtorch_geometric, <built-in>, _collect...\u001b[0m\n",
      "      │  ├─ \u001b[32m81.337\u001b[0m Tensor.item\u001b[0m  \u001b[2mNone\u001b[0m\n",
      "      │  │     [2 frames hidden]  \u001b[2m<built-in>\u001b[0m\n",
      "      │  ├─ \u001b[32m67.246\u001b[0m ModelWithEdgeFeatures._call_impl\u001b[0m  \u001b[2mtorch\\nn\\modules\\module.py:1188\u001b[0m\n",
      "      │  │     [16 frames hidden]  \u001b[2mtorch, <built-in>\u001b[0m\n",
      "      │  │        \u001b[32m66.627\u001b[0m \u001b[48;5;24m\u001b[38;5;15mModelWithEdgeFeatures.forward\u001b[0m  \u001b[2mModel\\GNN1.py:65\u001b[0m\n",
      "      │  │        ├─ \u001b[92m\u001b[2m46.101\u001b[0m global_add_pool\u001b[0m  \u001b[2mtorch_geometric\\nn\\pool\\glob.py:8\u001b[0m\n",
      "      │  │        │     [11 frames hidden]  \u001b[2mtorch_geometric, <built-in>\u001b[0m\n",
      "      │  │        └─ \u001b[92m\u001b[2m18.352\u001b[0m CustomMessagePassingLayer._call_impl\u001b[0m  \u001b[2mtorch\\nn\\modules\\module.py:1188\u001b[0m\n",
      "      │  │              [36 frames hidden]  \u001b[2mtorch, <built-in>\u001b[0m\n",
      "      │  │                 \u001b[92m\u001b[2m14.284\u001b[0m \u001b[48;5;24m\u001b[38;5;15mCustomMessagePassingLayer.forward\u001b[0m  \u001b[2mModel\\GNN1.py:26\u001b[0m\n",
      "      │  ├─ \u001b[92m\u001b[2m14.114\u001b[0m \u001b[48;5;24m\u001b[38;5;15mpseudo_recall_for_each_class\u001b[0m  \u001b[2mModel\\metrics.py:99\u001b[0m\n",
      "      │  │  └─ \u001b[92m\u001b[2m13.711\u001b[0m [self]\u001b[0m  \u001b[2mNone\u001b[0m\n",
      "      │  ├─ \u001b[92m\u001b[2m13.787\u001b[0m \u001b[48;5;24m\u001b[38;5;15mpseudo_precision_for_each_class\u001b[0m  \u001b[2mModel\\metrics.py:120\u001b[0m\n",
      "      │  │  └─ \u001b[92m\u001b[2m13.523\u001b[0m [self]\u001b[0m  \u001b[2mNone\u001b[0m\n",
      "      │  ├─ \u001b[92m\u001b[2m11.442\u001b[0m wrapper\u001b[0m  \u001b[2mtorch\\optim\\optimizer.py:135\u001b[0m\n",
      "      │  │     [53 frames hidden]  \u001b[2mtorch, <built-in>\u001b[0m\n",
      "      │  └─ \u001b[92m\u001b[2m10.404\u001b[0m Tensor.backward\u001b[0m  \u001b[2mtorch\\_tensor.py:429\u001b[0m\n",
      "      │        [24 frames hidden]  \u001b[2mtorch, <built-in>\u001b[0m\n",
      "      ├─ \u001b[92m\u001b[2m42.933\u001b[0m \u001b[48;5;24m\u001b[38;5;15meval_one_epoch\u001b[0m  \u001b[2mtraining_pipe_GNN1_utils.py:122\u001b[0m\n",
      "      │  └─ \u001b[92m\u001b[2m33.056\u001b[0m _SingleProcessDataLoaderIter.__next__\u001b[0m  \u001b[2mtorch\\utils\\data\\dataloader.py:623\u001b[0m\n",
      "      │        [14 frames hidden]  \u001b[2mtorch, <built-in>\u001b[0m\n",
      "      │           \u001b[92m\u001b[2m31.721\u001b[0m <listcomp>\u001b[0m  \u001b[2mtorch\\utils\\data\\_utils\\fetch.py:58\u001b[0m\n",
      "      │           └─ \u001b[92m\u001b[2m31.629\u001b[0m \u001b[48;5;24m\u001b[38;5;15mZincSubgraphDatasetStep.__getitem__\u001b[0m  \u001b[2mDataPipeline\\dataset.py:72\u001b[0m\n",
      "      │              └─ \u001b[92m\u001b[2m25.761\u001b[0m \u001b[48;5;24m\u001b[38;5;15mget_subgraph_with_terminal_nodes_step\u001b[0m  \u001b[2mDataPipeline\\preprocessing.py:194\u001b[0m\n",
      "      │                 ├─ \u001b[92m\u001b[2m11.704\u001b[0m [self]\u001b[0m  \u001b[2mNone\u001b[0m\n",
      "      │                 └─ \u001b[92m\u001b[2m10.627\u001b[0m \u001b[48;5;24m\u001b[38;5;15mget_subgraph\u001b[0m  \u001b[2mDataPipeline\\preprocessing.py:155\u001b[0m\n",
      "      └─ \u001b[92m\u001b[2m35.772\u001b[0m collect\u001b[0m  \u001b[2mNone\u001b[0m\n",
      "            [2 frames hidden]  \u001b[2m<built-in>\u001b[0m\n",
      "\n",
      "\n"
     ]
    }
   ],
   "source": [
    "# Profile the training  \n",
    "\n",
    "profiler = pyinstrument.Profiler()\n",
    "\n",
    "profiler.start()\n",
    "TrainingGNN1.train()\n",
    "profiler.stop()\n",
    "\n",
    "print(profiler.output_text(unicode=True, color=True))"
   ]
  }
 ],
 "metadata": {
  "kernelspec": {
   "display_name": "torch-geometric",
   "language": "python",
   "name": "python3"
  },
  "language_info": {
   "codemirror_mode": {
    "name": "ipython",
    "version": 3
   },
   "file_extension": ".py",
   "mimetype": "text/x-python",
   "name": "python",
   "nbconvert_exporter": "python",
   "pygments_lexer": "ipython3",
   "version": "3.10.9"
  },
  "orig_nbformat": 4
 },
 "nbformat": 4,
 "nbformat_minor": 2
}
