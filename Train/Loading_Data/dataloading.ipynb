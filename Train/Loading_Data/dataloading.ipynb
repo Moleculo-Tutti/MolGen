{
 "cells": [
  {
   "cell_type": "code",
   "execution_count": 1,
   "metadata": {},
   "outputs": [],
   "source": [
    "import torch\n",
    "import os\n",
    "import random\n",
    "\n",
    "import torch_geometric\n",
    "\n",
    "\n",
    "from tqdm.notebook import tqdm_notebook\n",
    "\n",
    "from torch_geometric.data import Data, Batch\n",
    "\n",
    "from pathlib import Path\n",
    "\n",
    "import zstandard as zstd\n",
    "from io import BytesIO"
   ]
  },
  {
   "cell_type": "code",
   "execution_count": 2,
   "metadata": {},
   "outputs": [],
   "source": [
    "def load_compressed_batch(file_path):\n",
    "    with open(file_path, 'rb') as f:\n",
    "        dctx = zstd.ZstdDecompressor()\n",
    "        decompressor = dctx.decompressobj()\n",
    "        decompressed_data = decompressor.decompress(f.read())\n",
    "        decompressed_buffer = BytesIO(decompressed_data)\n",
    "        graph_batch = torch.load(decompressed_buffer)\n",
    "\n",
    "    return graph_batch"
   ]
  },
  {
   "cell_type": "code",
   "execution_count": 3,
   "metadata": {},
   "outputs": [],
   "source": [
    "def load_all_and_merge(number_reference_dict, data_dir):\n",
    "    \"\"\"\n",
    "    Args:\n",
    "        number_reference_dict: dictionary with keys as atom letters and values as the reference number batch to load\n",
    "    \"\"\"\n",
    "    all_graphs = []\n",
    "    for key, value in tqdm_notebook(number_reference_dict.items()):\n",
    "        subdir_list = os.listdir(data_dir / key)\n",
    "        #get the path of the batch with the reference number among the subdir_list\n",
    "        for subdir in subdir_list:\n",
    "            if value == subdir.split('_')[-1].split('.')[0]:\n",
    "                batch_path = data_dir / key / subdir\n",
    "                break\n",
    "\n",
    "        graph_batch = load_compressed_batch(batch_path)\n",
    "        all_graphs += graph_batch.to_data_list()\n",
    "    \n",
    "    #shuffling the list of graphs\n",
    "    random.shuffle(all_graphs)\n",
    "\n",
    "    return all_graphs\n",
    "    "
   ]
  },
  {
   "cell_type": "code",
   "execution_count": 20,
   "metadata": {},
   "outputs": [],
   "source": [
    "def merge_under_represented(atom_letter, first_number, final_number, data_dir):\n",
    "    graph_list = []\n",
    "    for i in tqdm_notebook(range(first_number, final_number + 1)):\n",
    "        subdir = data_dir / atom_letter / '{}10000_{}.zst'.format(atom_letter, i)\n",
    "        graph_batch = load_compressed_batch(subdir)\n",
    "        graph_list += graph_batch.to_data_list()\n",
    "    \n",
    "    graph_batch = Batch.from_data_list(graph_list)\n",
    "    return graph_batch  \n",
    "    \n",
    "def save_graph_batch_zst(graph_batch, file_path):\n",
    "    with open(file_path, 'wb') as f:\n",
    "            cctx = zstd.ZstdCompressor()\n",
    "            compressor = cctx.stream_writer(f)\n",
    "            torch.save(graph_batch, compressor)\n",
    "            compressor.flush(zstd.FLUSH_FRAME)"
   ]
  },
  {
   "cell_type": "code",
   "execution_count": 39,
   "metadata": {},
   "outputs": [
    {
     "data": {
      "application/vnd.jupyter.widget-view+json": {
       "model_id": "81cd4a6a05204a119e6fafb608739b38",
       "version_major": 2,
       "version_minor": 0
      },
      "text/plain": [
       "  0%|          | 0/10 [00:00<?, ?it/s]"
      ]
     },
     "metadata": {},
     "output_type": "display_data"
    }
   ],
   "source": [
    "data_dir = Path('..') / '..' / 'DataPipeline' / 'data' / 'prepared_dataset'\n",
    "graph_batch = merge_under_represented('F', 51, 60, data_dir)\n",
    "save_graph_batch_zst(graph_batch, data_dir / 'F' / 'F100000_6.zst')"
   ]
  },
  {
   "cell_type": "code",
   "execution_count": 22,
   "metadata": {},
   "outputs": [
    {
     "data": {
      "text/plain": [
       "DataBatch(x=[1303092, 7], edge_index=[2, 2623676], edge_attr=[2623676, 4], y=[700000], batch=[1303092], ptr=[100001])"
      ]
     },
     "execution_count": 22,
     "metadata": {},
     "output_type": "execute_result"
    }
   ],
   "source": [
    "graph_batch"
   ]
  },
  {
   "cell_type": "code",
   "execution_count": 12,
   "metadata": {},
   "outputs": [],
   "source": [
    "number_reference_dict = {'C' : '123', 'N' : '24', 'O' : '27', 'S' : '25', 'F' : '26', 'Cl' : '26', 'stop' : '525'}\n",
    "\n",
    "data_dir = Path('..') / '..' / 'DataPipeline' / 'data' / 'prepared_dataset'\n",
    "\n"
   ]
  },
  {
   "cell_type": "code",
   "execution_count": 13,
   "metadata": {},
   "outputs": [
    {
     "data": {
      "application/vnd.jupyter.widget-view+json": {
       "model_id": "f5221095990142fba43f6177f96b2efa",
       "version_major": 2,
       "version_minor": 0
      },
      "text/plain": [
       "  0%|          | 0/7 [00:00<?, ?it/s]"
      ]
     },
     "metadata": {},
     "output_type": "display_data"
    }
   ],
   "source": [
    "all_graphs = load_all_and_merge(number_reference_dict, data_dir)"
   ]
  },
  {
   "cell_type": "code",
   "execution_count": 18,
   "metadata": {},
   "outputs": [
    {
     "data": {
      "text/plain": [
       "430000"
      ]
     },
     "execution_count": 18,
     "metadata": {},
     "output_type": "execute_result"
    }
   ],
   "source": [
    "len(all_graphs)"
   ]
  },
  {
   "cell_type": "code",
   "execution_count": 14,
   "metadata": {},
   "outputs": [],
   "source": [
    "def compute_average_y(graph_list):\n",
    "    y_list = []\n",
    "    for graph in graph_list:\n",
    "        y_list.append(graph.y)\n",
    "    y_list = torch.stack(y_list)\n",
    "    print(y_list)\n",
    "    return torch.sum(y_list, dim=0)"
   ]
  },
  {
   "cell_type": "code",
   "execution_count": 15,
   "metadata": {},
   "outputs": [],
   "source": [
    "def count_number_of_occurence(graph_list):\n",
    "    # for each label (between 1 and 7) count the number of occurence of the label 0.5 in the graph list \n",
    "    occurence_dict = {}\n",
    "    for graph in graph_list:\n",
    "        for i, label in enumerate(graph.y):\n",
    "            if label < 0.6 and label > 0.4:\n",
    "                if i in occurence_dict:\n",
    "                    occurence_dict[i] += 1\n",
    "                else:\n",
    "                    occurence_dict[i] = 1\n",
    "    return occurence_dict"
   ]
  },
  {
   "cell_type": "code",
   "execution_count": 16,
   "metadata": {},
   "outputs": [
    {
     "data": {
      "text/plain": [
       "{1: 4227, 2: 6909, 0: 5887, 4: 100, 3: 277, 5: 48}"
      ]
     },
     "execution_count": 16,
     "metadata": {},
     "output_type": "execute_result"
    }
   ],
   "source": [
    "count_number_of_occurence(all_graphs)"
   ]
  },
  {
   "cell_type": "code",
   "execution_count": 17,
   "metadata": {},
   "outputs": [
    {
     "name": "stdout",
     "output_type": "stream",
     "text": [
      "tensor([[1., 0., 0.,  ..., 0., 0., 0.],\n",
      "        [0., 0., 1.,  ..., 0., 0., 0.],\n",
      "        [0., 0., 0.,  ..., 0., 0., 1.],\n",
      "        ...,\n",
      "        [0., 0., 1.,  ..., 0., 0., 0.],\n",
      "        [0., 0., 0.,  ..., 0., 0., 1.],\n",
      "        [0., 0., 0.,  ..., 0., 0., 1.]])\n"
     ]
    },
    {
     "data": {
      "text/plain": [
       "tensor([101836.5000,  99431.5000,  98829.5000,   9940.5000,   9977.0000,\n",
       "          9985.0000, 100000.0000])"
      ]
     },
     "execution_count": 17,
     "metadata": {},
     "output_type": "execute_result"
    }
   ],
   "source": [
    "compute_average_y(all_graphs)"
   ]
  },
  {
   "cell_type": "code",
   "execution_count": 11,
   "metadata": {},
   "outputs": [
    {
     "data": {
      "text/plain": [
       "{1: 3580, 2: 4688, 0: 2203, 3: 219, 5: 44, 4: 54}"
      ]
     },
     "execution_count": 11,
     "metadata": {},
     "output_type": "execute_result"
    }
   ],
   "source": [
    "count_number_of_occurence(all_graphs)"
   ]
  },
  {
   "cell_type": "code",
   "execution_count": 7,
   "metadata": {},
   "outputs": [
    {
     "name": "stdout",
     "output_type": "stream",
     "text": [
      "tensor([[0., 0., 0.,  ..., 0., 0., 0.],\n",
      "        [1., 0., 0.,  ..., 0., 0., 0.],\n",
      "        [0., 0., 0.,  ..., 0., 0., 1.],\n",
      "        ...,\n",
      "        [0., 0., 0.,  ..., 0., 1., 0.],\n",
      "        [1., 0., 0.,  ..., 0., 0., 0.],\n",
      "        [0., 0., 0.,  ..., 0., 0., 1.]])\n"
     ]
    },
    {
     "data": {
      "text/plain": [
       "tensor([ 98898.5000,  98685.0000, 102313.0000, 100054.5000,  10027.0000,\n",
       "         10022.0000, 100000.0000])"
      ]
     },
     "execution_count": 7,
     "metadata": {},
     "output_type": "execute_result"
    }
   ],
   "source": [
    "compute_average_y(all_graphs)"
   ]
  },
  {
   "cell_type": "code",
   "execution_count": null,
   "metadata": {},
   "outputs": [],
   "source": []
  }
 ],
 "metadata": {
  "kernelspec": {
   "display_name": "torch_geometric",
   "language": "python",
   "name": "python3"
  },
  "language_info": {
   "codemirror_mode": {
    "name": "ipython",
    "version": 3
   },
   "file_extension": ".py",
   "mimetype": "text/x-python",
   "name": "python",
   "nbconvert_exporter": "python",
   "pygments_lexer": "ipython3",
   "version": "3.10.9"
  },
  "orig_nbformat": 4
 },
 "nbformat": 4,
 "nbformat_minor": 2
}
