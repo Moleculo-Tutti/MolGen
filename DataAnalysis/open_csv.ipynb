{
 "cells": [
  {
   "cell_type": "code",
   "execution_count": null,
   "metadata": {},
   "outputs": [],
   "source": [
    "import rdkit\n",
    "import pandas as pd"
   ]
  },
  {
   "cell_type": "code",
   "execution_count": null,
   "metadata": {},
   "outputs": [],
   "source": [
    "df_QM9 = pd.read_csv('qm9.csv')"
   ]
  },
  {
   "cell_type": "code",
   "execution_count": null,
   "metadata": {},
   "outputs": [],
   "source": [
    "df_Zinc = pd.read_csv('250k_rndm_zinc_drugs_clean_3.csv')\n",
    "df_Zinc['smiles'] = df_Zinc['smiles'].apply(lambda x: x[:-1])"
   ]
  },
  {
   "cell_type": "code",
   "execution_count": null,
   "metadata": {},
   "outputs": [],
   "source": [
    "df_Zinc.smiles[0]"
   ]
  },
  {
   "cell_type": "code",
   "execution_count": null,
   "metadata": {},
   "outputs": [],
   "source": [
    "import numpy as np\n",
    "import pandas as pd\n",
    "import matplotlib.pyplot as plt\n",
    "from rdkit import Chem\n",
    "from rdkit.Chem import rdchem\n",
    "from collections import Counter\n",
    "\n",
    "def get_cycle_lengths(smiles):\n",
    "    mol = Chem.MolFromSmiles(smiles)\n",
    "    cycle_lengths = [len(cycle) for cycle in Chem.GetSymmSSSR(mol)]\n",
    "    return cycle_lengths\n",
    "\n",
    "def get_molecule_size(smiles):\n",
    "    mol = Chem.MolFromSmiles(smiles)\n",
    "    return mol.GetNumAtoms()"
   ]
  },
  {
   "cell_type": "code",
   "execution_count": null,
   "metadata": {},
   "outputs": [],
   "source": [
    "df_QM9['CycleLengths'] = df_QM9['smiles'].apply(get_cycle_lengths)\n",
    "df_QM9['MolSize'] = df_QM9['smiles'].apply(get_molecule_size)\n",
    "\n",
    "df_Zinc['CycleLengths'] = df_Zinc['smiles'].apply(get_cycle_lengths)\n",
    "df_Zinc['MolSize'] = df_Zinc['smiles'].apply(get_molecule_size)"
   ]
  },
  {
   "cell_type": "code",
   "execution_count": null,
   "metadata": {},
   "outputs": [],
   "source": [
    "from rdkit.Chem import Draw\n",
    "\n",
    "def plot_molecules(smiles_list, mols_per_row=10):\n",
    "    # Convert SMILES strings to RDKit Molecules\n",
    "    mols = [Chem.MolFromSmiles(smiles) for smiles in smiles_list]\n",
    "    \n",
    "    # Draw the molecules and display the image\n",
    "    img = Draw.MolsToGridImage(mols, molsPerRow=mols_per_row, subImgSize=(250, 250), useSVG=True)\n",
    "    \n",
    "    return img\n",
    "\n"
   ]
  },
  {
   "cell_type": "code",
   "execution_count": null,
   "metadata": {},
   "outputs": [],
   "source": [
    "def plot_histogram_for_cycle_length_over_mol_size(data, cycle_length):\n",
    "    # Filter the data to include only molecules with the given cycle length\n",
    "    filtered_data = data[data['CycleLengths'].apply(lambda x: cycle_length in x)]\n",
    "\n",
    "    # Calculate the ratio of the cycle count to the molecule size\n",
    "    filtered_data['CycleSizeRatio'] = filtered_data['CycleLengths'].apply(lambda x: x.count(cycle_length)) / filtered_data['MolSize']\n",
    "\n",
    "    # Plot the histogram\n",
    "    filtered_data['CycleSizeRatio'].plot.hist(bins=20)\n",
    "    plt.xlabel(f\"Cycle Count / Molecule Size (Cycle Length: {cycle_length})\")\n",
    "    plt.ylabel(\"Frequency\")\n",
    "    plt.title(f\"Distribution of Cycle Count / Molecule Size for Cycle Length {cycle_length} in QM9 Dataset\")\n",
    "    plt.show()"
   ]
  },
  {
   "cell_type": "code",
   "execution_count": null,
   "metadata": {},
   "outputs": [],
   "source": [
    "# Plot histograms for cycle length in different rows of the same figure\n",
    "def plot_histograms(data):\n",
    "    fig, axs = plt.subplots(3, 2, figsize=(10, 10))\n",
    "    axs[0, 0].hist(data['CycleLengths'].apply(lambda x: x.count(3)), bins=20)\n",
    "    axs[0, 0].set_title('Cycle Length 3')\n",
    "    axs[0, 1].hist(data['CycleLengths'].apply(lambda x: x.count(4)), bins=20)\n",
    "    axs[0, 1].set_title('Cycle Length 4')\n",
    "    axs[1, 0].hist(data['CycleLengths'].apply(lambda x: x.count(5)), bins=20)\n",
    "    axs[1, 0].set_title('Cycle Length 5')\n",
    "    axs[1, 1].hist(data['CycleLengths'].apply(lambda x: x.count(6)), bins=20)\n",
    "    axs[1, 1].set_title('Cycle Length 6')\n",
    "    axs[2, 0].hist(data['CycleLengths'].apply(lambda x: x.count(7)), bins=20)\n",
    "    axs[2, 0].set_title('Cycle Length 7')\n",
    "    axs[2, 1].hist(data['CycleLengths'].apply(lambda x: x.count(8)), bins=20)\n",
    "    axs[2, 1].set_title('Cycle Length 8')\n",
    "    plt.show()\n"
   ]
  },
  {
   "cell_type": "code",
   "execution_count": null,
   "metadata": {},
   "outputs": [],
   "source": [
    "plot_histograms(df_QM9)"
   ]
  },
  {
   "cell_type": "code",
   "execution_count": null,
   "metadata": {},
   "outputs": [],
   "source": [
    "plot_histograms(df_Zinc)"
   ]
  },
  {
   "cell_type": "code",
   "execution_count": null,
   "metadata": {},
   "outputs": [],
   "source": [
    "# Plot the distribution of the type of atom in the molecules\n",
    "\n",
    "def get_atom_counts(smiles):\n",
    "    mol = Chem.MolFromSmiles(smiles)\n",
    "    return Counter([atom.GetSymbol() for atom in mol.GetAtoms()])\n",
    "\n",
    "df_QM9['AtomCounts'] = df_QM9['smiles'].apply(get_atom_counts)\n",
    "\n",
    "df_QM9['AtomCounts'].apply(pd.Series).fillna(0).astype(int).sum().plot.bar()\n",
    "\n",
    "\n"
   ]
  },
  {
   "cell_type": "code",
   "execution_count": null,
   "metadata": {},
   "outputs": [],
   "source": [
    "df_Zinc['AtomCounts'] = df_Zinc['smiles'].apply(get_atom_counts)\n",
    "\n",
    "df_Zinc['AtomCounts'].apply(pd.Series).fillna(0).astype(int).sum().plot.bar()"
   ]
  },
  {
   "cell_type": "code",
   "execution_count": null,
   "metadata": {},
   "outputs": [],
   "source": [
    "def count_bonding_types(smiles):\n",
    "    mol = Chem.MolFromSmiles(smiles)\n",
    "    return Counter([bond.GetBondType() for bond in mol.GetBonds()])\n"
   ]
  },
  {
   "cell_type": "code",
   "execution_count": null,
   "metadata": {},
   "outputs": [],
   "source": [
    "df_QM9['BondingTypes'] = df_QM9['smiles'].apply(count_bonding_types)\n",
    "\n",
    "df_Zinc['BondingTypes'] = df_Zinc['smiles'].apply(count_bonding_types)"
   ]
  },
  {
   "cell_type": "code",
   "execution_count": null,
   "metadata": {},
   "outputs": [],
   "source": [
    "df_QM9['BondingTypes'].apply(pd.Series).fillna(0).astype(int).sum().plot.bar()\n"
   ]
  },
  {
   "cell_type": "code",
   "execution_count": null,
   "metadata": {},
   "outputs": [],
   "source": [
    "df_Zinc['BondingTypes'].apply(pd.Series).fillna(0).astype(int).sum().plot.bar()"
   ]
  },
  {
   "cell_type": "code",
   "execution_count": null,
   "metadata": {},
   "outputs": [],
   "source": [
    "# plot size distribution of molecules\n",
    "\n",
    "df_QM9['MolSize'].plot.hist(bins=20)\n",
    "\n",
    "df_Zinc['MolSize'].plot.hist(bins=20)"
   ]
  },
  {
   "cell_type": "code",
   "execution_count": null,
   "metadata": {},
   "outputs": [],
   "source": [
    "\n",
    "\n",
    "def get_distribution_bonds(smiles, atom_type):\n",
    "    #count the number of each type of bound for the given atom type\n",
    "    #count  hydrogen as a bound\n",
    "    mol = Chem.MolFromSmiles(smiles)\n",
    "    return Counter([bond.GetBondType() for bond in mol.GetBonds() if bond.GetBeginAtom().GetSymbol() == atom_type])\n",
    "    \n",
    "\n",
    "\n",
    "\n",
    "def plot_distribution_neighbors_for_each_atom_type(data):\n",
    "    \n",
    "    atom_list = ['C', 'O', 'N', 'S', 'F']\n",
    "    fig, axs = plt.subplots(3, 2, figsize=(10, 10))\n",
    "    possible_values = [1, 12, 2, 3]\n",
    "    for i, atom in enumerate(atom_list):\n",
    "        data['AtomCounts'] = data['smiles'].apply(lambda x: get_distribution_bonds(x, atom))\n",
    "        atom_counts_series = data['AtomCounts'].apply(pd.Series).fillna(0).astype(int).sum()\n",
    "        \n",
    "        # Get the bond count for each possible value in the specified order\n",
    "        height = [atom_counts_series.get(value, 0) for value in possible_values]\n",
    "\n",
    "        ax = axs[i // 2, i % 2]  # Get the correct subplot (ax) for the current atom\n",
    "        ax.bar(possible_values, height)\n",
    "        ax.set_title(f'Distribution of Number of Neighbors for {atom}')\n",
    "        ax.set_xticks(possible_values)  # Set x-axis ticks to show the possible values\n",
    "    fig.tight_layout()  # Adjust the layout for better visualization\n",
    "    plt.show()\n",
    "    return data"
   ]
  },
  {
   "cell_type": "code",
   "execution_count": null,
   "metadata": {},
   "outputs": [],
   "source": [
    "df_QM9['BondingTypes_ox'] = df_QM9['smiles'].apply(lambda x: get_distribution_bonds(x,atom_type = 'O'))\n",
    "df_QM9['BondingTypes_ox'].apply(pd.Series).fillna(0).astype(int).sum().plot.bar()\n"
   ]
  },
  {
   "cell_type": "code",
   "execution_count": null,
   "metadata": {},
   "outputs": [],
   "source": [
    "#make a function to draw a molecule that have a bound of type 12 for an atom 'O'\n",
    "\n",
    "def draw_molecule_with_bond_type(data, atom_type, bond_type):\n",
    "    for smiles in data['smiles']:\n",
    "        \n",
    "        mol = Chem.MolFromSmiles(smiles)\n",
    "        for bond in mol.GetBonds():\n",
    "            if bond.GetBeginAtom().GetSymbol() == atom_type and bond.GetBondType() == bond_type:\n",
    "                print(smiles)\n",
    "                return Draw.MolToImage(mol, highlightAtoms=[bond.GetBeginAtomIdx(), bond.GetEndAtomIdx()], highlightBonds=[bond.GetIdx()], useSVG=True)\n",
    "    return None"
   ]
  },
  {
   "cell_type": "code",
   "execution_count": null,
   "metadata": {},
   "outputs": [],
   "source": [
    "data = plot_distribution_neighbors_for_each_atom_type(df_QM9)"
   ]
  },
  {
   "cell_type": "code",
   "execution_count": null,
   "metadata": {},
   "outputs": [],
   "source": [
    "data = plot_distribution_neighbors_for_each_atom_type(df_Zinc)"
   ]
  },
  {
   "cell_type": "code",
   "execution_count": null,
   "metadata": {},
   "outputs": [],
   "source": [
    "# Plot the number of oxygen at the center of the molecule and at the end of the molecule\n",
    "\n",
    "def get_oxygen_double_bonds(data):\n",
    "    oxygen_double_bonds = []\n",
    "    for smiles in data['smiles']:\n",
    "        mol = Chem.MolFromSmiles(smiles)\n",
    "        for atom in mol.GetAtoms():\n",
    "            if atom.GetSymbol() == 'O':\n",
    "                neighbors = atom.GetNeighbors()\n",
    "                if len(neighbors) == 2:\n",
    "                    oxygen_double_bonds.append(0)\n",
    "                else:\n",
    "                    oxygen_double_bonds.append(1)\n",
    "\n",
    "    # compute the proportion of oxygen atoms with double bonds  \n",
    "    return oxygen_double_bonds.count(1) / len(oxygen_double_bonds), oxygen_double_bonds.count(0) / len(oxygen_double_bonds)\n"
   ]
  },
  {
   "cell_type": "code",
   "execution_count": null,
   "metadata": {},
   "outputs": [],
   "source": [
    "get_oxygen_double_bonds(df_QM9)\n",
    "get_oxygen_double_bonds(df_Zinc)"
   ]
  },
  {
   "cell_type": "code",
   "execution_count": null,
   "metadata": {},
   "outputs": [],
   "source": [
    "get_oxygen_double_bonds"
   ]
  }
 ],
 "metadata": {
  "kernelspec": {
   "display_name": "torch_geometric",
   "language": "python",
   "name": "python3"
  },
  "language_info": {
   "codemirror_mode": {
    "name": "ipython",
    "version": 3
   },
   "file_extension": ".py",
   "mimetype": "text/x-python",
   "name": "python",
   "nbconvert_exporter": "python",
   "pygments_lexer": "ipython3",
   "version": "3.10.9"
  },
  "orig_nbformat": 4
 },
 "nbformat": 4,
 "nbformat_minor": 2
}
